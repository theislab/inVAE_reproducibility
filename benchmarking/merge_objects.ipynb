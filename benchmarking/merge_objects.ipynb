{
 "cells": [
  {
   "cell_type": "markdown",
   "id": "a491d771-7cd1-4601-a796-24f61632b1ff",
   "metadata": {},
   "source": [
    "# Changes to apply:  \n",
    "    * Add updated harmony results\n",
    "    * Add new scmerge2 results without using ctl and run PCA (n_dims=25)\n",
    "    * Add combat results and run PCA (n_dims=25)\n",
    "    "
   ]
  },
  {
   "cell_type": "code",
   "execution_count": 1,
   "id": "9041b3a4-74e2-4be4-a358-3472183fffe1",
   "metadata": {
    "tags": []
   },
   "outputs": [],
   "source": [
    "import numpy as np\n",
    "import scanpy as sc\n",
    "\n",
    "import scib\n",
    "import gc\n",
    "\n",
    "import pandas as pd\n",
    "%matplotlib inline"
   ]
  },
  {
   "cell_type": "code",
   "execution_count": 2,
   "id": "22bf520b-4e05-404c-8c07-7abc8615bbc1",
   "metadata": {
    "tags": []
   },
   "outputs": [],
   "source": [
    "adata = sc.read('/lustre/scratch127/cellgen/cellgeni/tickets/tic-3135/objs_heart/_adata_allresults5.h5ad')"
   ]
  },
  {
   "cell_type": "code",
   "execution_count": 3,
   "id": "31977726-88bc-4443-98de-da90fbf1d2ec",
   "metadata": {
    "tags": []
   },
   "outputs": [
    {
     "data": {
      "text/plain": [
       "AnnData object with n_obs × n_vars = 284727 × 5000\n",
       "    obs: 'Sample', 'donor_id', 'Region_x', 'Primary.Genetic.Diagnosis', 'n_genes', 'n_counts', 'percent_mito', 'percent_ribo', 'scrublet_score_z', 'scrublet_score_log', 'solo_score', 'cell_states', 'Assigned', 'self_reported_ethnicity_ontology_term_id', 'disease_ontology_term_id', 'cell_type_ontology_term_id', 'sex_ontology_term_id', 'assay_ontology_term_id', 'organism_ontology_term_id', 'is_primary_data', 'tissue_ontology_term_id', 'development_stage_ontology_term_id', 'suspension_type', 'cell_type', 'assay', 'disease', 'organism', 'sex', 'tissue', 'self_reported_ethnicity', 'development_stage', 'disease_renamed', 'disease_short', 'celltype_disease'\n",
       "    var: 'feature_is_filtered', 'feature_name', 'feature_reference', 'feature_biotype', 'highly_variable', 'highly_variable_rank', 'means', 'variances', 'variances_norm', 'ENS'\n",
       "    uns: 'Primary.Genetic.Diagnosis_colors', 'Region_x_colors', 'cell_states_colors', 'cell_type_colors', 'cell_type_ontology_term_id_colors', 'disease_colors', 'hvg', 'leiden', 'neighbors', 'pca', 'schema_version', 'title', 'umap'\n",
       "    obsm: 'X_FinVAE', 'X_combat_pca', 'X_fastmnn', 'X_harmony', 'X_pca', 'X_scVI', 'X_scanorama', 'X_scanorama2', 'X_scdisinfact', 'X_scmerge2_pca', 'X_scmerge_pca', 'X_scpoli'\n",
       "    varm: 'PCs'\n",
       "    layers: 'counts'"
      ]
     },
     "execution_count": 3,
     "metadata": {},
     "output_type": "execute_result"
    }
   ],
   "source": [
    "adata"
   ]
  },
  {
   "cell_type": "markdown",
   "id": "907ae651-f524-4a03-94a8-e6b61fe90992",
   "metadata": {},
   "source": [
    "## Load scanorama object"
   ]
  },
  {
   "cell_type": "code",
   "execution_count": 4,
   "id": "d4639899-ce0e-4cce-a281-4ef895ede1b6",
   "metadata": {
    "tags": []
   },
   "outputs": [],
   "source": [
    "ad = sc.read('/lustre/scratch127/cellgen/cellgeni/tickets/tic-3135/adata_scanorama_notfinal_oct24_d25.h5ad')"
   ]
  },
  {
   "cell_type": "code",
   "execution_count": 5,
   "id": "80b021ae-f04c-4ff5-a627-41a11dd84b82",
   "metadata": {
    "tags": []
   },
   "outputs": [
    {
     "data": {
      "text/plain": [
       "AnnData object with n_obs × n_vars = 284727 × 5000\n",
       "    obs: 'Sample', 'donor_id', 'Region_x', 'Primary.Genetic.Diagnosis', 'n_genes', 'n_counts', 'percent_mito', 'percent_ribo', 'scrublet_score_z', 'scrublet_score_log', 'solo_score', 'cell_states', 'Assigned', 'self_reported_ethnicity_ontology_term_id', 'disease_ontology_term_id', 'cell_type_ontology_term_id', 'sex_ontology_term_id', 'assay_ontology_term_id', 'organism_ontology_term_id', 'is_primary_data', 'tissue_ontology_term_id', 'development_stage_ontology_term_id', 'suspension_type', 'cell_type', 'assay', 'disease', 'organism', 'sex', 'tissue', 'self_reported_ethnicity', 'development_stage', 'disease_renamed'\n",
       "    var: 'feature_is_filtered', 'feature_name', 'feature_reference', 'feature_biotype', 'highly_variable', 'highly_variable_rank', 'means', 'variances', 'variances_norm', 'ENS'\n",
       "    uns: 'Primary.Genetic.Diagnosis_colors', 'Region_x_colors', 'cell_states_colors', 'cell_type_colors', 'cell_type_ontology_term_id_colors', 'disease_colors', 'hvg', 'leiden', 'neighbors', 'pca', 'schema_version', 'title', 'umap'\n",
       "    obsm: 'X_pca', 'X_scanorama', 'X_umap'\n",
       "    layers: 'counts'"
      ]
     },
     "execution_count": 5,
     "metadata": {},
     "output_type": "execute_result"
    }
   ],
   "source": [
    "ad"
   ]
  },
  {
   "cell_type": "code",
   "execution_count": 6,
   "id": "c670dbc6-39e2-48c4-9d8b-91190b22d96f",
   "metadata": {
    "tags": []
   },
   "outputs": [],
   "source": [
    "adata.obsm['X_scanorama'] = ad.obsm['X_scanorama']"
   ]
  },
  {
   "cell_type": "code",
   "execution_count": 8,
   "id": "3f6bc582-8cb6-4485-a553-460c55d67c5b",
   "metadata": {
    "tags": []
   },
   "outputs": [
    {
     "data": {
      "text/plain": [
       "AnnData object with n_obs × n_vars = 284727 × 5000\n",
       "    obs: 'Sample', 'donor_id', 'Region_x', 'Primary.Genetic.Diagnosis', 'n_genes', 'n_counts', 'percent_mito', 'percent_ribo', 'scrublet_score_z', 'scrublet_score_log', 'solo_score', 'cell_states', 'Assigned', 'self_reported_ethnicity_ontology_term_id', 'disease_ontology_term_id', 'cell_type_ontology_term_id', 'sex_ontology_term_id', 'assay_ontology_term_id', 'organism_ontology_term_id', 'is_primary_data', 'tissue_ontology_term_id', 'development_stage_ontology_term_id', 'suspension_type', 'cell_type', 'assay', 'disease', 'organism', 'sex', 'tissue', 'self_reported_ethnicity', 'development_stage', 'disease_renamed', 'disease_short', 'celltype_disease'\n",
       "    var: 'feature_is_filtered', 'feature_name', 'feature_reference', 'feature_biotype', 'highly_variable', 'highly_variable_rank', 'means', 'variances', 'variances_norm', 'ENS'\n",
       "    uns: 'Primary.Genetic.Diagnosis_colors', 'Region_x_colors', 'cell_states_colors', 'cell_type_colors', 'cell_type_ontology_term_id_colors', 'disease_colors', 'hvg', 'leiden', 'neighbors', 'pca', 'schema_version', 'title', 'umap'\n",
       "    obsm: 'X_FinVAE', 'X_combat_pca', 'X_fastmnn', 'X_harmony', 'X_pca', 'X_scVI', 'X_scanorama', 'X_scanorama2', 'X_scdisinfact', 'X_scmerge2_pca', 'X_scmerge_pca', 'X_scpoli'\n",
       "    varm: 'PCs'\n",
       "    layers: 'counts'"
      ]
     },
     "execution_count": 8,
     "metadata": {},
     "output_type": "execute_result"
    }
   ],
   "source": [
    "adata"
   ]
  },
  {
   "cell_type": "code",
   "execution_count": 9,
   "id": "4a1d3677-02cf-41d0-a891-392286dca810",
   "metadata": {
    "tags": []
   },
   "outputs": [],
   "source": [
    "del adata.obsm['X_scanorama2']"
   ]
  },
  {
   "cell_type": "code",
   "execution_count": 10,
   "id": "29052ca0-f3f2-48a7-b337-d930f5a36c26",
   "metadata": {
    "tags": []
   },
   "outputs": [
    {
     "data": {
      "text/plain": [
       "42"
      ]
     },
     "execution_count": 10,
     "metadata": {},
     "output_type": "execute_result"
    }
   ],
   "source": [
    "del ad\n",
    "gc.collect()"
   ]
  },
  {
   "cell_type": "markdown",
   "id": "bd467090-3060-4292-b782-035457676585",
   "metadata": {},
   "source": [
    "## Load new scmerge output matrix"
   ]
  },
  {
   "cell_type": "code",
   "execution_count": 11,
   "id": "2c20bf13-ad66-48d8-91ee-7d883011fd9e",
   "metadata": {
    "tags": []
   },
   "outputs": [],
   "source": [
    "scmerge = pd.read_csv(\"../scmerge2_newmatrix_sep24_noctl.csv\", low_memory=False)"
   ]
  },
  {
   "cell_type": "code",
   "execution_count": 12,
   "id": "e8a92351-3f48-4f45-a95e-dde52989e4dd",
   "metadata": {
    "tags": []
   },
   "outputs": [
    {
     "data": {
      "text/html": [
       "<div>\n",
       "<style scoped>\n",
       "    .dataframe tbody tr th:only-of-type {\n",
       "        vertical-align: middle;\n",
       "    }\n",
       "\n",
       "    .dataframe tbody tr th {\n",
       "        vertical-align: top;\n",
       "    }\n",
       "\n",
       "    .dataframe thead th {\n",
       "        text-align: right;\n",
       "    }\n",
       "</style>\n",
       "<table border=\"1\" class=\"dataframe\">\n",
       "  <thead>\n",
       "    <tr style=\"text-align: right;\">\n",
       "      <th></th>\n",
       "      <th>Unnamed: 0</th>\n",
       "      <th>X381331</th>\n",
       "      <th>X406261</th>\n",
       "      <th>X234184</th>\n",
       "      <th>X190094</th>\n",
       "      <th>X534454</th>\n",
       "      <th>X654746</th>\n",
       "      <th>X625015</th>\n",
       "      <th>X724704</th>\n",
       "      <th>X101637</th>\n",
       "      <th>...</th>\n",
       "      <th>X169058</th>\n",
       "      <th>X191052</th>\n",
       "      <th>X655071</th>\n",
       "      <th>X183895</th>\n",
       "      <th>X348397</th>\n",
       "      <th>X773747</th>\n",
       "      <th>X214900</th>\n",
       "      <th>X324923</th>\n",
       "      <th>X694678</th>\n",
       "      <th>X349099</th>\n",
       "    </tr>\n",
       "  </thead>\n",
       "  <tbody>\n",
       "    <tr>\n",
       "      <th>0</th>\n",
       "      <td>OR4F5</td>\n",
       "      <td>0.000000e+00</td>\n",
       "      <td>0.000000</td>\n",
       "      <td>0.000000</td>\n",
       "      <td>0.000000e+00</td>\n",
       "      <td>0.000000</td>\n",
       "      <td>0.000000</td>\n",
       "      <td>0.000000</td>\n",
       "      <td>0.000000</td>\n",
       "      <td>0.000000e+00</td>\n",
       "      <td>...</td>\n",
       "      <td>0.000000e+00</td>\n",
       "      <td>0.000000</td>\n",
       "      <td>0.000000e+00</td>\n",
       "      <td>0.000000</td>\n",
       "      <td>0.000000e+00</td>\n",
       "      <td>0.000000</td>\n",
       "      <td>0.000000</td>\n",
       "      <td>0.000000e+00</td>\n",
       "      <td>0.000000e+00</td>\n",
       "      <td>0.000000</td>\n",
       "    </tr>\n",
       "    <tr>\n",
       "      <th>1</th>\n",
       "      <td>RP4-669L17.2</td>\n",
       "      <td>3.216897e-06</td>\n",
       "      <td>0.000011</td>\n",
       "      <td>0.000007</td>\n",
       "      <td>3.979422e-06</td>\n",
       "      <td>-0.000005</td>\n",
       "      <td>-0.000010</td>\n",
       "      <td>0.000007</td>\n",
       "      <td>-0.000005</td>\n",
       "      <td>2.878349e-06</td>\n",
       "      <td>...</td>\n",
       "      <td>5.059387e-06</td>\n",
       "      <td>-0.000008</td>\n",
       "      <td>1.245987e-06</td>\n",
       "      <td>-0.000005</td>\n",
       "      <td>-7.032676e-06</td>\n",
       "      <td>0.000015</td>\n",
       "      <td>0.000006</td>\n",
       "      <td>-4.340483e-07</td>\n",
       "      <td>2.488814e-07</td>\n",
       "      <td>-0.000006</td>\n",
       "    </tr>\n",
       "    <tr>\n",
       "      <th>2</th>\n",
       "      <td>RP11-54O7.16</td>\n",
       "      <td>4.188518e-04</td>\n",
       "      <td>0.000744</td>\n",
       "      <td>0.000546</td>\n",
       "      <td>-1.577646e-03</td>\n",
       "      <td>-0.000490</td>\n",
       "      <td>0.000161</td>\n",
       "      <td>0.000273</td>\n",
       "      <td>-0.000171</td>\n",
       "      <td>2.845913e-04</td>\n",
       "      <td>...</td>\n",
       "      <td>-1.702080e-04</td>\n",
       "      <td>-0.000694</td>\n",
       "      <td>-3.754380e-04</td>\n",
       "      <td>-0.000209</td>\n",
       "      <td>-2.530890e-04</td>\n",
       "      <td>0.000256</td>\n",
       "      <td>0.000122</td>\n",
       "      <td>5.613140e-04</td>\n",
       "      <td>3.465255e-04</td>\n",
       "      <td>-0.000464</td>\n",
       "    </tr>\n",
       "    <tr>\n",
       "      <th>3</th>\n",
       "      <td>LINC02593</td>\n",
       "      <td>1.267021e-04</td>\n",
       "      <td>-0.000147</td>\n",
       "      <td>0.000049</td>\n",
       "      <td>1.912161e-04</td>\n",
       "      <td>-0.000032</td>\n",
       "      <td>-0.000108</td>\n",
       "      <td>0.000120</td>\n",
       "      <td>-0.000189</td>\n",
       "      <td>7.382098e-05</td>\n",
       "      <td>...</td>\n",
       "      <td>1.162996e-04</td>\n",
       "      <td>0.000004</td>\n",
       "      <td>9.512664e-05</td>\n",
       "      <td>-0.000114</td>\n",
       "      <td>-1.365306e-04</td>\n",
       "      <td>-0.000046</td>\n",
       "      <td>0.000108</td>\n",
       "      <td>1.109932e-04</td>\n",
       "      <td>6.646838e-05</td>\n",
       "      <td>-0.000080</td>\n",
       "    </tr>\n",
       "    <tr>\n",
       "      <th>4</th>\n",
       "      <td>RP11-54O7.17</td>\n",
       "      <td>3.038007e-03</td>\n",
       "      <td>-0.001059</td>\n",
       "      <td>0.000784</td>\n",
       "      <td>-2.109838e-03</td>\n",
       "      <td>0.000821</td>\n",
       "      <td>-0.000771</td>\n",
       "      <td>0.002546</td>\n",
       "      <td>0.000365</td>\n",
       "      <td>2.887411e-03</td>\n",
       "      <td>...</td>\n",
       "      <td>1.474954e-03</td>\n",
       "      <td>0.000646</td>\n",
       "      <td>-1.944372e-03</td>\n",
       "      <td>0.000253</td>\n",
       "      <td>-1.179318e-03</td>\n",
       "      <td>-0.002384</td>\n",
       "      <td>0.001201</td>\n",
       "      <td>7.464107e-04</td>\n",
       "      <td>1.700630e-03</td>\n",
       "      <td>-0.000152</td>\n",
       "    </tr>\n",
       "    <tr>\n",
       "      <th>...</th>\n",
       "      <td>...</td>\n",
       "      <td>...</td>\n",
       "      <td>...</td>\n",
       "      <td>...</td>\n",
       "      <td>...</td>\n",
       "      <td>...</td>\n",
       "      <td>...</td>\n",
       "      <td>...</td>\n",
       "      <td>...</td>\n",
       "      <td>...</td>\n",
       "      <td>...</td>\n",
       "      <td>...</td>\n",
       "      <td>...</td>\n",
       "      <td>...</td>\n",
       "      <td>...</td>\n",
       "      <td>...</td>\n",
       "      <td>...</td>\n",
       "      <td>...</td>\n",
       "      <td>...</td>\n",
       "      <td>...</td>\n",
       "      <td>...</td>\n",
       "    </tr>\n",
       "    <tr>\n",
       "      <th>4995</th>\n",
       "      <td>COL6A2</td>\n",
       "      <td>1.063854e-02</td>\n",
       "      <td>0.040394</td>\n",
       "      <td>0.060158</td>\n",
       "      <td>-1.900485e-02</td>\n",
       "      <td>0.002591</td>\n",
       "      <td>0.016819</td>\n",
       "      <td>-0.002186</td>\n",
       "      <td>0.009697</td>\n",
       "      <td>3.794503e-03</td>\n",
       "      <td>...</td>\n",
       "      <td>1.140699e-01</td>\n",
       "      <td>0.009213</td>\n",
       "      <td>-5.375517e-03</td>\n",
       "      <td>0.001592</td>\n",
       "      <td>2.971000e-03</td>\n",
       "      <td>0.034180</td>\n",
       "      <td>0.064338</td>\n",
       "      <td>7.964159e-03</td>\n",
       "      <td>1.551692e-02</td>\n",
       "      <td>0.002333</td>\n",
       "    </tr>\n",
       "    <tr>\n",
       "      <th>4996</th>\n",
       "      <td>S100B</td>\n",
       "      <td>5.295388e-04</td>\n",
       "      <td>-0.005585</td>\n",
       "      <td>-0.000731</td>\n",
       "      <td>1.313083e-03</td>\n",
       "      <td>0.001422</td>\n",
       "      <td>0.000906</td>\n",
       "      <td>0.000479</td>\n",
       "      <td>0.001102</td>\n",
       "      <td>-2.672284e-04</td>\n",
       "      <td>...</td>\n",
       "      <td>1.150449e-03</td>\n",
       "      <td>0.001541</td>\n",
       "      <td>2.244169e-03</td>\n",
       "      <td>0.001002</td>\n",
       "      <td>1.887903e-03</td>\n",
       "      <td>-0.003633</td>\n",
       "      <td>-0.000182</td>\n",
       "      <td>1.022888e-03</td>\n",
       "      <td>8.590907e-04</td>\n",
       "      <td>0.000768</td>\n",
       "    </tr>\n",
       "    <tr>\n",
       "      <th>4997</th>\n",
       "      <td>ENSG00000277761.1</td>\n",
       "      <td>-4.054745e-06</td>\n",
       "      <td>-0.000002</td>\n",
       "      <td>-0.000004</td>\n",
       "      <td>-8.838115e-08</td>\n",
       "      <td>0.000004</td>\n",
       "      <td>-0.000002</td>\n",
       "      <td>-0.000002</td>\n",
       "      <td>0.000005</td>\n",
       "      <td>-6.024662e-07</td>\n",
       "      <td>...</td>\n",
       "      <td>-1.227470e-06</td>\n",
       "      <td>0.000003</td>\n",
       "      <td>-2.045070e-06</td>\n",
       "      <td>0.000003</td>\n",
       "      <td>3.627574e-06</td>\n",
       "      <td>-0.000003</td>\n",
       "      <td>-0.000003</td>\n",
       "      <td>-3.100638e-06</td>\n",
       "      <td>-4.190295e-06</td>\n",
       "      <td>0.000006</td>\n",
       "    </tr>\n",
       "    <tr>\n",
       "      <th>4998</th>\n",
       "      <td>ENSG00000277400.1</td>\n",
       "      <td>-1.918703e-04</td>\n",
       "      <td>-0.000064</td>\n",
       "      <td>-0.000206</td>\n",
       "      <td>-8.579748e-05</td>\n",
       "      <td>0.000160</td>\n",
       "      <td>0.000102</td>\n",
       "      <td>-0.000258</td>\n",
       "      <td>0.000208</td>\n",
       "      <td>-1.562971e-04</td>\n",
       "      <td>...</td>\n",
       "      <td>-1.852961e-04</td>\n",
       "      <td>0.000221</td>\n",
       "      <td>-1.713138e-04</td>\n",
       "      <td>0.000152</td>\n",
       "      <td>1.599559e-04</td>\n",
       "      <td>-0.000124</td>\n",
       "      <td>-0.000172</td>\n",
       "      <td>-2.030360e-04</td>\n",
       "      <td>-1.194808e-04</td>\n",
       "      <td>0.000192</td>\n",
       "    </tr>\n",
       "    <tr>\n",
       "      <th>4999</th>\n",
       "      <td>ENSG00000276017.1</td>\n",
       "      <td>-4.726538e-07</td>\n",
       "      <td>-0.000012</td>\n",
       "      <td>-0.000006</td>\n",
       "      <td>-2.414504e-06</td>\n",
       "      <td>0.000002</td>\n",
       "      <td>0.000003</td>\n",
       "      <td>-0.000003</td>\n",
       "      <td>0.000009</td>\n",
       "      <td>-3.411728e-07</td>\n",
       "      <td>...</td>\n",
       "      <td>-8.155056e-07</td>\n",
       "      <td>0.000005</td>\n",
       "      <td>9.228317e-07</td>\n",
       "      <td>0.000002</td>\n",
       "      <td>7.494673e-07</td>\n",
       "      <td>-0.000014</td>\n",
       "      <td>-0.000005</td>\n",
       "      <td>2.036370e-06</td>\n",
       "      <td>-7.061941e-07</td>\n",
       "      <td>0.000002</td>\n",
       "    </tr>\n",
       "  </tbody>\n",
       "</table>\n",
       "<p>5000 rows × 284728 columns</p>\n",
       "</div>"
      ],
      "text/plain": [
       "             Unnamed: 0       X381331   X406261   X234184       X190094  \\\n",
       "0                 OR4F5  0.000000e+00  0.000000  0.000000  0.000000e+00   \n",
       "1          RP4-669L17.2  3.216897e-06  0.000011  0.000007  3.979422e-06   \n",
       "2          RP11-54O7.16  4.188518e-04  0.000744  0.000546 -1.577646e-03   \n",
       "3             LINC02593  1.267021e-04 -0.000147  0.000049  1.912161e-04   \n",
       "4          RP11-54O7.17  3.038007e-03 -0.001059  0.000784 -2.109838e-03   \n",
       "...                 ...           ...       ...       ...           ...   \n",
       "4995             COL6A2  1.063854e-02  0.040394  0.060158 -1.900485e-02   \n",
       "4996              S100B  5.295388e-04 -0.005585 -0.000731  1.313083e-03   \n",
       "4997  ENSG00000277761.1 -4.054745e-06 -0.000002 -0.000004 -8.838115e-08   \n",
       "4998  ENSG00000277400.1 -1.918703e-04 -0.000064 -0.000206 -8.579748e-05   \n",
       "4999  ENSG00000276017.1 -4.726538e-07 -0.000012 -0.000006 -2.414504e-06   \n",
       "\n",
       "       X534454   X654746   X625015   X724704       X101637  ...       X169058  \\\n",
       "0     0.000000  0.000000  0.000000  0.000000  0.000000e+00  ...  0.000000e+00   \n",
       "1    -0.000005 -0.000010  0.000007 -0.000005  2.878349e-06  ...  5.059387e-06   \n",
       "2    -0.000490  0.000161  0.000273 -0.000171  2.845913e-04  ... -1.702080e-04   \n",
       "3    -0.000032 -0.000108  0.000120 -0.000189  7.382098e-05  ...  1.162996e-04   \n",
       "4     0.000821 -0.000771  0.002546  0.000365  2.887411e-03  ...  1.474954e-03   \n",
       "...        ...       ...       ...       ...           ...  ...           ...   \n",
       "4995  0.002591  0.016819 -0.002186  0.009697  3.794503e-03  ...  1.140699e-01   \n",
       "4996  0.001422  0.000906  0.000479  0.001102 -2.672284e-04  ...  1.150449e-03   \n",
       "4997  0.000004 -0.000002 -0.000002  0.000005 -6.024662e-07  ... -1.227470e-06   \n",
       "4998  0.000160  0.000102 -0.000258  0.000208 -1.562971e-04  ... -1.852961e-04   \n",
       "4999  0.000002  0.000003 -0.000003  0.000009 -3.411728e-07  ... -8.155056e-07   \n",
       "\n",
       "       X191052       X655071   X183895       X348397   X773747   X214900  \\\n",
       "0     0.000000  0.000000e+00  0.000000  0.000000e+00  0.000000  0.000000   \n",
       "1    -0.000008  1.245987e-06 -0.000005 -7.032676e-06  0.000015  0.000006   \n",
       "2    -0.000694 -3.754380e-04 -0.000209 -2.530890e-04  0.000256  0.000122   \n",
       "3     0.000004  9.512664e-05 -0.000114 -1.365306e-04 -0.000046  0.000108   \n",
       "4     0.000646 -1.944372e-03  0.000253 -1.179318e-03 -0.002384  0.001201   \n",
       "...        ...           ...       ...           ...       ...       ...   \n",
       "4995  0.009213 -5.375517e-03  0.001592  2.971000e-03  0.034180  0.064338   \n",
       "4996  0.001541  2.244169e-03  0.001002  1.887903e-03 -0.003633 -0.000182   \n",
       "4997  0.000003 -2.045070e-06  0.000003  3.627574e-06 -0.000003 -0.000003   \n",
       "4998  0.000221 -1.713138e-04  0.000152  1.599559e-04 -0.000124 -0.000172   \n",
       "4999  0.000005  9.228317e-07  0.000002  7.494673e-07 -0.000014 -0.000005   \n",
       "\n",
       "           X324923       X694678   X349099  \n",
       "0     0.000000e+00  0.000000e+00  0.000000  \n",
       "1    -4.340483e-07  2.488814e-07 -0.000006  \n",
       "2     5.613140e-04  3.465255e-04 -0.000464  \n",
       "3     1.109932e-04  6.646838e-05 -0.000080  \n",
       "4     7.464107e-04  1.700630e-03 -0.000152  \n",
       "...            ...           ...       ...  \n",
       "4995  7.964159e-03  1.551692e-02  0.002333  \n",
       "4996  1.022888e-03  8.590907e-04  0.000768  \n",
       "4997 -3.100638e-06 -4.190295e-06  0.000006  \n",
       "4998 -2.030360e-04 -1.194808e-04  0.000192  \n",
       "4999  2.036370e-06 -7.061941e-07  0.000002  \n",
       "\n",
       "[5000 rows x 284728 columns]"
      ]
     },
     "execution_count": 12,
     "metadata": {},
     "output_type": "execute_result"
    }
   ],
   "source": [
    "scmerge"
   ]
  },
  {
   "cell_type": "code",
   "execution_count": 13,
   "id": "01d7b681-11ce-43ea-83e7-d189f942684b",
   "metadata": {
    "tags": []
   },
   "outputs": [],
   "source": [
    "scmerge.index = scmerge['Unnamed: 0']"
   ]
  },
  {
   "cell_type": "code",
   "execution_count": 14,
   "id": "f2ba2d41-a097-4fcd-8e87-e5501169a19e",
   "metadata": {
    "tags": []
   },
   "outputs": [],
   "source": [
    "scmerge = scmerge.drop(columns=['Unnamed: 0'])"
   ]
  },
  {
   "cell_type": "code",
   "execution_count": 15,
   "id": "fabcbc2f-c3c0-4dd3-9c53-5caab3065d3d",
   "metadata": {
    "tags": []
   },
   "outputs": [
    {
     "data": {
      "text/html": [
       "<div>\n",
       "<style scoped>\n",
       "    .dataframe tbody tr th:only-of-type {\n",
       "        vertical-align: middle;\n",
       "    }\n",
       "\n",
       "    .dataframe tbody tr th {\n",
       "        vertical-align: top;\n",
       "    }\n",
       "\n",
       "    .dataframe thead th {\n",
       "        text-align: right;\n",
       "    }\n",
       "</style>\n",
       "<table border=\"1\" class=\"dataframe\">\n",
       "  <thead>\n",
       "    <tr style=\"text-align: right;\">\n",
       "      <th></th>\n",
       "      <th>X381331</th>\n",
       "      <th>X406261</th>\n",
       "      <th>X234184</th>\n",
       "      <th>X190094</th>\n",
       "      <th>X534454</th>\n",
       "      <th>X654746</th>\n",
       "      <th>X625015</th>\n",
       "      <th>X724704</th>\n",
       "      <th>X101637</th>\n",
       "      <th>X631584</th>\n",
       "      <th>...</th>\n",
       "      <th>X169058</th>\n",
       "      <th>X191052</th>\n",
       "      <th>X655071</th>\n",
       "      <th>X183895</th>\n",
       "      <th>X348397</th>\n",
       "      <th>X773747</th>\n",
       "      <th>X214900</th>\n",
       "      <th>X324923</th>\n",
       "      <th>X694678</th>\n",
       "      <th>X349099</th>\n",
       "    </tr>\n",
       "    <tr>\n",
       "      <th>Unnamed: 0</th>\n",
       "      <th></th>\n",
       "      <th></th>\n",
       "      <th></th>\n",
       "      <th></th>\n",
       "      <th></th>\n",
       "      <th></th>\n",
       "      <th></th>\n",
       "      <th></th>\n",
       "      <th></th>\n",
       "      <th></th>\n",
       "      <th></th>\n",
       "      <th></th>\n",
       "      <th></th>\n",
       "      <th></th>\n",
       "      <th></th>\n",
       "      <th></th>\n",
       "      <th></th>\n",
       "      <th></th>\n",
       "      <th></th>\n",
       "      <th></th>\n",
       "      <th></th>\n",
       "    </tr>\n",
       "  </thead>\n",
       "  <tbody>\n",
       "    <tr>\n",
       "      <th>OR4F5</th>\n",
       "      <td>0.000000e+00</td>\n",
       "      <td>0.000000</td>\n",
       "      <td>0.000000</td>\n",
       "      <td>0.000000e+00</td>\n",
       "      <td>0.000000</td>\n",
       "      <td>0.000000</td>\n",
       "      <td>0.000000</td>\n",
       "      <td>0.000000</td>\n",
       "      <td>0.000000e+00</td>\n",
       "      <td>0.000000</td>\n",
       "      <td>...</td>\n",
       "      <td>0.000000e+00</td>\n",
       "      <td>0.000000</td>\n",
       "      <td>0.000000e+00</td>\n",
       "      <td>0.000000</td>\n",
       "      <td>0.000000e+00</td>\n",
       "      <td>0.000000</td>\n",
       "      <td>0.000000</td>\n",
       "      <td>0.000000e+00</td>\n",
       "      <td>0.000000e+00</td>\n",
       "      <td>0.000000</td>\n",
       "    </tr>\n",
       "    <tr>\n",
       "      <th>RP4-669L17.2</th>\n",
       "      <td>3.216897e-06</td>\n",
       "      <td>0.000011</td>\n",
       "      <td>0.000007</td>\n",
       "      <td>3.979422e-06</td>\n",
       "      <td>-0.000005</td>\n",
       "      <td>-0.000010</td>\n",
       "      <td>0.000007</td>\n",
       "      <td>-0.000005</td>\n",
       "      <td>2.878349e-06</td>\n",
       "      <td>-0.000006</td>\n",
       "      <td>...</td>\n",
       "      <td>5.059387e-06</td>\n",
       "      <td>-0.000008</td>\n",
       "      <td>1.245987e-06</td>\n",
       "      <td>-0.000005</td>\n",
       "      <td>-7.032676e-06</td>\n",
       "      <td>0.000015</td>\n",
       "      <td>0.000006</td>\n",
       "      <td>-4.340483e-07</td>\n",
       "      <td>2.488814e-07</td>\n",
       "      <td>-0.000006</td>\n",
       "    </tr>\n",
       "    <tr>\n",
       "      <th>RP11-54O7.16</th>\n",
       "      <td>4.188518e-04</td>\n",
       "      <td>0.000744</td>\n",
       "      <td>0.000546</td>\n",
       "      <td>-1.577646e-03</td>\n",
       "      <td>-0.000490</td>\n",
       "      <td>0.000161</td>\n",
       "      <td>0.000273</td>\n",
       "      <td>-0.000171</td>\n",
       "      <td>2.845913e-04</td>\n",
       "      <td>-0.000501</td>\n",
       "      <td>...</td>\n",
       "      <td>-1.702080e-04</td>\n",
       "      <td>-0.000694</td>\n",
       "      <td>-3.754380e-04</td>\n",
       "      <td>-0.000209</td>\n",
       "      <td>-2.530890e-04</td>\n",
       "      <td>0.000256</td>\n",
       "      <td>0.000122</td>\n",
       "      <td>5.613140e-04</td>\n",
       "      <td>3.465255e-04</td>\n",
       "      <td>-0.000464</td>\n",
       "    </tr>\n",
       "    <tr>\n",
       "      <th>LINC02593</th>\n",
       "      <td>1.267021e-04</td>\n",
       "      <td>-0.000147</td>\n",
       "      <td>0.000049</td>\n",
       "      <td>1.912161e-04</td>\n",
       "      <td>-0.000032</td>\n",
       "      <td>-0.000108</td>\n",
       "      <td>0.000120</td>\n",
       "      <td>-0.000189</td>\n",
       "      <td>7.382098e-05</td>\n",
       "      <td>-0.000128</td>\n",
       "      <td>...</td>\n",
       "      <td>1.162996e-04</td>\n",
       "      <td>0.000004</td>\n",
       "      <td>9.512664e-05</td>\n",
       "      <td>-0.000114</td>\n",
       "      <td>-1.365306e-04</td>\n",
       "      <td>-0.000046</td>\n",
       "      <td>0.000108</td>\n",
       "      <td>1.109932e-04</td>\n",
       "      <td>6.646838e-05</td>\n",
       "      <td>-0.000080</td>\n",
       "    </tr>\n",
       "    <tr>\n",
       "      <th>RP11-54O7.17</th>\n",
       "      <td>3.038007e-03</td>\n",
       "      <td>-0.001059</td>\n",
       "      <td>0.000784</td>\n",
       "      <td>-2.109838e-03</td>\n",
       "      <td>0.000821</td>\n",
       "      <td>-0.000771</td>\n",
       "      <td>0.002546</td>\n",
       "      <td>0.000365</td>\n",
       "      <td>2.887411e-03</td>\n",
       "      <td>0.000282</td>\n",
       "      <td>...</td>\n",
       "      <td>1.474954e-03</td>\n",
       "      <td>0.000646</td>\n",
       "      <td>-1.944372e-03</td>\n",
       "      <td>0.000253</td>\n",
       "      <td>-1.179318e-03</td>\n",
       "      <td>-0.002384</td>\n",
       "      <td>0.001201</td>\n",
       "      <td>7.464107e-04</td>\n",
       "      <td>1.700630e-03</td>\n",
       "      <td>-0.000152</td>\n",
       "    </tr>\n",
       "    <tr>\n",
       "      <th>...</th>\n",
       "      <td>...</td>\n",
       "      <td>...</td>\n",
       "      <td>...</td>\n",
       "      <td>...</td>\n",
       "      <td>...</td>\n",
       "      <td>...</td>\n",
       "      <td>...</td>\n",
       "      <td>...</td>\n",
       "      <td>...</td>\n",
       "      <td>...</td>\n",
       "      <td>...</td>\n",
       "      <td>...</td>\n",
       "      <td>...</td>\n",
       "      <td>...</td>\n",
       "      <td>...</td>\n",
       "      <td>...</td>\n",
       "      <td>...</td>\n",
       "      <td>...</td>\n",
       "      <td>...</td>\n",
       "      <td>...</td>\n",
       "      <td>...</td>\n",
       "    </tr>\n",
       "    <tr>\n",
       "      <th>COL6A2</th>\n",
       "      <td>1.063854e-02</td>\n",
       "      <td>0.040394</td>\n",
       "      <td>0.060158</td>\n",
       "      <td>-1.900485e-02</td>\n",
       "      <td>0.002591</td>\n",
       "      <td>0.016819</td>\n",
       "      <td>-0.002186</td>\n",
       "      <td>0.009697</td>\n",
       "      <td>3.794503e-03</td>\n",
       "      <td>0.007287</td>\n",
       "      <td>...</td>\n",
       "      <td>1.140699e-01</td>\n",
       "      <td>0.009213</td>\n",
       "      <td>-5.375517e-03</td>\n",
       "      <td>0.001592</td>\n",
       "      <td>2.971000e-03</td>\n",
       "      <td>0.034180</td>\n",
       "      <td>0.064338</td>\n",
       "      <td>7.964159e-03</td>\n",
       "      <td>1.551692e-02</td>\n",
       "      <td>0.002333</td>\n",
       "    </tr>\n",
       "    <tr>\n",
       "      <th>S100B</th>\n",
       "      <td>5.295388e-04</td>\n",
       "      <td>-0.005585</td>\n",
       "      <td>-0.000731</td>\n",
       "      <td>1.313083e-03</td>\n",
       "      <td>0.001422</td>\n",
       "      <td>0.000906</td>\n",
       "      <td>0.000479</td>\n",
       "      <td>0.001102</td>\n",
       "      <td>-2.672284e-04</td>\n",
       "      <td>0.000749</td>\n",
       "      <td>...</td>\n",
       "      <td>1.150449e-03</td>\n",
       "      <td>0.001541</td>\n",
       "      <td>2.244169e-03</td>\n",
       "      <td>0.001002</td>\n",
       "      <td>1.887903e-03</td>\n",
       "      <td>-0.003633</td>\n",
       "      <td>-0.000182</td>\n",
       "      <td>1.022888e-03</td>\n",
       "      <td>8.590907e-04</td>\n",
       "      <td>0.000768</td>\n",
       "    </tr>\n",
       "    <tr>\n",
       "      <th>ENSG00000277761.1</th>\n",
       "      <td>-4.054745e-06</td>\n",
       "      <td>-0.000002</td>\n",
       "      <td>-0.000004</td>\n",
       "      <td>-8.838115e-08</td>\n",
       "      <td>0.000004</td>\n",
       "      <td>-0.000002</td>\n",
       "      <td>-0.000002</td>\n",
       "      <td>0.000005</td>\n",
       "      <td>-6.024662e-07</td>\n",
       "      <td>0.000003</td>\n",
       "      <td>...</td>\n",
       "      <td>-1.227470e-06</td>\n",
       "      <td>0.000003</td>\n",
       "      <td>-2.045070e-06</td>\n",
       "      <td>0.000003</td>\n",
       "      <td>3.627574e-06</td>\n",
       "      <td>-0.000003</td>\n",
       "      <td>-0.000003</td>\n",
       "      <td>-3.100638e-06</td>\n",
       "      <td>-4.190295e-06</td>\n",
       "      <td>0.000006</td>\n",
       "    </tr>\n",
       "    <tr>\n",
       "      <th>ENSG00000277400.1</th>\n",
       "      <td>-1.918703e-04</td>\n",
       "      <td>-0.000064</td>\n",
       "      <td>-0.000206</td>\n",
       "      <td>-8.579748e-05</td>\n",
       "      <td>0.000160</td>\n",
       "      <td>0.000102</td>\n",
       "      <td>-0.000258</td>\n",
       "      <td>0.000208</td>\n",
       "      <td>-1.562971e-04</td>\n",
       "      <td>0.000214</td>\n",
       "      <td>...</td>\n",
       "      <td>-1.852961e-04</td>\n",
       "      <td>0.000221</td>\n",
       "      <td>-1.713138e-04</td>\n",
       "      <td>0.000152</td>\n",
       "      <td>1.599559e-04</td>\n",
       "      <td>-0.000124</td>\n",
       "      <td>-0.000172</td>\n",
       "      <td>-2.030360e-04</td>\n",
       "      <td>-1.194808e-04</td>\n",
       "      <td>0.000192</td>\n",
       "    </tr>\n",
       "    <tr>\n",
       "      <th>ENSG00000276017.1</th>\n",
       "      <td>-4.726538e-07</td>\n",
       "      <td>-0.000012</td>\n",
       "      <td>-0.000006</td>\n",
       "      <td>-2.414504e-06</td>\n",
       "      <td>0.000002</td>\n",
       "      <td>0.000003</td>\n",
       "      <td>-0.000003</td>\n",
       "      <td>0.000009</td>\n",
       "      <td>-3.411728e-07</td>\n",
       "      <td>0.000003</td>\n",
       "      <td>...</td>\n",
       "      <td>-8.155056e-07</td>\n",
       "      <td>0.000005</td>\n",
       "      <td>9.228317e-07</td>\n",
       "      <td>0.000002</td>\n",
       "      <td>7.494673e-07</td>\n",
       "      <td>-0.000014</td>\n",
       "      <td>-0.000005</td>\n",
       "      <td>2.036370e-06</td>\n",
       "      <td>-7.061941e-07</td>\n",
       "      <td>0.000002</td>\n",
       "    </tr>\n",
       "  </tbody>\n",
       "</table>\n",
       "<p>5000 rows × 284727 columns</p>\n",
       "</div>"
      ],
      "text/plain": [
       "                        X381331   X406261   X234184       X190094   X534454  \\\n",
       "Unnamed: 0                                                                    \n",
       "OR4F5              0.000000e+00  0.000000  0.000000  0.000000e+00  0.000000   \n",
       "RP4-669L17.2       3.216897e-06  0.000011  0.000007  3.979422e-06 -0.000005   \n",
       "RP11-54O7.16       4.188518e-04  0.000744  0.000546 -1.577646e-03 -0.000490   \n",
       "LINC02593          1.267021e-04 -0.000147  0.000049  1.912161e-04 -0.000032   \n",
       "RP11-54O7.17       3.038007e-03 -0.001059  0.000784 -2.109838e-03  0.000821   \n",
       "...                         ...       ...       ...           ...       ...   \n",
       "COL6A2             1.063854e-02  0.040394  0.060158 -1.900485e-02  0.002591   \n",
       "S100B              5.295388e-04 -0.005585 -0.000731  1.313083e-03  0.001422   \n",
       "ENSG00000277761.1 -4.054745e-06 -0.000002 -0.000004 -8.838115e-08  0.000004   \n",
       "ENSG00000277400.1 -1.918703e-04 -0.000064 -0.000206 -8.579748e-05  0.000160   \n",
       "ENSG00000276017.1 -4.726538e-07 -0.000012 -0.000006 -2.414504e-06  0.000002   \n",
       "\n",
       "                    X654746   X625015   X724704       X101637   X631584  ...  \\\n",
       "Unnamed: 0                                                               ...   \n",
       "OR4F5              0.000000  0.000000  0.000000  0.000000e+00  0.000000  ...   \n",
       "RP4-669L17.2      -0.000010  0.000007 -0.000005  2.878349e-06 -0.000006  ...   \n",
       "RP11-54O7.16       0.000161  0.000273 -0.000171  2.845913e-04 -0.000501  ...   \n",
       "LINC02593         -0.000108  0.000120 -0.000189  7.382098e-05 -0.000128  ...   \n",
       "RP11-54O7.17      -0.000771  0.002546  0.000365  2.887411e-03  0.000282  ...   \n",
       "...                     ...       ...       ...           ...       ...  ...   \n",
       "COL6A2             0.016819 -0.002186  0.009697  3.794503e-03  0.007287  ...   \n",
       "S100B              0.000906  0.000479  0.001102 -2.672284e-04  0.000749  ...   \n",
       "ENSG00000277761.1 -0.000002 -0.000002  0.000005 -6.024662e-07  0.000003  ...   \n",
       "ENSG00000277400.1  0.000102 -0.000258  0.000208 -1.562971e-04  0.000214  ...   \n",
       "ENSG00000276017.1  0.000003 -0.000003  0.000009 -3.411728e-07  0.000003  ...   \n",
       "\n",
       "                        X169058   X191052       X655071   X183895  \\\n",
       "Unnamed: 0                                                          \n",
       "OR4F5              0.000000e+00  0.000000  0.000000e+00  0.000000   \n",
       "RP4-669L17.2       5.059387e-06 -0.000008  1.245987e-06 -0.000005   \n",
       "RP11-54O7.16      -1.702080e-04 -0.000694 -3.754380e-04 -0.000209   \n",
       "LINC02593          1.162996e-04  0.000004  9.512664e-05 -0.000114   \n",
       "RP11-54O7.17       1.474954e-03  0.000646 -1.944372e-03  0.000253   \n",
       "...                         ...       ...           ...       ...   \n",
       "COL6A2             1.140699e-01  0.009213 -5.375517e-03  0.001592   \n",
       "S100B              1.150449e-03  0.001541  2.244169e-03  0.001002   \n",
       "ENSG00000277761.1 -1.227470e-06  0.000003 -2.045070e-06  0.000003   \n",
       "ENSG00000277400.1 -1.852961e-04  0.000221 -1.713138e-04  0.000152   \n",
       "ENSG00000276017.1 -8.155056e-07  0.000005  9.228317e-07  0.000002   \n",
       "\n",
       "                        X348397   X773747   X214900       X324923  \\\n",
       "Unnamed: 0                                                          \n",
       "OR4F5              0.000000e+00  0.000000  0.000000  0.000000e+00   \n",
       "RP4-669L17.2      -7.032676e-06  0.000015  0.000006 -4.340483e-07   \n",
       "RP11-54O7.16      -2.530890e-04  0.000256  0.000122  5.613140e-04   \n",
       "LINC02593         -1.365306e-04 -0.000046  0.000108  1.109932e-04   \n",
       "RP11-54O7.17      -1.179318e-03 -0.002384  0.001201  7.464107e-04   \n",
       "...                         ...       ...       ...           ...   \n",
       "COL6A2             2.971000e-03  0.034180  0.064338  7.964159e-03   \n",
       "S100B              1.887903e-03 -0.003633 -0.000182  1.022888e-03   \n",
       "ENSG00000277761.1  3.627574e-06 -0.000003 -0.000003 -3.100638e-06   \n",
       "ENSG00000277400.1  1.599559e-04 -0.000124 -0.000172 -2.030360e-04   \n",
       "ENSG00000276017.1  7.494673e-07 -0.000014 -0.000005  2.036370e-06   \n",
       "\n",
       "                        X694678   X349099  \n",
       "Unnamed: 0                                 \n",
       "OR4F5              0.000000e+00  0.000000  \n",
       "RP4-669L17.2       2.488814e-07 -0.000006  \n",
       "RP11-54O7.16       3.465255e-04 -0.000464  \n",
       "LINC02593          6.646838e-05 -0.000080  \n",
       "RP11-54O7.17       1.700630e-03 -0.000152  \n",
       "...                         ...       ...  \n",
       "COL6A2             1.551692e-02  0.002333  \n",
       "S100B              8.590907e-04  0.000768  \n",
       "ENSG00000277761.1 -4.190295e-06  0.000006  \n",
       "ENSG00000277400.1 -1.194808e-04  0.000192  \n",
       "ENSG00000276017.1 -7.061941e-07  0.000002  \n",
       "\n",
       "[5000 rows x 284727 columns]"
      ]
     },
     "execution_count": 15,
     "metadata": {},
     "output_type": "execute_result"
    }
   ],
   "source": [
    "scmerge"
   ]
  },
  {
   "cell_type": "code",
   "execution_count": 16,
   "id": "45beb433-ea1a-4cd1-a047-c06793583c92",
   "metadata": {
    "tags": []
   },
   "outputs": [],
   "source": [
    "scmerge = scmerge.T"
   ]
  },
  {
   "cell_type": "code",
   "execution_count": 18,
   "id": "99c236b4-4fa8-4ed4-8fa8-6f816d461401",
   "metadata": {
    "tags": []
   },
   "outputs": [
    {
     "data": {
      "text/html": [
       "<div>\n",
       "<style scoped>\n",
       "    .dataframe tbody tr th:only-of-type {\n",
       "        vertical-align: middle;\n",
       "    }\n",
       "\n",
       "    .dataframe tbody tr th {\n",
       "        vertical-align: top;\n",
       "    }\n",
       "\n",
       "    .dataframe thead th {\n",
       "        text-align: right;\n",
       "    }\n",
       "</style>\n",
       "<table border=\"1\" class=\"dataframe\">\n",
       "  <thead>\n",
       "    <tr style=\"text-align: right;\">\n",
       "      <th>Unnamed: 0</th>\n",
       "      <th>OR4F5</th>\n",
       "      <th>RP4-669L17.2</th>\n",
       "      <th>RP11-54O7.16</th>\n",
       "      <th>LINC02593</th>\n",
       "      <th>RP11-54O7.17</th>\n",
       "      <th>HES4</th>\n",
       "      <th>AGRN</th>\n",
       "      <th>RP11-465B22.8</th>\n",
       "      <th>TNFRSF18</th>\n",
       "      <th>TNFRSF4</th>\n",
       "      <th>...</th>\n",
       "      <th>BX322559.3</th>\n",
       "      <th>LL21NC02-21A1.1</th>\n",
       "      <th>AJ011932.1</th>\n",
       "      <th>COL6A1</th>\n",
       "      <th>AP001476.2</th>\n",
       "      <th>COL6A2</th>\n",
       "      <th>S100B</th>\n",
       "      <th>ENSG00000277761.1</th>\n",
       "      <th>ENSG00000277400.1</th>\n",
       "      <th>ENSG00000276017.1</th>\n",
       "    </tr>\n",
       "  </thead>\n",
       "  <tbody>\n",
       "    <tr>\n",
       "      <th>X381331</th>\n",
       "      <td>0.0</td>\n",
       "      <td>3.216897e-06</td>\n",
       "      <td>0.000419</td>\n",
       "      <td>0.000127</td>\n",
       "      <td>0.003038</td>\n",
       "      <td>0.055977</td>\n",
       "      <td>0.000982</td>\n",
       "      <td>1.999998e-07</td>\n",
       "      <td>-0.000187</td>\n",
       "      <td>0.001062</td>\n",
       "      <td>...</td>\n",
       "      <td>0.0</td>\n",
       "      <td>0.000173</td>\n",
       "      <td>0.000090</td>\n",
       "      <td>0.005867</td>\n",
       "      <td>0.000052</td>\n",
       "      <td>0.010639</td>\n",
       "      <td>0.000530</td>\n",
       "      <td>-4.054745e-06</td>\n",
       "      <td>-0.000192</td>\n",
       "      <td>-4.726538e-07</td>\n",
       "    </tr>\n",
       "    <tr>\n",
       "      <th>X406261</th>\n",
       "      <td>0.0</td>\n",
       "      <td>1.103663e-05</td>\n",
       "      <td>0.000744</td>\n",
       "      <td>-0.000147</td>\n",
       "      <td>-0.001059</td>\n",
       "      <td>-0.001113</td>\n",
       "      <td>-0.000107</td>\n",
       "      <td>-2.482280e-05</td>\n",
       "      <td>-0.000198</td>\n",
       "      <td>-0.001862</td>\n",
       "      <td>...</td>\n",
       "      <td>0.0</td>\n",
       "      <td>0.000003</td>\n",
       "      <td>-0.000424</td>\n",
       "      <td>0.031293</td>\n",
       "      <td>-0.000078</td>\n",
       "      <td>0.040394</td>\n",
       "      <td>-0.005585</td>\n",
       "      <td>-2.456151e-06</td>\n",
       "      <td>-0.000064</td>\n",
       "      <td>-1.180490e-05</td>\n",
       "    </tr>\n",
       "    <tr>\n",
       "      <th>X234184</th>\n",
       "      <td>0.0</td>\n",
       "      <td>6.830510e-06</td>\n",
       "      <td>0.000546</td>\n",
       "      <td>0.000049</td>\n",
       "      <td>0.000784</td>\n",
       "      <td>0.072689</td>\n",
       "      <td>0.001420</td>\n",
       "      <td>2.479391e-06</td>\n",
       "      <td>0.000085</td>\n",
       "      <td>0.001248</td>\n",
       "      <td>...</td>\n",
       "      <td>0.0</td>\n",
       "      <td>0.000166</td>\n",
       "      <td>0.000053</td>\n",
       "      <td>0.061099</td>\n",
       "      <td>-0.000022</td>\n",
       "      <td>0.060158</td>\n",
       "      <td>-0.000731</td>\n",
       "      <td>-3.553558e-06</td>\n",
       "      <td>-0.000206</td>\n",
       "      <td>-6.078170e-06</td>\n",
       "    </tr>\n",
       "    <tr>\n",
       "      <th>X190094</th>\n",
       "      <td>0.0</td>\n",
       "      <td>3.979422e-06</td>\n",
       "      <td>-0.001578</td>\n",
       "      <td>0.000191</td>\n",
       "      <td>-0.002110</td>\n",
       "      <td>-0.001539</td>\n",
       "      <td>-0.002121</td>\n",
       "      <td>-9.710339e-07</td>\n",
       "      <td>-0.000160</td>\n",
       "      <td>-0.001355</td>\n",
       "      <td>...</td>\n",
       "      <td>0.0</td>\n",
       "      <td>-0.000188</td>\n",
       "      <td>0.000242</td>\n",
       "      <td>-0.006021</td>\n",
       "      <td>-0.000018</td>\n",
       "      <td>-0.019005</td>\n",
       "      <td>0.001313</td>\n",
       "      <td>-8.838115e-08</td>\n",
       "      <td>-0.000086</td>\n",
       "      <td>-2.414504e-06</td>\n",
       "    </tr>\n",
       "    <tr>\n",
       "      <th>X534454</th>\n",
       "      <td>0.0</td>\n",
       "      <td>-5.209822e-06</td>\n",
       "      <td>-0.000490</td>\n",
       "      <td>-0.000032</td>\n",
       "      <td>0.000821</td>\n",
       "      <td>0.044855</td>\n",
       "      <td>0.000373</td>\n",
       "      <td>-2.653288e-05</td>\n",
       "      <td>0.000060</td>\n",
       "      <td>0.000212</td>\n",
       "      <td>...</td>\n",
       "      <td>0.0</td>\n",
       "      <td>-0.000135</td>\n",
       "      <td>-0.000033</td>\n",
       "      <td>-0.000953</td>\n",
       "      <td>-0.000023</td>\n",
       "      <td>0.002591</td>\n",
       "      <td>0.001422</td>\n",
       "      <td>4.281437e-06</td>\n",
       "      <td>0.000160</td>\n",
       "      <td>2.450159e-06</td>\n",
       "    </tr>\n",
       "    <tr>\n",
       "      <th>...</th>\n",
       "      <td>...</td>\n",
       "      <td>...</td>\n",
       "      <td>...</td>\n",
       "      <td>...</td>\n",
       "      <td>...</td>\n",
       "      <td>...</td>\n",
       "      <td>...</td>\n",
       "      <td>...</td>\n",
       "      <td>...</td>\n",
       "      <td>...</td>\n",
       "      <td>...</td>\n",
       "      <td>...</td>\n",
       "      <td>...</td>\n",
       "      <td>...</td>\n",
       "      <td>...</td>\n",
       "      <td>...</td>\n",
       "      <td>...</td>\n",
       "      <td>...</td>\n",
       "      <td>...</td>\n",
       "      <td>...</td>\n",
       "      <td>...</td>\n",
       "    </tr>\n",
       "    <tr>\n",
       "      <th>X773747</th>\n",
       "      <td>0.0</td>\n",
       "      <td>1.484500e-05</td>\n",
       "      <td>0.000256</td>\n",
       "      <td>-0.000046</td>\n",
       "      <td>-0.002384</td>\n",
       "      <td>0.033099</td>\n",
       "      <td>0.000264</td>\n",
       "      <td>2.997655e-06</td>\n",
       "      <td>0.000453</td>\n",
       "      <td>-0.000527</td>\n",
       "      <td>...</td>\n",
       "      <td>0.0</td>\n",
       "      <td>0.000021</td>\n",
       "      <td>-0.000184</td>\n",
       "      <td>0.016771</td>\n",
       "      <td>-0.000120</td>\n",
       "      <td>0.034180</td>\n",
       "      <td>-0.003633</td>\n",
       "      <td>-2.693397e-06</td>\n",
       "      <td>-0.000124</td>\n",
       "      <td>-1.379164e-05</td>\n",
       "    </tr>\n",
       "    <tr>\n",
       "      <th>X214900</th>\n",
       "      <td>0.0</td>\n",
       "      <td>6.400845e-06</td>\n",
       "      <td>0.000122</td>\n",
       "      <td>0.000108</td>\n",
       "      <td>0.001201</td>\n",
       "      <td>0.052946</td>\n",
       "      <td>0.001205</td>\n",
       "      <td>5.580830e-06</td>\n",
       "      <td>-0.000450</td>\n",
       "      <td>0.000752</td>\n",
       "      <td>...</td>\n",
       "      <td>0.0</td>\n",
       "      <td>0.000268</td>\n",
       "      <td>0.000109</td>\n",
       "      <td>0.001628</td>\n",
       "      <td>0.000026</td>\n",
       "      <td>0.064338</td>\n",
       "      <td>-0.000182</td>\n",
       "      <td>-3.374725e-06</td>\n",
       "      <td>-0.000172</td>\n",
       "      <td>-4.822600e-06</td>\n",
       "    </tr>\n",
       "    <tr>\n",
       "      <th>X324923</th>\n",
       "      <td>0.0</td>\n",
       "      <td>-4.340483e-07</td>\n",
       "      <td>0.000561</td>\n",
       "      <td>0.000111</td>\n",
       "      <td>0.000746</td>\n",
       "      <td>-0.013353</td>\n",
       "      <td>0.000990</td>\n",
       "      <td>9.950572e-06</td>\n",
       "      <td>-0.000200</td>\n",
       "      <td>0.001872</td>\n",
       "      <td>...</td>\n",
       "      <td>0.0</td>\n",
       "      <td>0.000049</td>\n",
       "      <td>0.000151</td>\n",
       "      <td>0.004889</td>\n",
       "      <td>0.000031</td>\n",
       "      <td>0.007964</td>\n",
       "      <td>0.001023</td>\n",
       "      <td>-3.100638e-06</td>\n",
       "      <td>-0.000203</td>\n",
       "      <td>2.036370e-06</td>\n",
       "    </tr>\n",
       "    <tr>\n",
       "      <th>X694678</th>\n",
       "      <td>0.0</td>\n",
       "      <td>2.488814e-07</td>\n",
       "      <td>0.000347</td>\n",
       "      <td>0.000066</td>\n",
       "      <td>0.001701</td>\n",
       "      <td>-0.010609</td>\n",
       "      <td>0.001101</td>\n",
       "      <td>1.143505e-06</td>\n",
       "      <td>-0.000288</td>\n",
       "      <td>0.001189</td>\n",
       "      <td>...</td>\n",
       "      <td>0.0</td>\n",
       "      <td>0.000208</td>\n",
       "      <td>0.000164</td>\n",
       "      <td>0.106224</td>\n",
       "      <td>0.000061</td>\n",
       "      <td>0.015517</td>\n",
       "      <td>0.000859</td>\n",
       "      <td>-4.190295e-06</td>\n",
       "      <td>-0.000119</td>\n",
       "      <td>-7.061941e-07</td>\n",
       "    </tr>\n",
       "    <tr>\n",
       "      <th>X349099</th>\n",
       "      <td>0.0</td>\n",
       "      <td>-6.413321e-06</td>\n",
       "      <td>-0.000464</td>\n",
       "      <td>-0.000080</td>\n",
       "      <td>-0.000152</td>\n",
       "      <td>0.011058</td>\n",
       "      <td>0.000204</td>\n",
       "      <td>-2.933113e-05</td>\n",
       "      <td>0.000042</td>\n",
       "      <td>-0.000453</td>\n",
       "      <td>...</td>\n",
       "      <td>0.0</td>\n",
       "      <td>-0.000113</td>\n",
       "      <td>-0.000026</td>\n",
       "      <td>-0.000636</td>\n",
       "      <td>-0.000016</td>\n",
       "      <td>0.002333</td>\n",
       "      <td>0.000768</td>\n",
       "      <td>5.548850e-06</td>\n",
       "      <td>0.000192</td>\n",
       "      <td>2.004058e-06</td>\n",
       "    </tr>\n",
       "  </tbody>\n",
       "</table>\n",
       "<p>284727 rows × 5000 columns</p>\n",
       "</div>"
      ],
      "text/plain": [
       "Unnamed: 0  OR4F5  RP4-669L17.2  RP11-54O7.16  LINC02593  RP11-54O7.17  \\\n",
       "X381331       0.0  3.216897e-06      0.000419   0.000127      0.003038   \n",
       "X406261       0.0  1.103663e-05      0.000744  -0.000147     -0.001059   \n",
       "X234184       0.0  6.830510e-06      0.000546   0.000049      0.000784   \n",
       "X190094       0.0  3.979422e-06     -0.001578   0.000191     -0.002110   \n",
       "X534454       0.0 -5.209822e-06     -0.000490  -0.000032      0.000821   \n",
       "...           ...           ...           ...        ...           ...   \n",
       "X773747       0.0  1.484500e-05      0.000256  -0.000046     -0.002384   \n",
       "X214900       0.0  6.400845e-06      0.000122   0.000108      0.001201   \n",
       "X324923       0.0 -4.340483e-07      0.000561   0.000111      0.000746   \n",
       "X694678       0.0  2.488814e-07      0.000347   0.000066      0.001701   \n",
       "X349099       0.0 -6.413321e-06     -0.000464  -0.000080     -0.000152   \n",
       "\n",
       "Unnamed: 0      HES4      AGRN  RP11-465B22.8  TNFRSF18   TNFRSF4  ...  \\\n",
       "X381331     0.055977  0.000982   1.999998e-07 -0.000187  0.001062  ...   \n",
       "X406261    -0.001113 -0.000107  -2.482280e-05 -0.000198 -0.001862  ...   \n",
       "X234184     0.072689  0.001420   2.479391e-06  0.000085  0.001248  ...   \n",
       "X190094    -0.001539 -0.002121  -9.710339e-07 -0.000160 -0.001355  ...   \n",
       "X534454     0.044855  0.000373  -2.653288e-05  0.000060  0.000212  ...   \n",
       "...              ...       ...            ...       ...       ...  ...   \n",
       "X773747     0.033099  0.000264   2.997655e-06  0.000453 -0.000527  ...   \n",
       "X214900     0.052946  0.001205   5.580830e-06 -0.000450  0.000752  ...   \n",
       "X324923    -0.013353  0.000990   9.950572e-06 -0.000200  0.001872  ...   \n",
       "X694678    -0.010609  0.001101   1.143505e-06 -0.000288  0.001189  ...   \n",
       "X349099     0.011058  0.000204  -2.933113e-05  0.000042 -0.000453  ...   \n",
       "\n",
       "Unnamed: 0  BX322559.3  LL21NC02-21A1.1  AJ011932.1    COL6A1  AP001476.2  \\\n",
       "X381331            0.0         0.000173    0.000090  0.005867    0.000052   \n",
       "X406261            0.0         0.000003   -0.000424  0.031293   -0.000078   \n",
       "X234184            0.0         0.000166    0.000053  0.061099   -0.000022   \n",
       "X190094            0.0        -0.000188    0.000242 -0.006021   -0.000018   \n",
       "X534454            0.0        -0.000135   -0.000033 -0.000953   -0.000023   \n",
       "...                ...              ...         ...       ...         ...   \n",
       "X773747            0.0         0.000021   -0.000184  0.016771   -0.000120   \n",
       "X214900            0.0         0.000268    0.000109  0.001628    0.000026   \n",
       "X324923            0.0         0.000049    0.000151  0.004889    0.000031   \n",
       "X694678            0.0         0.000208    0.000164  0.106224    0.000061   \n",
       "X349099            0.0        -0.000113   -0.000026 -0.000636   -0.000016   \n",
       "\n",
       "Unnamed: 0    COL6A2     S100B  ENSG00000277761.1  ENSG00000277400.1  \\\n",
       "X381331     0.010639  0.000530      -4.054745e-06          -0.000192   \n",
       "X406261     0.040394 -0.005585      -2.456151e-06          -0.000064   \n",
       "X234184     0.060158 -0.000731      -3.553558e-06          -0.000206   \n",
       "X190094    -0.019005  0.001313      -8.838115e-08          -0.000086   \n",
       "X534454     0.002591  0.001422       4.281437e-06           0.000160   \n",
       "...              ...       ...                ...                ...   \n",
       "X773747     0.034180 -0.003633      -2.693397e-06          -0.000124   \n",
       "X214900     0.064338 -0.000182      -3.374725e-06          -0.000172   \n",
       "X324923     0.007964  0.001023      -3.100638e-06          -0.000203   \n",
       "X694678     0.015517  0.000859      -4.190295e-06          -0.000119   \n",
       "X349099     0.002333  0.000768       5.548850e-06           0.000192   \n",
       "\n",
       "Unnamed: 0  ENSG00000276017.1  \n",
       "X381331         -4.726538e-07  \n",
       "X406261         -1.180490e-05  \n",
       "X234184         -6.078170e-06  \n",
       "X190094         -2.414504e-06  \n",
       "X534454          2.450159e-06  \n",
       "...                       ...  \n",
       "X773747         -1.379164e-05  \n",
       "X214900         -4.822600e-06  \n",
       "X324923          2.036370e-06  \n",
       "X694678         -7.061941e-07  \n",
       "X349099          2.004058e-06  \n",
       "\n",
       "[284727 rows x 5000 columns]"
      ]
     },
     "execution_count": 18,
     "metadata": {},
     "output_type": "execute_result"
    }
   ],
   "source": [
    "scmerge"
   ]
  },
  {
   "cell_type": "markdown",
   "id": "ec4d0301-2e46-4bc1-a712-1927e04ff62f",
   "metadata": {},
   "source": [
    "## Run PCA on the scmerge output matrix"
   ]
  },
  {
   "cell_type": "code",
   "execution_count": 19,
   "id": "37470023-561e-47a7-ad27-20c7ececfed2",
   "metadata": {
    "tags": []
   },
   "outputs": [],
   "source": [
    "pca_scmerge = sc.tl.pca(scmerge, n_comps=25)"
   ]
  },
  {
   "cell_type": "code",
   "execution_count": 20,
   "id": "4cc3a0cc-04a2-4e31-b985-050d3445f943",
   "metadata": {
    "tags": []
   },
   "outputs": [
    {
     "data": {
      "text/plain": [
       "array([[ 0.15201151, -0.16538858, -0.11914019, ..., -0.00635822,\n",
       "         0.04252198,  0.02341709],\n",
       "       [ 0.222339  , -0.0933743 ,  0.15914273, ...,  0.01257023,\n",
       "         0.00118581,  0.06638332],\n",
       "       [ 0.13604075, -0.18901953, -0.15516977, ..., -0.00227482,\n",
       "         0.01507334, -0.0031564 ],\n",
       "       ...,\n",
       "       [ 0.1317132 , -0.17872888, -0.10753564, ..., -0.01734195,\n",
       "         0.02790227, -0.00075956],\n",
       "       [ 0.22291468, -0.13585208, -0.12273939, ...,  0.01771207,\n",
       "        -0.02853517,  0.04769251],\n",
       "       [-0.3083873 ,  0.02583893,  0.01431772, ...,  0.02129092,\n",
       "        -0.03542604, -0.00666699]], dtype=float32)"
      ]
     },
     "execution_count": 20,
     "metadata": {},
     "output_type": "execute_result"
    }
   ],
   "source": [
    "pca_scmerge"
   ]
  },
  {
   "cell_type": "code",
   "execution_count": 21,
   "id": "23aaf5ca-573b-422e-bfdd-a90cc347b86d",
   "metadata": {
    "tags": []
   },
   "outputs": [
    {
     "data": {
      "text/plain": [
       "(284727, 25)"
      ]
     },
     "execution_count": 21,
     "metadata": {},
     "output_type": "execute_result"
    }
   ],
   "source": [
    "pca_scmerge.shape"
   ]
  },
  {
   "cell_type": "code",
   "execution_count": 22,
   "id": "90ba6ed1-26c5-44ce-8e1f-d12cd3237cd6",
   "metadata": {
    "tags": []
   },
   "outputs": [],
   "source": [
    "adata.obsm['X_scmerge2_pca'] = pca_scmerge"
   ]
  },
  {
   "cell_type": "code",
   "execution_count": 40,
   "id": "e85e9d02-786b-452d-8b5f-7d4f0f40ae03",
   "metadata": {
    "tags": []
   },
   "outputs": [],
   "source": [
    "del adata.obsm['X_scmerge_pca']"
   ]
  },
  {
   "cell_type": "markdown",
   "id": "fb253092-fbeb-4d44-a46a-0c57375047c0",
   "metadata": {},
   "source": [
    "## Load harmony embeddings"
   ]
  },
  {
   "cell_type": "code",
   "execution_count": 25,
   "id": "486cd2d3-97ad-4e6d-b4bc-b749b39703ce",
   "metadata": {
    "tags": []
   },
   "outputs": [],
   "source": [
    "ad = sc.read(\"/lustre/scratch127/cellgen/cellgeni/tickets/tic-3135/objs_heart/adata_harmony_updated_notfinal.h5ad\", backed='r')"
   ]
  },
  {
   "cell_type": "code",
   "execution_count": 26,
   "id": "3c4845d5-a15b-42d0-ad60-c2a1fd309fdf",
   "metadata": {
    "tags": []
   },
   "outputs": [
    {
     "data": {
      "text/plain": [
       "array([[ -8.986853  ,  -7.4297338 ,  -7.1768656 , ...,   0.8766343 ,\n",
       "         -0.9299259 ,   1.340861  ],\n",
       "       [-11.387041  ,  -6.0819187 ,   9.484633  , ...,   0.18994671,\n",
       "          0.40656987,  -0.2228468 ],\n",
       "       [ -7.7951627 ,  -7.1216984 ,  -6.31027   , ...,   0.6199798 ,\n",
       "         -0.6950253 ,  -0.34062806],\n",
       "       ...,\n",
       "       [ -7.0201864 ,  -5.523616  ,  -6.6705484 , ...,  -0.24699171,\n",
       "          0.10350901,   1.2413338 ],\n",
       "       [ -7.9024854 ,  -4.6848817 ,  -6.452721  , ...,   1.3109573 ,\n",
       "          0.83114284,   0.20266508],\n",
       "       [ 15.747864  ,   0.23755394,   0.8033202 , ...,  -0.6776858 ,\n",
       "         -0.433935  ,   0.20827405]], dtype=float32)"
      ]
     },
     "execution_count": 26,
     "metadata": {},
     "output_type": "execute_result"
    }
   ],
   "source": [
    "ad.obsm['X_harmony']"
   ]
  },
  {
   "cell_type": "code",
   "execution_count": 27,
   "id": "02fe5646-4680-4ed9-8d88-7836baecde93",
   "metadata": {
    "tags": []
   },
   "outputs": [],
   "source": [
    "adata.obsm['X_harmony'] = ad.obsm['X_harmony']"
   ]
  },
  {
   "cell_type": "code",
   "execution_count": 28,
   "id": "d5da8b36-5be5-43db-a8b0-c56e211378f2",
   "metadata": {
    "tags": []
   },
   "outputs": [
    {
     "data": {
      "text/plain": [
       "(284727, 25)"
      ]
     },
     "execution_count": 28,
     "metadata": {},
     "output_type": "execute_result"
    }
   ],
   "source": [
    "adata.obsm['X_harmony'].shape"
   ]
  },
  {
   "cell_type": "code",
   "execution_count": 29,
   "id": "a62b85ea-cabf-421a-adae-a083c339cb7e",
   "metadata": {
    "tags": []
   },
   "outputs": [
    {
     "data": {
      "text/plain": [
       "3389"
      ]
     },
     "execution_count": 29,
     "metadata": {},
     "output_type": "execute_result"
    }
   ],
   "source": [
    "del ad\n",
    "gc.collect()"
   ]
  },
  {
   "cell_type": "markdown",
   "id": "06502b1d-91f7-450f-8820-7b74ff2bf941",
   "metadata": {},
   "source": [
    "## Load combat object"
   ]
  },
  {
   "cell_type": "code",
   "execution_count": 32,
   "id": "aa3c4543-ea67-4c2f-a6ea-854f3010ba02",
   "metadata": {
    "tags": []
   },
   "outputs": [],
   "source": [
    "ad = sc.read('/lustre/scratch127/cellgen/cellgeni/tickets/tic-3135/objs_heart/adata_combat.h5ad')"
   ]
  },
  {
   "cell_type": "code",
   "execution_count": 33,
   "id": "366835e7-0cc5-4ac5-9f8c-e013bef400e5",
   "metadata": {
    "tags": []
   },
   "outputs": [],
   "source": [
    "sc.pp.pca(ad, n_comps=25, svd_solver='arpack')"
   ]
  },
  {
   "cell_type": "code",
   "execution_count": 35,
   "id": "7c507809-be3a-46a6-ae1e-6947f2b38cf8",
   "metadata": {
    "tags": []
   },
   "outputs": [],
   "source": [
    "adata.obsm['X_combat_pca'] = ad.obsm['X_pca']"
   ]
  },
  {
   "cell_type": "code",
   "execution_count": 36,
   "id": "90ec802a-5beb-4b1e-8376-36c20e342dd7",
   "metadata": {
    "tags": []
   },
   "outputs": [
    {
     "data": {
      "text/plain": [
       "(284727, 25)"
      ]
     },
     "execution_count": 36,
     "metadata": {},
     "output_type": "execute_result"
    }
   ],
   "source": [
    "adata.obsm['X_combat_pca'].shape"
   ]
  },
  {
   "cell_type": "code",
   "execution_count": 37,
   "id": "c19e20d4-b4be-4428-94ac-7152a3b0a11f",
   "metadata": {
    "tags": []
   },
   "outputs": [
    {
     "data": {
      "text/plain": [
       "1979"
      ]
     },
     "execution_count": 37,
     "metadata": {},
     "output_type": "execute_result"
    }
   ],
   "source": [
    "del ad\n",
    "gc.collect()"
   ]
  },
  {
   "cell_type": "code",
   "execution_count": 41,
   "id": "7fb75606-b683-4ab9-8384-511eec49d861",
   "metadata": {
    "tags": []
   },
   "outputs": [
    {
     "data": {
      "text/plain": [
       "AnnData object with n_obs × n_vars = 284727 × 5000\n",
       "    obs: 'Sample', 'donor_id', 'Region_x', 'Primary.Genetic.Diagnosis', 'n_genes', 'n_counts', 'percent_mito', 'percent_ribo', 'scrublet_score_z', 'scrublet_score_log', 'solo_score', 'cell_states', 'Assigned', 'self_reported_ethnicity_ontology_term_id', 'disease_ontology_term_id', 'cell_type_ontology_term_id', 'sex_ontology_term_id', 'assay_ontology_term_id', 'organism_ontology_term_id', 'is_primary_data', 'tissue_ontology_term_id', 'development_stage_ontology_term_id', 'suspension_type', 'cell_type', 'assay', 'disease', 'organism', 'sex', 'tissue', 'self_reported_ethnicity', 'development_stage', 'disease_renamed', 'disease_short', 'celltype_disease'\n",
       "    var: 'feature_is_filtered', 'feature_name', 'feature_reference', 'feature_biotype', 'highly_variable', 'highly_variable_rank', 'means', 'variances', 'variances_norm', 'ENS'\n",
       "    uns: 'Primary.Genetic.Diagnosis_colors', 'Region_x_colors', 'cell_states_colors', 'cell_type_colors', 'cell_type_ontology_term_id_colors', 'disease_colors', 'hvg', 'leiden', 'neighbors', 'pca', 'schema_version', 'title', 'umap'\n",
       "    obsm: 'X_FinVAE', 'X_combat_pca', 'X_fastmnn', 'X_harmony', 'X_pca', 'X_scVI', 'X_scanorama', 'X_scdisinfact', 'X_scmerge2_pca', 'X_scpoli'\n",
       "    varm: 'PCs'\n",
       "    layers: 'counts'"
      ]
     },
     "execution_count": 41,
     "metadata": {},
     "output_type": "execute_result"
    }
   ],
   "source": [
    "adata"
   ]
  },
  {
   "cell_type": "markdown",
   "id": "30dc296a-2919-4750-a660-dd13deb99ed9",
   "metadata": {},
   "source": [
    "## Run PCA on the original object"
   ]
  },
  {
   "cell_type": "code",
   "execution_count": 42,
   "id": "87671bce-3fff-4596-8178-052360772403",
   "metadata": {
    "tags": []
   },
   "outputs": [],
   "source": [
    "sc.tl.pca(adata, n_comps=25)"
   ]
  },
  {
   "cell_type": "code",
   "execution_count": 44,
   "id": "b5ec9a0b-db70-4425-a702-6af8e977c040",
   "metadata": {
    "tags": []
   },
   "outputs": [
    {
     "data": {
      "text/plain": [
       "AnnData object with n_obs × n_vars = 284727 × 5000\n",
       "    obs: 'Sample', 'donor_id', 'Region_x', 'Primary.Genetic.Diagnosis', 'n_genes', 'n_counts', 'percent_mito', 'percent_ribo', 'scrublet_score_z', 'scrublet_score_log', 'solo_score', 'cell_states', 'Assigned', 'self_reported_ethnicity_ontology_term_id', 'disease_ontology_term_id', 'cell_type_ontology_term_id', 'sex_ontology_term_id', 'assay_ontology_term_id', 'organism_ontology_term_id', 'is_primary_data', 'tissue_ontology_term_id', 'development_stage_ontology_term_id', 'suspension_type', 'cell_type', 'assay', 'disease', 'organism', 'sex', 'tissue', 'self_reported_ethnicity', 'development_stage', 'disease_renamed', 'disease_short', 'celltype_disease'\n",
       "    var: 'feature_is_filtered', 'feature_name', 'feature_reference', 'feature_biotype', 'highly_variable', 'highly_variable_rank', 'means', 'variances', 'variances_norm', 'ENS'\n",
       "    uns: 'Primary.Genetic.Diagnosis_colors', 'Region_x_colors', 'cell_states_colors', 'cell_type_colors', 'cell_type_ontology_term_id_colors', 'disease_colors', 'hvg', 'leiden', 'neighbors', 'pca', 'schema_version', 'title', 'umap'\n",
       "    obsm: 'X_FinVAE', 'X_combat_pca', 'X_fastmnn', 'X_harmony', 'X_pca', 'X_scVI', 'X_scanorama', 'X_scdisinfact', 'X_scmerge2_pca', 'X_scpoli'\n",
       "    varm: 'PCs'\n",
       "    layers: 'counts'"
      ]
     },
     "execution_count": 44,
     "metadata": {},
     "output_type": "execute_result"
    }
   ],
   "source": [
    "adata"
   ]
  },
  {
   "cell_type": "code",
   "execution_count": 46,
   "id": "17e3b5fd-5456-4f92-9346-41c168c1660c",
   "metadata": {
    "tags": []
   },
   "outputs": [
    {
     "data": {
      "text/html": [
       "<div>\n",
       "<style scoped>\n",
       "    .dataframe tbody tr th:only-of-type {\n",
       "        vertical-align: middle;\n",
       "    }\n",
       "\n",
       "    .dataframe tbody tr th {\n",
       "        vertical-align: top;\n",
       "    }\n",
       "\n",
       "    .dataframe thead th {\n",
       "        text-align: right;\n",
       "    }\n",
       "</style>\n",
       "<table border=\"1\" class=\"dataframe\">\n",
       "  <thead>\n",
       "    <tr style=\"text-align: right;\">\n",
       "      <th></th>\n",
       "      <th>Sample</th>\n",
       "      <th>donor_id</th>\n",
       "      <th>Region_x</th>\n",
       "      <th>Primary.Genetic.Diagnosis</th>\n",
       "      <th>n_genes</th>\n",
       "      <th>n_counts</th>\n",
       "      <th>percent_mito</th>\n",
       "      <th>percent_ribo</th>\n",
       "      <th>scrublet_score_z</th>\n",
       "      <th>scrublet_score_log</th>\n",
       "      <th>...</th>\n",
       "      <th>assay</th>\n",
       "      <th>disease</th>\n",
       "      <th>organism</th>\n",
       "      <th>sex</th>\n",
       "      <th>tissue</th>\n",
       "      <th>self_reported_ethnicity</th>\n",
       "      <th>development_stage</th>\n",
       "      <th>disease_renamed</th>\n",
       "      <th>disease_short</th>\n",
       "      <th>celltype_disease</th>\n",
       "    </tr>\n",
       "  </thead>\n",
       "  <tbody>\n",
       "    <tr>\n",
       "      <th>381331</th>\n",
       "      <td>BO_H35_S0N_premrna</td>\n",
       "      <td>H35</td>\n",
       "      <td>LV</td>\n",
       "      <td>TTN</td>\n",
       "      <td>861</td>\n",
       "      <td>1299</td>\n",
       "      <td>0.003079</td>\n",
       "      <td>0.000770</td>\n",
       "      <td>0.009163</td>\n",
       "      <td>0.000489</td>\n",
       "      <td>...</td>\n",
       "      <td>10x 3' v3</td>\n",
       "      <td>dilated cardiomyopathy</td>\n",
       "      <td>Homo sapiens</td>\n",
       "      <td>male</td>\n",
       "      <td>interventricular septum</td>\n",
       "      <td>European</td>\n",
       "      <td>fifth decade human stage</td>\n",
       "      <td>DCM</td>\n",
       "      <td>DCM</td>\n",
       "      <td>mural cell_DCM</td>\n",
       "    </tr>\n",
       "    <tr>\n",
       "      <th>406261</th>\n",
       "      <td>BO_H49_S0N_premrna</td>\n",
       "      <td>H49</td>\n",
       "      <td>LV</td>\n",
       "      <td>control</td>\n",
       "      <td>3495</td>\n",
       "      <td>7079</td>\n",
       "      <td>0.000989</td>\n",
       "      <td>0.002684</td>\n",
       "      <td>0.021977</td>\n",
       "      <td>0.057437</td>\n",
       "      <td>...</td>\n",
       "      <td>10x 3' v3</td>\n",
       "      <td>normal</td>\n",
       "      <td>Homo sapiens</td>\n",
       "      <td>female</td>\n",
       "      <td>interventricular septum</td>\n",
       "      <td>European</td>\n",
       "      <td>fifth decade human stage</td>\n",
       "      <td>control</td>\n",
       "      <td>normal</td>\n",
       "      <td>fibroblast of cardiac tissue_normal</td>\n",
       "    </tr>\n",
       "    <tr>\n",
       "      <th>234184</th>\n",
       "      <td>BO_H36_LV0_premrna</td>\n",
       "      <td>H36</td>\n",
       "      <td>LV</td>\n",
       "      <td>TTN</td>\n",
       "      <td>973</td>\n",
       "      <td>1569</td>\n",
       "      <td>0.002549</td>\n",
       "      <td>0.000000</td>\n",
       "      <td>0.014375</td>\n",
       "      <td>0.002025</td>\n",
       "      <td>...</td>\n",
       "      <td>10x 3' v3</td>\n",
       "      <td>dilated cardiomyopathy</td>\n",
       "      <td>Homo sapiens</td>\n",
       "      <td>male</td>\n",
       "      <td>heart left ventricle</td>\n",
       "      <td>European</td>\n",
       "      <td>fifth decade human stage</td>\n",
       "      <td>DCM</td>\n",
       "      <td>DCM</td>\n",
       "      <td>mural cell_DCM</td>\n",
       "    </tr>\n",
       "    <tr>\n",
       "      <th>190094</th>\n",
       "      <td>BO_H26_LV0_premrna</td>\n",
       "      <td>H26</td>\n",
       "      <td>LV</td>\n",
       "      <td>LMNA</td>\n",
       "      <td>802</td>\n",
       "      <td>1094</td>\n",
       "      <td>0.000000</td>\n",
       "      <td>0.003656</td>\n",
       "      <td>0.004087</td>\n",
       "      <td>0.000191</td>\n",
       "      <td>...</td>\n",
       "      <td>10x 3' v3</td>\n",
       "      <td>dilated cardiomyopathy</td>\n",
       "      <td>Homo sapiens</td>\n",
       "      <td>female</td>\n",
       "      <td>heart left ventricle</td>\n",
       "      <td>European</td>\n",
       "      <td>fifth decade human stage</td>\n",
       "      <td>DCM</td>\n",
       "      <td>DCM</td>\n",
       "      <td>endothelial cell_DCM</td>\n",
       "    </tr>\n",
       "    <tr>\n",
       "      <th>534454</th>\n",
       "      <td>BO_H35_RV0_premrna</td>\n",
       "      <td>H35</td>\n",
       "      <td>RV</td>\n",
       "      <td>TTN</td>\n",
       "      <td>2463</td>\n",
       "      <td>6020</td>\n",
       "      <td>0.004485</td>\n",
       "      <td>0.001661</td>\n",
       "      <td>0.032474</td>\n",
       "      <td>0.003368</td>\n",
       "      <td>...</td>\n",
       "      <td>10x 3' v3</td>\n",
       "      <td>dilated cardiomyopathy</td>\n",
       "      <td>Homo sapiens</td>\n",
       "      <td>male</td>\n",
       "      <td>heart right ventricle</td>\n",
       "      <td>European</td>\n",
       "      <td>fifth decade human stage</td>\n",
       "      <td>DCM</td>\n",
       "      <td>DCM</td>\n",
       "      <td>cardiac muscle cell_DCM</td>\n",
       "    </tr>\n",
       "    <tr>\n",
       "      <th>...</th>\n",
       "      <td>...</td>\n",
       "      <td>...</td>\n",
       "      <td>...</td>\n",
       "      <td>...</td>\n",
       "      <td>...</td>\n",
       "      <td>...</td>\n",
       "      <td>...</td>\n",
       "      <td>...</td>\n",
       "      <td>...</td>\n",
       "      <td>...</td>\n",
       "      <td>...</td>\n",
       "      <td>...</td>\n",
       "      <td>...</td>\n",
       "      <td>...</td>\n",
       "      <td>...</td>\n",
       "      <td>...</td>\n",
       "      <td>...</td>\n",
       "      <td>...</td>\n",
       "      <td>...</td>\n",
       "      <td>...</td>\n",
       "      <td>...</td>\n",
       "    </tr>\n",
       "    <tr>\n",
       "      <th>773747</th>\n",
       "      <td>BO_H46_LV0_R2_premrna</td>\n",
       "      <td>H46</td>\n",
       "      <td>LV</td>\n",
       "      <td>control</td>\n",
       "      <td>2561</td>\n",
       "      <td>4728</td>\n",
       "      <td>0.001904</td>\n",
       "      <td>0.002961</td>\n",
       "      <td>0.185478</td>\n",
       "      <td>0.016628</td>\n",
       "      <td>...</td>\n",
       "      <td>10x 3' v3</td>\n",
       "      <td>normal</td>\n",
       "      <td>Homo sapiens</td>\n",
       "      <td>male</td>\n",
       "      <td>heart left ventricle</td>\n",
       "      <td>European</td>\n",
       "      <td>third decade human stage</td>\n",
       "      <td>control</td>\n",
       "      <td>normal</td>\n",
       "      <td>fibroblast of cardiac tissue_normal</td>\n",
       "    </tr>\n",
       "    <tr>\n",
       "      <th>214900</th>\n",
       "      <td>BO_H29_LV0_premrna</td>\n",
       "      <td>H29</td>\n",
       "      <td>LV</td>\n",
       "      <td>PKP2</td>\n",
       "      <td>926</td>\n",
       "      <td>1375</td>\n",
       "      <td>0.003636</td>\n",
       "      <td>0.002182</td>\n",
       "      <td>0.014102</td>\n",
       "      <td>0.003676</td>\n",
       "      <td>...</td>\n",
       "      <td>10x 3' v3</td>\n",
       "      <td>arrhythmogenic right ventricular cardiomyopathy</td>\n",
       "      <td>Homo sapiens</td>\n",
       "      <td>female</td>\n",
       "      <td>heart left ventricle</td>\n",
       "      <td>European</td>\n",
       "      <td>fifth decade human stage</td>\n",
       "      <td>ACM</td>\n",
       "      <td>ACM</td>\n",
       "      <td>mural cell_ACM</td>\n",
       "    </tr>\n",
       "    <tr>\n",
       "      <th>324923</th>\n",
       "      <td>BO_H33_RV0_premrna</td>\n",
       "      <td>H33</td>\n",
       "      <td>RV</td>\n",
       "      <td>RBM20</td>\n",
       "      <td>966</td>\n",
       "      <td>1713</td>\n",
       "      <td>0.000584</td>\n",
       "      <td>0.000584</td>\n",
       "      <td>0.022617</td>\n",
       "      <td>0.000286</td>\n",
       "      <td>...</td>\n",
       "      <td>10x 3' v3</td>\n",
       "      <td>dilated cardiomyopathy</td>\n",
       "      <td>Homo sapiens</td>\n",
       "      <td>male</td>\n",
       "      <td>heart right ventricle</td>\n",
       "      <td>European</td>\n",
       "      <td>fourth decade human stage</td>\n",
       "      <td>DCM</td>\n",
       "      <td>DCM</td>\n",
       "      <td>mural cell_DCM</td>\n",
       "    </tr>\n",
       "    <tr>\n",
       "      <th>694678</th>\n",
       "      <td>BO_H35_LV0_premrna</td>\n",
       "      <td>H35</td>\n",
       "      <td>LV</td>\n",
       "      <td>TTN</td>\n",
       "      <td>805</td>\n",
       "      <td>1251</td>\n",
       "      <td>0.005596</td>\n",
       "      <td>0.005596</td>\n",
       "      <td>0.045399</td>\n",
       "      <td>0.000787</td>\n",
       "      <td>...</td>\n",
       "      <td>10x 3' v3</td>\n",
       "      <td>dilated cardiomyopathy</td>\n",
       "      <td>Homo sapiens</td>\n",
       "      <td>male</td>\n",
       "      <td>heart left ventricle</td>\n",
       "      <td>European</td>\n",
       "      <td>fifth decade human stage</td>\n",
       "      <td>DCM</td>\n",
       "      <td>DCM</td>\n",
       "      <td>mural cell_DCM</td>\n",
       "    </tr>\n",
       "    <tr>\n",
       "      <th>349099</th>\n",
       "      <td>BO_H34_RV0_premrna</td>\n",
       "      <td>H34</td>\n",
       "      <td>RV</td>\n",
       "      <td>TTN</td>\n",
       "      <td>3908</td>\n",
       "      <td>14762</td>\n",
       "      <td>0.000813</td>\n",
       "      <td>0.001287</td>\n",
       "      <td>0.084145</td>\n",
       "      <td>0.033331</td>\n",
       "      <td>...</td>\n",
       "      <td>10x 3' v3</td>\n",
       "      <td>dilated cardiomyopathy</td>\n",
       "      <td>Homo sapiens</td>\n",
       "      <td>female</td>\n",
       "      <td>heart right ventricle</td>\n",
       "      <td>European</td>\n",
       "      <td>fourth decade human stage</td>\n",
       "      <td>DCM</td>\n",
       "      <td>DCM</td>\n",
       "      <td>cardiac muscle cell_DCM</td>\n",
       "    </tr>\n",
       "  </tbody>\n",
       "</table>\n",
       "<p>284727 rows × 34 columns</p>\n",
       "</div>"
      ],
      "text/plain": [
       "                       Sample donor_id Region_x Primary.Genetic.Diagnosis  \\\n",
       "381331     BO_H35_S0N_premrna      H35       LV                       TTN   \n",
       "406261     BO_H49_S0N_premrna      H49       LV                   control   \n",
       "234184     BO_H36_LV0_premrna      H36       LV                       TTN   \n",
       "190094     BO_H26_LV0_premrna      H26       LV                      LMNA   \n",
       "534454     BO_H35_RV0_premrna      H35       RV                       TTN   \n",
       "...                       ...      ...      ...                       ...   \n",
       "773747  BO_H46_LV0_R2_premrna      H46       LV                   control   \n",
       "214900     BO_H29_LV0_premrna      H29       LV                      PKP2   \n",
       "324923     BO_H33_RV0_premrna      H33       RV                     RBM20   \n",
       "694678     BO_H35_LV0_premrna      H35       LV                       TTN   \n",
       "349099     BO_H34_RV0_premrna      H34       RV                       TTN   \n",
       "\n",
       "        n_genes  n_counts  percent_mito  percent_ribo  scrublet_score_z  \\\n",
       "381331      861      1299      0.003079      0.000770          0.009163   \n",
       "406261     3495      7079      0.000989      0.002684          0.021977   \n",
       "234184      973      1569      0.002549      0.000000          0.014375   \n",
       "190094      802      1094      0.000000      0.003656          0.004087   \n",
       "534454     2463      6020      0.004485      0.001661          0.032474   \n",
       "...         ...       ...           ...           ...               ...   \n",
       "773747     2561      4728      0.001904      0.002961          0.185478   \n",
       "214900      926      1375      0.003636      0.002182          0.014102   \n",
       "324923      966      1713      0.000584      0.000584          0.022617   \n",
       "694678      805      1251      0.005596      0.005596          0.045399   \n",
       "349099     3908     14762      0.000813      0.001287          0.084145   \n",
       "\n",
       "        scrublet_score_log  ...      assay  \\\n",
       "381331            0.000489  ...  10x 3' v3   \n",
       "406261            0.057437  ...  10x 3' v3   \n",
       "234184            0.002025  ...  10x 3' v3   \n",
       "190094            0.000191  ...  10x 3' v3   \n",
       "534454            0.003368  ...  10x 3' v3   \n",
       "...                    ...  ...        ...   \n",
       "773747            0.016628  ...  10x 3' v3   \n",
       "214900            0.003676  ...  10x 3' v3   \n",
       "324923            0.000286  ...  10x 3' v3   \n",
       "694678            0.000787  ...  10x 3' v3   \n",
       "349099            0.033331  ...  10x 3' v3   \n",
       "\n",
       "                                                disease      organism     sex  \\\n",
       "381331                           dilated cardiomyopathy  Homo sapiens    male   \n",
       "406261                                           normal  Homo sapiens  female   \n",
       "234184                           dilated cardiomyopathy  Homo sapiens    male   \n",
       "190094                           dilated cardiomyopathy  Homo sapiens  female   \n",
       "534454                           dilated cardiomyopathy  Homo sapiens    male   \n",
       "...                                                 ...           ...     ...   \n",
       "773747                                           normal  Homo sapiens    male   \n",
       "214900  arrhythmogenic right ventricular cardiomyopathy  Homo sapiens  female   \n",
       "324923                           dilated cardiomyopathy  Homo sapiens    male   \n",
       "694678                           dilated cardiomyopathy  Homo sapiens    male   \n",
       "349099                           dilated cardiomyopathy  Homo sapiens  female   \n",
       "\n",
       "                         tissue self_reported_ethnicity  \\\n",
       "381331  interventricular septum                European   \n",
       "406261  interventricular septum                European   \n",
       "234184     heart left ventricle                European   \n",
       "190094     heart left ventricle                European   \n",
       "534454    heart right ventricle                European   \n",
       "...                         ...                     ...   \n",
       "773747     heart left ventricle                European   \n",
       "214900     heart left ventricle                European   \n",
       "324923    heart right ventricle                European   \n",
       "694678     heart left ventricle                European   \n",
       "349099    heart right ventricle                European   \n",
       "\n",
       "                development_stage disease_renamed disease_short  \\\n",
       "381331   fifth decade human stage             DCM           DCM   \n",
       "406261   fifth decade human stage         control        normal   \n",
       "234184   fifth decade human stage             DCM           DCM   \n",
       "190094   fifth decade human stage             DCM           DCM   \n",
       "534454   fifth decade human stage             DCM           DCM   \n",
       "...                           ...             ...           ...   \n",
       "773747   third decade human stage         control        normal   \n",
       "214900   fifth decade human stage             ACM           ACM   \n",
       "324923  fourth decade human stage             DCM           DCM   \n",
       "694678   fifth decade human stage             DCM           DCM   \n",
       "349099  fourth decade human stage             DCM           DCM   \n",
       "\n",
       "                           celltype_disease  \n",
       "381331                       mural cell_DCM  \n",
       "406261  fibroblast of cardiac tissue_normal  \n",
       "234184                       mural cell_DCM  \n",
       "190094                 endothelial cell_DCM  \n",
       "534454              cardiac muscle cell_DCM  \n",
       "...                                     ...  \n",
       "773747  fibroblast of cardiac tissue_normal  \n",
       "214900                       mural cell_ACM  \n",
       "324923                       mural cell_DCM  \n",
       "694678                       mural cell_DCM  \n",
       "349099              cardiac muscle cell_DCM  \n",
       "\n",
       "[284727 rows x 34 columns]"
      ]
     },
     "execution_count": 46,
     "metadata": {},
     "output_type": "execute_result"
    }
   ],
   "source": [
    "adata.obs"
   ]
  },
  {
   "cell_type": "markdown",
   "id": "477730ad-ee3b-45a1-bc6e-cccbcb792d61",
   "metadata": {},
   "source": [
    "## Add new fastmnn results"
   ]
  },
  {
   "cell_type": "code",
   "execution_count": 49,
   "id": "82ba3ed4-8c8d-4bc1-a8ab-042f1ac8bc1d",
   "metadata": {
    "tags": []
   },
   "outputs": [],
   "source": [
    "fastmnn_dims = pd.read_csv('/lustre/scratch127/cellgen/cellgeni/tickets/tic-3135/objs_heart/fastmnn_dims_oct24.csv')"
   ]
  },
  {
   "cell_type": "code",
   "execution_count": 50,
   "id": "3d4037ac-d8b1-43e1-ba60-edf085ac2e20",
   "metadata": {
    "tags": []
   },
   "outputs": [
    {
     "data": {
      "text/html": [
       "<div>\n",
       "<style scoped>\n",
       "    .dataframe tbody tr th:only-of-type {\n",
       "        vertical-align: middle;\n",
       "    }\n",
       "\n",
       "    .dataframe tbody tr th {\n",
       "        vertical-align: top;\n",
       "    }\n",
       "\n",
       "    .dataframe thead th {\n",
       "        text-align: right;\n",
       "    }\n",
       "</style>\n",
       "<table border=\"1\" class=\"dataframe\">\n",
       "  <thead>\n",
       "    <tr style=\"text-align: right;\">\n",
       "      <th></th>\n",
       "      <th>Unnamed: 0</th>\n",
       "      <th>V1</th>\n",
       "      <th>V2</th>\n",
       "      <th>V3</th>\n",
       "      <th>V4</th>\n",
       "      <th>V5</th>\n",
       "      <th>V6</th>\n",
       "      <th>V7</th>\n",
       "      <th>V8</th>\n",
       "      <th>V9</th>\n",
       "      <th>...</th>\n",
       "      <th>V16</th>\n",
       "      <th>V17</th>\n",
       "      <th>V18</th>\n",
       "      <th>V19</th>\n",
       "      <th>V20</th>\n",
       "      <th>V21</th>\n",
       "      <th>V22</th>\n",
       "      <th>V23</th>\n",
       "      <th>V24</th>\n",
       "      <th>V25</th>\n",
       "    </tr>\n",
       "  </thead>\n",
       "  <tbody>\n",
       "    <tr>\n",
       "      <th>0</th>\n",
       "      <td>381331</td>\n",
       "      <td>0.213732</td>\n",
       "      <td>0.249911</td>\n",
       "      <td>0.203204</td>\n",
       "      <td>0.040587</td>\n",
       "      <td>0.007999</td>\n",
       "      <td>0.065664</td>\n",
       "      <td>-0.039051</td>\n",
       "      <td>0.022109</td>\n",
       "      <td>-0.011036</td>\n",
       "      <td>...</td>\n",
       "      <td>0.045032</td>\n",
       "      <td>0.000959</td>\n",
       "      <td>-0.037199</td>\n",
       "      <td>-0.015062</td>\n",
       "      <td>0.024543</td>\n",
       "      <td>0.016072</td>\n",
       "      <td>-0.010208</td>\n",
       "      <td>-0.012451</td>\n",
       "      <td>-0.008238</td>\n",
       "      <td>-0.014867</td>\n",
       "    </tr>\n",
       "    <tr>\n",
       "      <th>1</th>\n",
       "      <td>406261</td>\n",
       "      <td>0.217415</td>\n",
       "      <td>0.171219</td>\n",
       "      <td>-0.291144</td>\n",
       "      <td>-0.101136</td>\n",
       "      <td>-0.060384</td>\n",
       "      <td>0.069405</td>\n",
       "      <td>0.097429</td>\n",
       "      <td>0.004631</td>\n",
       "      <td>0.007754</td>\n",
       "      <td>...</td>\n",
       "      <td>0.082627</td>\n",
       "      <td>-0.057639</td>\n",
       "      <td>-0.075126</td>\n",
       "      <td>0.027014</td>\n",
       "      <td>-0.004367</td>\n",
       "      <td>0.009270</td>\n",
       "      <td>-0.010273</td>\n",
       "      <td>0.030489</td>\n",
       "      <td>-0.041293</td>\n",
       "      <td>-0.002860</td>\n",
       "    </tr>\n",
       "    <tr>\n",
       "      <th>2</th>\n",
       "      <td>234184</td>\n",
       "      <td>0.205529</td>\n",
       "      <td>0.267908</td>\n",
       "      <td>0.196806</td>\n",
       "      <td>0.073469</td>\n",
       "      <td>-0.020843</td>\n",
       "      <td>0.073072</td>\n",
       "      <td>0.026353</td>\n",
       "      <td>0.027945</td>\n",
       "      <td>0.007374</td>\n",
       "      <td>...</td>\n",
       "      <td>0.034566</td>\n",
       "      <td>0.045551</td>\n",
       "      <td>-0.028472</td>\n",
       "      <td>0.040312</td>\n",
       "      <td>0.022829</td>\n",
       "      <td>-0.038941</td>\n",
       "      <td>0.030101</td>\n",
       "      <td>0.032940</td>\n",
       "      <td>-0.014257</td>\n",
       "      <td>-0.020418</td>\n",
       "    </tr>\n",
       "    <tr>\n",
       "      <th>3</th>\n",
       "      <td>190094</td>\n",
       "      <td>0.199125</td>\n",
       "      <td>-0.334130</td>\n",
       "      <td>0.163050</td>\n",
       "      <td>-0.205612</td>\n",
       "      <td>0.012535</td>\n",
       "      <td>0.086457</td>\n",
       "      <td>0.034312</td>\n",
       "      <td>0.024517</td>\n",
       "      <td>0.005067</td>\n",
       "      <td>...</td>\n",
       "      <td>-0.035921</td>\n",
       "      <td>-0.012777</td>\n",
       "      <td>-0.073691</td>\n",
       "      <td>0.044074</td>\n",
       "      <td>-0.029504</td>\n",
       "      <td>-0.031618</td>\n",
       "      <td>0.010157</td>\n",
       "      <td>0.054564</td>\n",
       "      <td>-0.004374</td>\n",
       "      <td>0.022227</td>\n",
       "    </tr>\n",
       "    <tr>\n",
       "      <th>4</th>\n",
       "      <td>534454</td>\n",
       "      <td>-0.372502</td>\n",
       "      <td>-0.000371</td>\n",
       "      <td>-0.001167</td>\n",
       "      <td>-0.018986</td>\n",
       "      <td>0.013623</td>\n",
       "      <td>0.044391</td>\n",
       "      <td>0.064017</td>\n",
       "      <td>0.009243</td>\n",
       "      <td>0.062273</td>\n",
       "      <td>...</td>\n",
       "      <td>-0.014186</td>\n",
       "      <td>-0.124991</td>\n",
       "      <td>0.095653</td>\n",
       "      <td>-0.096378</td>\n",
       "      <td>-0.083941</td>\n",
       "      <td>-0.014980</td>\n",
       "      <td>-0.010211</td>\n",
       "      <td>0.050107</td>\n",
       "      <td>-0.047710</td>\n",
       "      <td>-0.034885</td>\n",
       "    </tr>\n",
       "    <tr>\n",
       "      <th>...</th>\n",
       "      <td>...</td>\n",
       "      <td>...</td>\n",
       "      <td>...</td>\n",
       "      <td>...</td>\n",
       "      <td>...</td>\n",
       "      <td>...</td>\n",
       "      <td>...</td>\n",
       "      <td>...</td>\n",
       "      <td>...</td>\n",
       "      <td>...</td>\n",
       "      <td>...</td>\n",
       "      <td>...</td>\n",
       "      <td>...</td>\n",
       "      <td>...</td>\n",
       "      <td>...</td>\n",
       "      <td>...</td>\n",
       "      <td>...</td>\n",
       "      <td>...</td>\n",
       "      <td>...</td>\n",
       "      <td>...</td>\n",
       "      <td>...</td>\n",
       "    </tr>\n",
       "    <tr>\n",
       "      <th>284722</th>\n",
       "      <td>773747</td>\n",
       "      <td>0.202570</td>\n",
       "      <td>0.105094</td>\n",
       "      <td>-0.244040</td>\n",
       "      <td>-0.043511</td>\n",
       "      <td>-0.022095</td>\n",
       "      <td>0.063319</td>\n",
       "      <td>0.117648</td>\n",
       "      <td>-0.008520</td>\n",
       "      <td>-0.003386</td>\n",
       "      <td>...</td>\n",
       "      <td>-0.004909</td>\n",
       "      <td>-0.023553</td>\n",
       "      <td>-0.044887</td>\n",
       "      <td>0.039479</td>\n",
       "      <td>-0.029213</td>\n",
       "      <td>-0.051647</td>\n",
       "      <td>-0.026563</td>\n",
       "      <td>0.004386</td>\n",
       "      <td>-0.014969</td>\n",
       "      <td>-0.046478</td>\n",
       "    </tr>\n",
       "    <tr>\n",
       "      <th>284723</th>\n",
       "      <td>214900</td>\n",
       "      <td>0.194932</td>\n",
       "      <td>0.258268</td>\n",
       "      <td>0.219364</td>\n",
       "      <td>0.042215</td>\n",
       "      <td>0.015043</td>\n",
       "      <td>0.055616</td>\n",
       "      <td>-0.002967</td>\n",
       "      <td>0.025794</td>\n",
       "      <td>-0.030031</td>\n",
       "      <td>...</td>\n",
       "      <td>0.057720</td>\n",
       "      <td>-0.026084</td>\n",
       "      <td>-0.068145</td>\n",
       "      <td>0.019271</td>\n",
       "      <td>0.016111</td>\n",
       "      <td>-0.043660</td>\n",
       "      <td>-0.003993</td>\n",
       "      <td>0.021433</td>\n",
       "      <td>0.000369</td>\n",
       "      <td>-0.008688</td>\n",
       "    </tr>\n",
       "    <tr>\n",
       "      <th>284724</th>\n",
       "      <td>324923</td>\n",
       "      <td>0.161747</td>\n",
       "      <td>0.211106</td>\n",
       "      <td>0.199638</td>\n",
       "      <td>0.091609</td>\n",
       "      <td>-0.005233</td>\n",
       "      <td>0.046077</td>\n",
       "      <td>0.006649</td>\n",
       "      <td>-0.006457</td>\n",
       "      <td>0.032155</td>\n",
       "      <td>...</td>\n",
       "      <td>0.032241</td>\n",
       "      <td>0.012337</td>\n",
       "      <td>-0.023095</td>\n",
       "      <td>0.012511</td>\n",
       "      <td>0.015208</td>\n",
       "      <td>0.025544</td>\n",
       "      <td>0.039596</td>\n",
       "      <td>0.007296</td>\n",
       "      <td>-0.006837</td>\n",
       "      <td>0.006959</td>\n",
       "    </tr>\n",
       "    <tr>\n",
       "      <th>284725</th>\n",
       "      <td>694678</td>\n",
       "      <td>0.232881</td>\n",
       "      <td>0.209870</td>\n",
       "      <td>0.207046</td>\n",
       "      <td>0.048839</td>\n",
       "      <td>-0.004542</td>\n",
       "      <td>0.057144</td>\n",
       "      <td>-0.049657</td>\n",
       "      <td>0.014170</td>\n",
       "      <td>-0.007045</td>\n",
       "      <td>...</td>\n",
       "      <td>0.025071</td>\n",
       "      <td>-0.017443</td>\n",
       "      <td>-0.105127</td>\n",
       "      <td>0.057104</td>\n",
       "      <td>0.015259</td>\n",
       "      <td>-0.012407</td>\n",
       "      <td>-0.044063</td>\n",
       "      <td>0.005081</td>\n",
       "      <td>-0.052275</td>\n",
       "      <td>0.022913</td>\n",
       "    </tr>\n",
       "    <tr>\n",
       "      <th>284726</th>\n",
       "      <td>349099</td>\n",
       "      <td>-0.351512</td>\n",
       "      <td>-0.016313</td>\n",
       "      <td>-0.009786</td>\n",
       "      <td>-0.026174</td>\n",
       "      <td>0.035354</td>\n",
       "      <td>0.024735</td>\n",
       "      <td>0.079783</td>\n",
       "      <td>0.064021</td>\n",
       "      <td>0.039265</td>\n",
       "      <td>...</td>\n",
       "      <td>-0.025791</td>\n",
       "      <td>-0.168014</td>\n",
       "      <td>0.065449</td>\n",
       "      <td>-0.082512</td>\n",
       "      <td>-0.133164</td>\n",
       "      <td>-0.009733</td>\n",
       "      <td>-0.011284</td>\n",
       "      <td>0.016825</td>\n",
       "      <td>-0.023123</td>\n",
       "      <td>0.001747</td>\n",
       "    </tr>\n",
       "  </tbody>\n",
       "</table>\n",
       "<p>284727 rows × 26 columns</p>\n",
       "</div>"
      ],
      "text/plain": [
       "        Unnamed: 0        V1        V2        V3        V4        V5  \\\n",
       "0           381331  0.213732  0.249911  0.203204  0.040587  0.007999   \n",
       "1           406261  0.217415  0.171219 -0.291144 -0.101136 -0.060384   \n",
       "2           234184  0.205529  0.267908  0.196806  0.073469 -0.020843   \n",
       "3           190094  0.199125 -0.334130  0.163050 -0.205612  0.012535   \n",
       "4           534454 -0.372502 -0.000371 -0.001167 -0.018986  0.013623   \n",
       "...            ...       ...       ...       ...       ...       ...   \n",
       "284722      773747  0.202570  0.105094 -0.244040 -0.043511 -0.022095   \n",
       "284723      214900  0.194932  0.258268  0.219364  0.042215  0.015043   \n",
       "284724      324923  0.161747  0.211106  0.199638  0.091609 -0.005233   \n",
       "284725      694678  0.232881  0.209870  0.207046  0.048839 -0.004542   \n",
       "284726      349099 -0.351512 -0.016313 -0.009786 -0.026174  0.035354   \n",
       "\n",
       "              V6        V7        V8        V9  ...       V16       V17  \\\n",
       "0       0.065664 -0.039051  0.022109 -0.011036  ...  0.045032  0.000959   \n",
       "1       0.069405  0.097429  0.004631  0.007754  ...  0.082627 -0.057639   \n",
       "2       0.073072  0.026353  0.027945  0.007374  ...  0.034566  0.045551   \n",
       "3       0.086457  0.034312  0.024517  0.005067  ... -0.035921 -0.012777   \n",
       "4       0.044391  0.064017  0.009243  0.062273  ... -0.014186 -0.124991   \n",
       "...          ...       ...       ...       ...  ...       ...       ...   \n",
       "284722  0.063319  0.117648 -0.008520 -0.003386  ... -0.004909 -0.023553   \n",
       "284723  0.055616 -0.002967  0.025794 -0.030031  ...  0.057720 -0.026084   \n",
       "284724  0.046077  0.006649 -0.006457  0.032155  ...  0.032241  0.012337   \n",
       "284725  0.057144 -0.049657  0.014170 -0.007045  ...  0.025071 -0.017443   \n",
       "284726  0.024735  0.079783  0.064021  0.039265  ... -0.025791 -0.168014   \n",
       "\n",
       "             V18       V19       V20       V21       V22       V23       V24  \\\n",
       "0      -0.037199 -0.015062  0.024543  0.016072 -0.010208 -0.012451 -0.008238   \n",
       "1      -0.075126  0.027014 -0.004367  0.009270 -0.010273  0.030489 -0.041293   \n",
       "2      -0.028472  0.040312  0.022829 -0.038941  0.030101  0.032940 -0.014257   \n",
       "3      -0.073691  0.044074 -0.029504 -0.031618  0.010157  0.054564 -0.004374   \n",
       "4       0.095653 -0.096378 -0.083941 -0.014980 -0.010211  0.050107 -0.047710   \n",
       "...          ...       ...       ...       ...       ...       ...       ...   \n",
       "284722 -0.044887  0.039479 -0.029213 -0.051647 -0.026563  0.004386 -0.014969   \n",
       "284723 -0.068145  0.019271  0.016111 -0.043660 -0.003993  0.021433  0.000369   \n",
       "284724 -0.023095  0.012511  0.015208  0.025544  0.039596  0.007296 -0.006837   \n",
       "284725 -0.105127  0.057104  0.015259 -0.012407 -0.044063  0.005081 -0.052275   \n",
       "284726  0.065449 -0.082512 -0.133164 -0.009733 -0.011284  0.016825 -0.023123   \n",
       "\n",
       "             V25  \n",
       "0      -0.014867  \n",
       "1      -0.002860  \n",
       "2      -0.020418  \n",
       "3       0.022227  \n",
       "4      -0.034885  \n",
       "...          ...  \n",
       "284722 -0.046478  \n",
       "284723 -0.008688  \n",
       "284724  0.006959  \n",
       "284725  0.022913  \n",
       "284726  0.001747  \n",
       "\n",
       "[284727 rows x 26 columns]"
      ]
     },
     "execution_count": 50,
     "metadata": {},
     "output_type": "execute_result"
    }
   ],
   "source": [
    "fastmnn_dims"
   ]
  },
  {
   "cell_type": "code",
   "execution_count": 51,
   "id": "52c5035e-fb12-420b-a2b4-eb43455e8a90",
   "metadata": {
    "tags": []
   },
   "outputs": [],
   "source": [
    "adata.obsm['X_fastmnn'] = fastmnn_dims.to_numpy()"
   ]
  },
  {
   "cell_type": "code",
   "execution_count": 52,
   "id": "b57aefe6-4422-4177-8b43-1aa744fa1480",
   "metadata": {
    "tags": []
   },
   "outputs": [],
   "source": [
    "adata.write('/lustre/scratch127/cellgen/cellgeni/tickets/tic-3135/objs_heart/_adata_allresults6.h5ad', compression='gzip')"
   ]
  },
  {
   "cell_type": "code",
   "execution_count": null,
   "id": "e227f19c-9393-498f-b689-a13dc497d618",
   "metadata": {},
   "outputs": [],
   "source": []
  },
  {
   "cell_type": "code",
   "execution_count": null,
   "id": "c8e4fb25-376d-4d42-b52f-e60066d60222",
   "metadata": {},
   "outputs": [],
   "source": []
  },
  {
   "cell_type": "code",
   "execution_count": null,
   "id": "2517687d-3569-4aa3-be8b-ca520f51d31c",
   "metadata": {},
   "outputs": [],
   "source": []
  },
  {
   "cell_type": "code",
   "execution_count": null,
   "id": "d2941e9f-9de7-4f78-87e3-43f763ea48a1",
   "metadata": {},
   "outputs": [],
   "source": []
  },
  {
   "cell_type": "markdown",
   "id": "d69a289f",
   "metadata": {},
   "source": [
    "## Compute some metrics before full scIB run"
   ]
  },
  {
   "cell_type": "code",
   "execution_count": 18,
   "id": "3d2bf431-f580-4980-89c1-1472c1441139",
   "metadata": {
    "tags": []
   },
   "outputs": [
    {
     "name": "stdout",
     "output_type": "stream",
     "text": [
      "covariate: celltype_disease\n",
      "Compute PCR on embedding n_comps: 50\n"
     ]
    },
    {
     "name": "stderr",
     "output_type": "stream",
     "text": [
      "/software/cellgen/team278/bc8/envs/scvi/lib/python3.11/site-packages/scanpy/preprocessing/_pca.py:374: FutureWarning: Argument `use_highly_variable` is deprecated, consider using the mask argument. Use_highly_variable=True can be called through mask_var=\"highly_variable\". Use_highly_variable=False can be called through mask_var=None\n",
      "  warn(msg, FutureWarning)\n"
     ]
    },
    {
     "data": {
      "text/plain": [
       "0.6827252566896242"
      ]
     },
     "execution_count": 18,
     "metadata": {},
     "output_type": "execute_result"
    }
   ],
   "source": [
    "scib.metrics.pcr(adata, covariate='celltype_disease', embed='X_FinVAE', n_comps=50, recompute_pca=True, verbose=True)"
   ]
  },
  {
   "cell_type": "code",
   "execution_count": 19,
   "id": "bfcd5b66-81b8-4e26-8088-8b39c3899f66",
   "metadata": {
    "tags": []
   },
   "outputs": [
    {
     "name": "stdout",
     "output_type": "stream",
     "text": [
      "covariate: disease\n",
      "Compute PCR on embedding n_comps: 50\n"
     ]
    },
    {
     "name": "stderr",
     "output_type": "stream",
     "text": [
      "/software/cellgen/team278/bc8/envs/scvi/lib/python3.11/site-packages/scanpy/preprocessing/_pca.py:374: FutureWarning: Argument `use_highly_variable` is deprecated, consider using the mask argument. Use_highly_variable=True can be called through mask_var=\"highly_variable\". Use_highly_variable=False can be called through mask_var=None\n",
      "  warn(msg, FutureWarning)\n"
     ]
    },
    {
     "data": {
      "text/plain": [
       "0.26095968954444065"
      ]
     },
     "execution_count": 19,
     "metadata": {},
     "output_type": "execute_result"
    }
   ],
   "source": [
    "scib.metrics.pcr(adata, covariate='disease', embed='X_FinVAE', n_comps=50, recompute_pca=True, verbose=True)"
   ]
  },
  {
   "cell_type": "code",
   "execution_count": 22,
   "id": "76e10535-e51c-4013-9622-c03ce5bf6522",
   "metadata": {
    "tags": []
   },
   "outputs": [
    {
     "name": "stdout",
     "output_type": "stream",
     "text": [
      "covariate: donor_id\n",
      "Compute PCR on embedding n_comps: 50\n"
     ]
    },
    {
     "name": "stderr",
     "output_type": "stream",
     "text": [
      "/software/cellgen/team278/bc8/envs/scvi/lib/python3.11/site-packages/scanpy/preprocessing/_pca.py:374: FutureWarning: Argument `use_highly_variable` is deprecated, consider using the mask argument. Use_highly_variable=True can be called through mask_var=\"highly_variable\". Use_highly_variable=False can be called through mask_var=None\n",
      "  warn(msg, FutureWarning)\n"
     ]
    },
    {
     "data": {
      "text/plain": [
       "0.33004831272253676"
      ]
     },
     "execution_count": 22,
     "metadata": {},
     "output_type": "execute_result"
    }
   ],
   "source": [
    "scib.metrics.pcr(adata, covariate='donor_id', embed='X_FinVAE', n_comps=50, recompute_pca=True, verbose=True)"
   ]
  },
  {
   "cell_type": "code",
   "execution_count": null,
   "id": "6675142b-79ee-40b7-8994-828d8b4ea98f",
   "metadata": {},
   "outputs": [],
   "source": []
  },
  {
   "cell_type": "code",
   "execution_count": 44,
   "id": "514a1569-8bb0-48a9-a7ba-abe3deb26ca0",
   "metadata": {
    "tags": []
   },
   "outputs": [],
   "source": [
    "del adata.obsm['X_pca']"
   ]
  },
  {
   "cell_type": "code",
   "execution_count": 45,
   "id": "98ab526c-b011-49da-b813-2ecedf55c70c",
   "metadata": {
    "tags": []
   },
   "outputs": [],
   "source": [
    "adata.obsm['X_pca'] = adata.obsm['X_combat_pca']"
   ]
  },
  {
   "cell_type": "code",
   "execution_count": 41,
   "id": "0ae38225-0e48-4669-8fd5-2b6cb0110248",
   "metadata": {
    "tags": []
   },
   "outputs": [
    {
     "name": "stdout",
     "output_type": "stream",
     "text": [
      "covariate: celltype_disease\n",
      "Compute PCR on embedding n_comps: 50\n"
     ]
    },
    {
     "name": "stderr",
     "output_type": "stream",
     "text": [
      "/software/cellgen/team278/bc8/envs/scvi/lib/python3.11/site-packages/scanpy/preprocessing/_pca.py:374: FutureWarning: Argument `use_highly_variable` is deprecated, consider using the mask argument. Use_highly_variable=True can be called through mask_var=\"highly_variable\". Use_highly_variable=False can be called through mask_var=None\n",
      "  warn(msg, FutureWarning)\n"
     ]
    },
    {
     "data": {
      "text/plain": [
       "0.6827252566896242"
      ]
     },
     "execution_count": 41,
     "metadata": {},
     "output_type": "execute_result"
    }
   ],
   "source": [
    "scib.metrics.pcr(adata, covariate='celltype_disease', embed='X_FinVAE', verbose=True)"
   ]
  },
  {
   "cell_type": "code",
   "execution_count": 42,
   "id": "168b49b2-0745-4164-b564-719584fb1d00",
   "metadata": {
    "tags": []
   },
   "outputs": [
    {
     "name": "stdout",
     "output_type": "stream",
     "text": [
      "covariate: disease\n",
      "Compute PCR on embedding n_comps: 50\n"
     ]
    },
    {
     "name": "stderr",
     "output_type": "stream",
     "text": [
      "/software/cellgen/team278/bc8/envs/scvi/lib/python3.11/site-packages/scanpy/preprocessing/_pca.py:374: FutureWarning: Argument `use_highly_variable` is deprecated, consider using the mask argument. Use_highly_variable=True can be called through mask_var=\"highly_variable\". Use_highly_variable=False can be called through mask_var=None\n",
      "  warn(msg, FutureWarning)\n"
     ]
    },
    {
     "data": {
      "text/plain": [
       "0.26095968954444065"
      ]
     },
     "execution_count": 42,
     "metadata": {},
     "output_type": "execute_result"
    }
   ],
   "source": [
    "scib.metrics.pcr(adata, covariate='disease', embed='X_FinVAE', verbose=True)"
   ]
  },
  {
   "cell_type": "code",
   "execution_count": 43,
   "id": "bb28a1dd-b5cd-429e-bc83-02b9dc5cd5f4",
   "metadata": {
    "tags": []
   },
   "outputs": [
    {
     "name": "stdout",
     "output_type": "stream",
     "text": [
      "covariate: donor_id\n",
      "Compute PCR on embedding n_comps: 50\n"
     ]
    },
    {
     "name": "stderr",
     "output_type": "stream",
     "text": [
      "/software/cellgen/team278/bc8/envs/scvi/lib/python3.11/site-packages/scanpy/preprocessing/_pca.py:374: FutureWarning: Argument `use_highly_variable` is deprecated, consider using the mask argument. Use_highly_variable=True can be called through mask_var=\"highly_variable\". Use_highly_variable=False can be called through mask_var=None\n",
      "  warn(msg, FutureWarning)\n"
     ]
    },
    {
     "data": {
      "text/plain": [
       "0.33004831272253676"
      ]
     },
     "execution_count": 43,
     "metadata": {},
     "output_type": "execute_result"
    }
   ],
   "source": [
    "scib.metrics.pcr(adata, covariate='donor_id', embed='X_FinVAE', verbose=True)"
   ]
  },
  {
   "cell_type": "code",
   "execution_count": null,
   "id": "c6e56f5c-397e-4f6e-a89c-c3eda14d06c3",
   "metadata": {},
   "outputs": [],
   "source": []
  },
  {
   "cell_type": "code",
   "execution_count": 21,
   "id": "c9060705-7284-46f1-b0fb-888c02268f2a",
   "metadata": {
    "tags": []
   },
   "outputs": [
    {
     "name": "stdout",
     "output_type": "stream",
     "text": [
      "covariate: celltype_disease\n",
      "Compute PCR on embedding n_comps: 50\n"
     ]
    },
    {
     "name": "stderr",
     "output_type": "stream",
     "text": [
      "/software/cellgen/team278/bc8/envs/scvi/lib/python3.11/site-packages/scanpy/preprocessing/_pca.py:374: FutureWarning: Argument `use_highly_variable` is deprecated, consider using the mask argument. Use_highly_variable=True can be called through mask_var=\"highly_variable\". Use_highly_variable=False can be called through mask_var=None\n",
      "  warn(msg, FutureWarning)\n"
     ]
    },
    {
     "data": {
      "text/plain": [
       "0.6827252566896242"
      ]
     },
     "execution_count": 21,
     "metadata": {},
     "output_type": "execute_result"
    }
   ],
   "source": [
    "scib.metrics.pcr(adata, covariate='celltype_disease', embed='X_FinVAE', n_comps=50, verbose=True)"
   ]
  },
  {
   "cell_type": "code",
   "execution_count": 20,
   "id": "546f1bf0-d33a-46bc-a517-10dec449d608",
   "metadata": {
    "tags": []
   },
   "outputs": [
    {
     "name": "stdout",
     "output_type": "stream",
     "text": [
      "covariate: disease\n",
      "Compute PCR on embedding n_comps: 50\n"
     ]
    },
    {
     "name": "stderr",
     "output_type": "stream",
     "text": [
      "/software/cellgen/team278/bc8/envs/scvi/lib/python3.11/site-packages/scanpy/preprocessing/_pca.py:374: FutureWarning: Argument `use_highly_variable` is deprecated, consider using the mask argument. Use_highly_variable=True can be called through mask_var=\"highly_variable\". Use_highly_variable=False can be called through mask_var=None\n",
      "  warn(msg, FutureWarning)\n"
     ]
    },
    {
     "data": {
      "text/plain": [
       "0.26095968954444065"
      ]
     },
     "execution_count": 20,
     "metadata": {},
     "output_type": "execute_result"
    }
   ],
   "source": [
    "scib.metrics.pcr(adata, covariate='disease', embed='X_FinVAE', n_comps=50, verbose=True)"
   ]
  },
  {
   "cell_type": "code",
   "execution_count": null,
   "id": "625b01da-d758-4e33-ab9b-67129c21628a",
   "metadata": {},
   "outputs": [],
   "source": []
  },
  {
   "cell_type": "code",
   "execution_count": 47,
   "id": "d24b8dd2-c9de-4f6b-99fb-a292375360d0",
   "metadata": {
    "tags": []
   },
   "outputs": [
    {
     "name": "stderr",
     "output_type": "stream",
     "text": [
      "/software/cellgen/team278/bc8/envs/scvi/lib/python3.11/site-packages/tqdm/auto.py:21: TqdmWarning: IProgress not found. Please update jupyter and ipywidgets. See https://ipywidgets.readthedocs.io/en/stable/user_install.html\n",
      "  from .autonotebook import tqdm as notebook_tqdm\n"
     ]
    },
    {
     "name": "stdout",
     "output_type": "stream",
     "text": [
      "using precomputed kNN graph\n",
      "Convert nearest neighbor matrix and distances for LISI.\n",
      "Compute knn on shortest paths\n",
      "call /software/cellgen/team278/bc8/envs/scvi/lib/python3.11/site-packages/scib/knn_graph/knn_graph.o /tmp/lisi_lfo9uuig/graph_lisi_input.mtx /tmp/lisi_lfo9uuig/graph_lisi 90 1 100\n",
      "LISI score estimation\n"
     ]
    },
    {
     "data": {
      "text/plain": [
       "0.28940830715293564"
      ]
     },
     "execution_count": 47,
     "metadata": {},
     "output_type": "execute_result"
    }
   ],
   "source": [
    "scib.metrics.ilisi_graph(adata, batch_key='donor_id', type_='full', verbose=True)"
   ]
  },
  {
   "cell_type": "code",
   "execution_count": 43,
   "id": "7207770e-2b91-4b52-aebc-5ccb4839f74e",
   "metadata": {
    "tags": []
   },
   "outputs": [
    {
     "name": "stdout",
     "output_type": "stream",
     "text": [
      "covariate: donor_id\n",
      "Compute PCR on embedding n_comps: 50\n"
     ]
    },
    {
     "name": "stderr",
     "output_type": "stream",
     "text": [
      "/software/cellgen/team278/bc8/envs/scvi/lib/python3.11/site-packages/scanpy/preprocessing/_pca.py:374: FutureWarning: Argument `use_highly_variable` is deprecated, consider using the mask argument. Use_highly_variable=True can be called through mask_var=\"highly_variable\". Use_highly_variable=False can be called through mask_var=None\n",
      "  warn(msg, FutureWarning)\n"
     ]
    },
    {
     "data": {
      "text/plain": [
       "0.33004831272253676"
      ]
     },
     "execution_count": 43,
     "metadata": {},
     "output_type": "execute_result"
    }
   ],
   "source": [
    "scib.metrics.ilisi_graph(adata, batch_key='donor_id', type_='embed', use_rep = 'X_FinVAE', verbose=True)"
   ]
  },
  {
   "cell_type": "code",
   "execution_count": 43,
   "id": "67fd5bcb-95a9-4e2e-b0de-5efc0c1fdc90",
   "metadata": {
    "tags": []
   },
   "outputs": [
    {
     "name": "stdout",
     "output_type": "stream",
     "text": [
      "covariate: donor_id\n",
      "Compute PCR on embedding n_comps: 50\n"
     ]
    },
    {
     "name": "stderr",
     "output_type": "stream",
     "text": [
      "/software/cellgen/team278/bc8/envs/scvi/lib/python3.11/site-packages/scanpy/preprocessing/_pca.py:374: FutureWarning: Argument `use_highly_variable` is deprecated, consider using the mask argument. Use_highly_variable=True can be called through mask_var=\"highly_variable\". Use_highly_variable=False can be called through mask_var=None\n",
      "  warn(msg, FutureWarning)\n"
     ]
    },
    {
     "data": {
      "text/plain": [
       "0.33004831272253676"
      ]
     },
     "execution_count": 43,
     "metadata": {},
     "output_type": "execute_result"
    }
   ],
   "source": [
    "scib.metrics.ilisi_graph(adata, batch_key='donor_id', type_='knn', verbose=True)"
   ]
  },
  {
   "cell_type": "code",
   "execution_count": 43,
   "id": "2f967ae1-3ab8-4ffa-9a2e-cbff95958b43",
   "metadata": {
    "tags": []
   },
   "outputs": [
    {
     "name": "stdout",
     "output_type": "stream",
     "text": [
      "covariate: donor_id\n",
      "Compute PCR on embedding n_comps: 50\n"
     ]
    },
    {
     "name": "stderr",
     "output_type": "stream",
     "text": [
      "/software/cellgen/team278/bc8/envs/scvi/lib/python3.11/site-packages/scanpy/preprocessing/_pca.py:374: FutureWarning: Argument `use_highly_variable` is deprecated, consider using the mask argument. Use_highly_variable=True can be called through mask_var=\"highly_variable\". Use_highly_variable=False can be called through mask_var=None\n",
      "  warn(msg, FutureWarning)\n"
     ]
    },
    {
     "data": {
      "text/plain": [
       "0.33004831272253676"
      ]
     },
     "execution_count": 43,
     "metadata": {},
     "output_type": "execute_result"
    }
   ],
   "source": [
    "scib.metrics.ilisi_graph(adata, batch_key='donor_id', embed='X_FinVAE', verbose=True)"
   ]
  },
  {
   "cell_type": "code",
   "execution_count": 41,
   "id": "f9217e27-e458-4d89-be70-6d6f9c4efbf0",
   "metadata": {
    "tags": []
   },
   "outputs": [
    {
     "name": "stdout",
     "output_type": "stream",
     "text": [
      "covariate: celltype_disease\n",
      "Compute PCR on embedding n_comps: 50\n"
     ]
    },
    {
     "name": "stderr",
     "output_type": "stream",
     "text": [
      "/software/cellgen/team278/bc8/envs/scvi/lib/python3.11/site-packages/scanpy/preprocessing/_pca.py:374: FutureWarning: Argument `use_highly_variable` is deprecated, consider using the mask argument. Use_highly_variable=True can be called through mask_var=\"highly_variable\". Use_highly_variable=False can be called through mask_var=None\n",
      "  warn(msg, FutureWarning)\n"
     ]
    },
    {
     "data": {
      "text/plain": [
       "0.6827252566896242"
      ]
     },
     "execution_count": 41,
     "metadata": {},
     "output_type": "execute_result"
    }
   ],
   "source": [
    "scib.metrics.ilisi_graph(adata, batch_key='celltype_disease', embed='X_FinVAE', verbose=True)"
   ]
  },
  {
   "cell_type": "code",
   "execution_count": 42,
   "id": "0b0a1b20-454d-4504-9a77-9d67aaeecdcb",
   "metadata": {
    "tags": []
   },
   "outputs": [
    {
     "name": "stdout",
     "output_type": "stream",
     "text": [
      "covariate: disease\n",
      "Compute PCR on embedding n_comps: 50\n"
     ]
    },
    {
     "name": "stderr",
     "output_type": "stream",
     "text": [
      "/software/cellgen/team278/bc8/envs/scvi/lib/python3.11/site-packages/scanpy/preprocessing/_pca.py:374: FutureWarning: Argument `use_highly_variable` is deprecated, consider using the mask argument. Use_highly_variable=True can be called through mask_var=\"highly_variable\". Use_highly_variable=False can be called through mask_var=None\n",
      "  warn(msg, FutureWarning)\n"
     ]
    },
    {
     "data": {
      "text/plain": [
       "0.26095968954444065"
      ]
     },
     "execution_count": 42,
     "metadata": {},
     "output_type": "execute_result"
    }
   ],
   "source": [
    "scib.metrics.pcr(adata, covariate='disease', embed='X_FinVAE', verbose=True)"
   ]
  }
 ],
 "metadata": {
  "kernelspec": {
   "display_name": "scVI",
   "language": "python",
   "name": "scvi"
  },
  "language_info": {
   "codemirror_mode": {
    "name": "ipython",
    "version": 3
   },
   "file_extension": ".py",
   "mimetype": "text/x-python",
   "name": "python",
   "nbconvert_exporter": "python",
   "pygments_lexer": "ipython3",
   "version": "3.11.9"
  }
 },
 "nbformat": 4,
 "nbformat_minor": 5
}
