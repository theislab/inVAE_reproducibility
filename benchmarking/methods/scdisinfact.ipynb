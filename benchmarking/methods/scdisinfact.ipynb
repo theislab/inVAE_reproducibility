{
 "cells": [
  {
   "cell_type": "code",
   "execution_count": 1,
   "id": "227f68bd-c277-454c-939b-8c56a587d6a1",
   "metadata": {
    "tags": []
   },
   "outputs": [],
   "source": [
    "import anndata"
   ]
  },
  {
   "cell_type": "code",
   "execution_count": 2,
   "id": "298b7fd7-2d11-4943-add0-e623c0894ab5",
   "metadata": {
    "tags": []
   },
   "outputs": [],
   "source": [
    "adata = anndata.read_h5ad('/lustre/scratch126/cellgen/team292/ha10/data/Heart_Atlas/adata_Heart_Reichart_HV_train.h5ad')"
   ]
  },
  {
   "cell_type": "code",
   "execution_count": 3,
   "id": "2e56f39e-c5b4-4852-bf5c-4d8ad0430756",
   "metadata": {
    "tags": []
   },
   "outputs": [
    {
     "data": {
      "text/plain": [
       "AnnData object with n_obs × n_vars = 284727 × 5000\n",
       "    obs: 'Sample', 'donor_id', 'Region_x', 'Primary.Genetic.Diagnosis', 'n_genes', 'n_counts', 'percent_mito', 'percent_ribo', 'scrublet_score_z', 'scrublet_score_log', 'solo_score', 'cell_states', 'Assigned', 'self_reported_ethnicity_ontology_term_id', 'disease_ontology_term_id', 'cell_type_ontology_term_id', 'sex_ontology_term_id', 'assay_ontology_term_id', 'organism_ontology_term_id', 'is_primary_data', 'tissue_ontology_term_id', 'development_stage_ontology_term_id', 'suspension_type', 'cell_type', 'assay', 'disease', 'organism', 'sex', 'tissue', 'self_reported_ethnicity', 'development_stage', 'disease_renamed'\n",
       "    var: 'feature_is_filtered', 'feature_name', 'feature_reference', 'feature_biotype', 'highly_variable', 'highly_variable_rank', 'means', 'variances', 'variances_norm', 'ENS'\n",
       "    uns: 'Primary.Genetic.Diagnosis_colors', 'Region_x_colors', 'cell_states_colors', 'cell_type_colors', 'cell_type_ontology_term_id_colors', 'disease_colors', 'hvg', 'leiden', 'neighbors', 'pca', 'schema_version', 'title', 'umap'\n",
       "    obsm: 'X_pca', 'X_umap'\n",
       "    layers: 'counts'"
      ]
     },
     "execution_count": 3,
     "metadata": {},
     "output_type": "execute_result"
    }
   ],
   "source": [
    "adata"
   ]
  },
  {
   "cell_type": "code",
   "execution_count": 4,
   "id": "e9c5269d-3cbf-4809-a2c0-66f5b86ee432",
   "metadata": {
    "tags": []
   },
   "outputs": [
    {
     "name": "stdout",
     "output_type": "stream",
     "text": [
      "Sanity check...\n",
      "Finished.\n",
      "Create scDisInFact datasets...\n",
      "Finished.\n"
     ]
    }
   ],
   "source": [
    "from scDisInFact import scdisinfact, create_scdisinfact_dataset\n",
    "data_dict = create_scdisinfact_dataset(adata.layers['counts'], adata.obs, condition_key = [\"disease\"], batch_key = \"donor_id\")"
   ]
  },
  {
   "cell_type": "code",
   "execution_count": 13,
   "id": "b1c68033-cb1c-44c7-ab22-08ecbaa97021",
   "metadata": {
    "tags": []
   },
   "outputs": [
    {
     "data": {
      "text/plain": [
       "22"
      ]
     },
     "execution_count": 13,
     "metadata": {},
     "output_type": "execute_result"
    }
   ],
   "source": [
    "len(data_dict['datasets'])"
   ]
  },
  {
   "cell_type": "code",
   "execution_count": 14,
   "id": "078f8d26-0749-4e04-ba57-032723a679d6",
   "metadata": {
    "tags": []
   },
   "outputs": [],
   "source": [
    "import torch"
   ]
  },
  {
   "cell_type": "code",
   "execution_count": 15,
   "id": "4f9225f9-62f5-4bf3-8b52-9521a2a32202",
   "metadata": {
    "tags": []
   },
   "outputs": [],
   "source": [
    "device = torch.device(\"cuda:0\" if torch.cuda.is_available() else \"cpu\")"
   ]
  },
  {
   "cell_type": "code",
   "execution_count": 7,
   "id": "457d8b23-07b5-4b36-ac1b-990b3ff06274",
   "metadata": {
    "tags": []
   },
   "outputs": [],
   "source": [
    "model = scdisinfact(data_dict = data_dict, device = device)"
   ]
  },
  {
   "cell_type": "code",
   "execution_count": 8,
   "id": "26ae3223-00de-4360-b412-905e29a11c69",
   "metadata": {
    "tags": []
   },
   "outputs": [
    {
     "name": "stdout",
     "output_type": "stream",
     "text": [
      "Epoch 0, Validating Loss: 1.0202\n",
      "\t loss reconstruction: 0.19029\n",
      "\t loss kl comm: 27.58274\n",
      "\t loss kl diff: 5.89108\n",
      "\t loss mmd common: 16.92033\n",
      "\t loss mmd diff: 12.89788\n",
      "\t loss classification: 0.67658\n",
      "\t loss group lasso diff: 0.09114\n",
      "GPU memory usage: 301.405762MB\n",
      "Epoch 10, Validating Loss: 0.5895\n",
      "\t loss reconstruction: 0.15013\n",
      "\t loss kl comm: 40.58490\n",
      "\t loss kl diff: 6.23135\n",
      "\t loss mmd common: 15.13281\n",
      "\t loss mmd diff: 14.46283\n",
      "\t loss classification: 0.27565\n",
      "\t loss group lasso diff: 0.09801\n",
      "GPU memory usage: 301.443848MB\n",
      "Epoch 20, Validating Loss: 0.5306\n",
      "\t loss reconstruction: 0.14690\n",
      "\t loss kl comm: 28.58654\n",
      "\t loss kl diff: 5.35616\n",
      "\t loss mmd common: 10.30627\n",
      "\t loss mmd diff: 13.66662\n",
      "\t loss classification: 0.21939\n",
      "\t loss group lasso diff: 0.10809\n",
      "GPU memory usage: 301.443848MB\n",
      "Epoch 30, Validating Loss: 0.4896\n",
      "\t loss reconstruction: 0.14546\n",
      "\t loss kl comm: 25.33405\n",
      "\t loss kl diff: 5.00176\n",
      "\t loss mmd common: 8.59200\n",
      "\t loss mmd diff: 11.54021\n",
      "\t loss classification: 0.17344\n",
      "\t loss group lasso diff: 0.11844\n",
      "GPU memory usage: 301.443848MB\n",
      "Epoch 40, Validating Loss: 0.4670\n",
      "\t loss reconstruction: 0.14425\n",
      "\t loss kl comm: 25.25548\n",
      "\t loss kl diff: 4.52817\n",
      "\t loss mmd common: 7.15251\n",
      "\t loss mmd diff: 11.28562\n",
      "\t loss classification: 0.14955\n",
      "\t loss group lasso diff: 0.12585\n",
      "GPU memory usage: 301.443848MB\n",
      "Epoch 50, Validating Loss: 0.4451\n",
      "\t loss reconstruction: 0.14334\n",
      "\t loss kl comm: 25.09513\n",
      "\t loss kl diff: 4.34544\n",
      "\t loss mmd common: 6.37780\n",
      "\t loss mmd diff: 10.23524\n",
      "\t loss classification: 0.12458\n",
      "\t loss group lasso diff: 0.13177\n",
      "GPU memory usage: 301.443848MB\n"
     ]
    }
   ],
   "source": [
    "losses = model.train_model()"
   ]
  },
  {
   "cell_type": "code",
   "execution_count": 9,
   "id": "dd9fe593-e656-40fc-9cff-67bd69fc083d",
   "metadata": {
    "tags": []
   },
   "outputs": [],
   "source": [
    "torch.save(model.state_dict(), f\"model_scdisinfact.pth\")"
   ]
  },
  {
   "cell_type": "code",
   "execution_count": 10,
   "id": "0d367bd5-218e-4231-af25-077a78e8ee4f",
   "metadata": {
    "tags": []
   },
   "outputs": [],
   "source": [
    "_ = model.eval()"
   ]
  },
  {
   "cell_type": "code",
   "execution_count": 11,
   "id": "6092c54d-f5e2-44dc-bde4-b87cbdaa36c3",
   "metadata": {
    "tags": []
   },
   "outputs": [],
   "source": [
    "import numpy as np"
   ]
  },
  {
   "cell_type": "code",
   "execution_count": 17,
   "id": "a05759c1-7e55-40d7-9891-f5b235471482",
   "metadata": {
    "tags": []
   },
   "outputs": [
    {
     "name": "stderr",
     "output_type": "stream",
     "text": [
      "/tmp/ipykernel_2348608/3379290528.py:1: FutureWarning: You are using `torch.load` with `weights_only=False` (the current default value), which uses the default pickle module implicitly. It is possible to construct malicious pickle data which will execute arbitrary code during unpickling (See https://github.com/pytorch/pytorch/blob/main/SECURITY.md#untrusted-models for more details). In a future release, the default value for `weights_only` will be flipped to `True`. This limits the functions that could be executed during unpickling. Arbitrary objects will no longer be allowed to be loaded via this mode unless they are explicitly allowlisted by the user via `torch.serialization.add_safe_globals`. We recommend you start setting `weights_only=True` for any use case where you don't have full control of the loaded file. Please open an issue on GitHub for any issues related to this experimental feature.\n",
      "  model = torch.load('model_scdisinfact.pth', map_location=torch.device('cpu'))\n"
     ]
    }
   ],
   "source": [
    "model = torch.load('model_scdisinfact.pth', map_location=torch.device('cpu'))"
   ]
  },
  {
   "cell_type": "code",
   "execution_count": null,
   "id": "d435f7f0-6b0f-4c8a-932b-ad44d52a2756",
   "metadata": {
    "tags": []
   },
   "outputs": [],
   "source": [
    "# one forward pass\n",
    "z_cs = []\n",
    "z_ds = []\n",
    "zs = []\n",
    "\n",
    "for dataset in data_dict[\"datasets\"]:\n",
    "    with torch.no_grad():\n",
    "        # pass through the encoders\n",
    "        dict_inf = model.inference(counts = dataset.counts_norm.to(model.device), batch_ids = dataset.batch_id[:,None].to(model.device), print_stat = True)\n",
    "        # pass through the decoder\n",
    "        dict_gen = model.generative(z_c = dict_inf[\"mu_c\"], z_d = dict_inf[\"mu_d\"], batch_ids = dataset.batch_id[:,None].to(model.device))\n",
    "        z_c = dict_inf[\"mu_c\"]\n",
    "        z_d = dict_inf[\"mu_d\"]\n",
    "        z = torch.cat([z_c] + z_d, dim = 1)\n",
    "        mu = dict_gen[\"mu\"]    \n",
    "        z_ds.append([x.cpu().detach().numpy() for x in z_d])\n",
    "        z_cs.append(z_c.cpu().detach().numpy())\n",
    "        zs.append(np.concatenate([z_cs[-1]] + z_ds[-1], axis = 1))"
   ]
  },
  {
   "cell_type": "code",
   "execution_count": 13,
   "id": "3df43536-2d40-479e-be54-1f080e958bf0",
   "metadata": {
    "tags": []
   },
   "outputs": [
    {
     "data": {
      "text/plain": [
       "22"
      ]
     },
     "execution_count": 13,
     "metadata": {},
     "output_type": "execute_result"
    }
   ],
   "source": [
    "len(zs)"
   ]
  },
  {
   "cell_type": "code",
   "execution_count": 14,
   "id": "c03ea87b-9aaf-407e-97c7-db514cbd56c2",
   "metadata": {
    "tags": []
   },
   "outputs": [],
   "source": [
    "zs0 = np.concatenate(zs, axis = 0)\n"
   ]
  },
  {
   "cell_type": "code",
   "execution_count": 15,
   "id": "46975249-751f-46e3-b66b-868f1d0c20b0",
   "metadata": {
    "tags": []
   },
   "outputs": [
    {
     "data": {
      "text/plain": [
       "(284727, 12)"
      ]
     },
     "execution_count": 15,
     "metadata": {},
     "output_type": "execute_result"
    }
   ],
   "source": [
    "zs0.shape"
   ]
  },
  {
   "cell_type": "code",
   "execution_count": 17,
   "id": "b0f4455b-dc08-455b-b0a8-9a6ff03cd994",
   "metadata": {},
   "outputs": [
    {
     "data": {
      "text/plain": [
       "array([[-0.74021053,  0.9917302 ,  0.9823548 , ..., -0.1353738 ,\n",
       "         1.5467132 ,  1.1094648 ],\n",
       "       [-0.39822677, -0.6310626 , -0.4166441 , ...,  1.4063932 ,\n",
       "         5.859304  ,  2.2182906 ],\n",
       "       [-1.5629592 ,  0.45029968, -1.3686004 , ...,  0.14934751,\n",
       "         4.8232665 ,  3.183637  ],\n",
       "       ...,\n",
       "       [-1.7748965 , -1.1773459 ,  0.2297636 , ...,  0.66093093,\n",
       "         4.786968  ,  2.7253006 ],\n",
       "       [-0.39350608, -0.83237445, -0.34193796, ...,  0.44534716,\n",
       "         5.2973104 ,  2.7139065 ],\n",
       "       [-1.0069495 ,  1.1501207 ,  0.7784806 , ...,  0.88178456,\n",
       "         4.6801953 ,  2.815968  ]], dtype=float32)"
      ]
     },
     "execution_count": 17,
     "metadata": {},
     "output_type": "execute_result"
    }
   ],
   "source": [
    "zs0"
   ]
  },
  {
   "cell_type": "code",
   "execution_count": 18,
   "id": "8b9502c0-31c2-4f11-9613-d3a3806b9e14",
   "metadata": {
    "tags": []
   },
   "outputs": [],
   "source": [
    "zs0.tofile('scdisinfact_embed.csv', sep = ',')"
   ]
  }
 ],
 "metadata": {
  "kernelspec": {
   "display_name": "scDisInFact",
   "language": "python",
   "name": "scdisinfact"
  },
  "language_info": {
   "codemirror_mode": {
    "name": "ipython",
    "version": 3
   },
   "file_extension": ".py",
   "mimetype": "text/x-python",
   "name": "python",
   "nbconvert_exporter": "python",
   "pygments_lexer": "ipython3",
   "version": "3.9.19"
  }
 },
 "nbformat": 4,
 "nbformat_minor": 5
}
