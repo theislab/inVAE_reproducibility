{
 "cells": [
  {
   "cell_type": "code",
   "execution_count": 1,
   "id": "126fe9cc-99ed-4062-8a3c-f198e3ff4fe6",
   "metadata": {
    "tags": []
   },
   "outputs": [
    {
     "name": "stderr",
     "output_type": "stream",
     "text": [
      "/software/cellgen/team278/bc8/envs/scvi/lib/python3.11/site-packages/tqdm/auto.py:21: TqdmWarning: IProgress not found. Please update jupyter and ipywidgets. See https://ipywidgets.readthedocs.io/en/stable/user_install.html\n",
      "  from .autonotebook import tqdm as notebook_tqdm\n"
     ]
    }
   ],
   "source": [
    "import scanpy as sc\n",
    "import scvi"
   ]
  },
  {
   "cell_type": "code",
   "execution_count": 2,
   "id": "51da8985-cb8c-49dc-9cc4-85a5c1c616b6",
   "metadata": {
    "tags": []
   },
   "outputs": [],
   "source": [
    "adata = sc.read('/lustre/scratch126/cellgen/team292/ha10/data/Fetal_Lung/adata_fetal_lung_training_noccgene.h5ad')"
   ]
  },
  {
   "cell_type": "code",
   "execution_count": 3,
   "id": "d73d0cac-a8a8-47cc-a329-cc7f2d18c58a",
   "metadata": {
    "scrolled": true,
    "tags": []
   },
   "outputs": [
    {
     "data": {
      "text/plain": [
       "AnnData object with n_obs × n_vars = 65564 × 4980\n",
       "    obs: 'batch', 'stage', 'dissection', 'chemistry', 'percent_mito', 'n_counts', 'n_genes', 'doublet_scores', 'bh_pval', 'leiden', 'phase', 'S_score', 'G2M_score', 'new_celltype', 'big_cluster', 'donor', 'gender', 'new_celltype-code', 'status_summary', 'productive_summary', 'isotype_summary', 'receptor_type', 'receptor_subtype', 'broad_celltype', 'cycling', 'study', 'stage_coarse'\n",
       "    var: 'gene_ids', 'n_cells', 'highly_variable5891STDY8062349', 'highly_variable5891STDY8062350', 'highly_variable5891STDY8062351', 'highly_variable5891STDY8062352', 'highly_variable5891STDY8062353', 'highly_variable5891STDY8062354', 'highly_variable5891STDY8062355', 'highly_variable5891STDY8062356', 'highly_variableWSSS8012016', 'highly_variableWSSS8011222', 'highly_variableWSSS_F_LNG8713176', 'highly_variableWSSS_F_LNG8713177', 'highly_variableWSSS_F_LNG8713178', 'highly_variableWSSS_F_LNG8713179', 'highly_variableWSSS_F_LNG8713180', 'highly_variableWSSS_F_LNG8713181', 'highly_variableWSSS_F_LNG8713184', 'highly_variableWSSS_F_LNG8713185', 'highly_variableWSSS_F_LNG8713186', 'highly_variableWSSS_F_LNG8713187', 'highly_variableWSSS_F_LNG8713188', 'highly_variableWSSS_F_LNG8713189', 'highly_variableWSSS_F_LNG8713190', 'highly_variableWSSS_F_LNG8713191', 'highly_variable5891STDY9030806', 'highly_variable5891STDY9030807', 'highly_variable5891STDY9030808', 'highly_variable5891STDY9030809', 'highly_variable5891STDY9030810', 'highly_variable_n', 'highly_variable', 'Deep_5891STDY8062349', 'Deep_5891STDY8062350', 'Deep_5891STDY8062351', 'Deep_5891STDY8062352', 'Deep_5891STDY8062353', 'Deep_5891STDY8062354', 'Deep_5891STDY8062355', 'Deep_5891STDY8062356', 'Deep_WSSS8012016', 'Deep_WSSS8011222', 'Deep_WSSS_F_LNG8713176', 'Deep_WSSS_F_LNG8713177', 'Deep_WSSS_F_LNG8713178', 'Deep_WSSS_F_LNG8713179', 'Deep_WSSS_F_LNG8713180', 'Deep_WSSS_F_LNG8713181', 'Deep_WSSS_F_LNG8713184', 'Deep_WSSS_F_LNG8713185', 'Deep_WSSS_F_LNG8713186', 'Deep_WSSS_F_LNG8713187', 'Deep_WSSS_F_LNG8713188', 'Deep_WSSS_F_LNG8713189', 'Deep_WSSS_F_LNG8713190', 'Deep_WSSS_F_LNG8713191', 'Deep_5891STDY9030806', 'Deep_5891STDY9030807', 'Deep_5891STDY9030808', 'Deep_5891STDY9030809', 'Deep_5891STDY9030810', 'Deep_n', 'gene_ids-C0', 'n_cells-C0', 'highly_variable5891STDY8062349-C0', 'highly_variable5891STDY8062350-C0', 'highly_variable5891STDY8062351-C0', 'highly_variable5891STDY8062352-C0', 'highly_variable5891STDY8062353-C0', 'highly_variable5891STDY8062354-C0', 'highly_variable5891STDY8062355-C0', 'highly_variable5891STDY8062356-C0', 'highly_variableWSSS8012016-C0', 'highly_variableWSSS8011222-C0', 'highly_variableWSSS_F_LNG8713176-C0', 'highly_variableWSSS_F_LNG8713177-C0', 'highly_variableWSSS_F_LNG8713178-C0', 'highly_variableWSSS_F_LNG8713179-C0', 'highly_variableWSSS_F_LNG8713180-C0', 'highly_variableWSSS_F_LNG8713181-C0', 'highly_variableWSSS_F_LNG8713184-C0', 'highly_variableWSSS_F_LNG8713185-C0', 'highly_variableWSSS_F_LNG8713186-C0', 'highly_variableWSSS_F_LNG8713187-C0', 'highly_variableWSSS_F_LNG8713188-C0', 'highly_variableWSSS_F_LNG8713189-C0', 'highly_variableWSSS_F_LNG8713190-C0', 'highly_variableWSSS_F_LNG8713191-C0', 'highly_variable5891STDY9030806-C0', 'highly_variable5891STDY9030807-C0', 'highly_variable5891STDY9030808-C0', 'highly_variable5891STDY9030809-C0', 'highly_variable5891STDY9030810-C0', 'highly_variable_n-C0', 'highly_variable-C0', 'Deep_5891STDY8062349-C0', 'Deep_5891STDY8062350-C0', 'Deep_5891STDY8062351-C0', 'Deep_5891STDY8062352-C0', 'Deep_5891STDY8062353-C0', 'Deep_5891STDY8062354-C0', 'Deep_5891STDY8062355-C0', 'Deep_5891STDY8062356-C0', 'Deep_WSSS8012016-C0', 'Deep_WSSS8011222-C0', 'Deep_WSSS_F_LNG8713176-C0', 'Deep_WSSS_F_LNG8713177-C0', 'Deep_WSSS_F_LNG8713178-C0', 'Deep_WSSS_F_LNG8713179-C0', 'Deep_WSSS_F_LNG8713180-C0', 'Deep_WSSS_F_LNG8713181-C0', 'Deep_WSSS_F_LNG8713184-C0', 'Deep_WSSS_F_LNG8713185-C0', 'Deep_WSSS_F_LNG8713186-C0', 'Deep_WSSS_F_LNG8713187-C0', 'Deep_WSSS_F_LNG8713188-C0', 'Deep_WSSS_F_LNG8713189-C0', 'Deep_WSSS_F_LNG8713190-C0', 'Deep_WSSS_F_LNG8713191-C0', 'Deep_5891STDY9030806-C0', 'Deep_5891STDY9030807-C0', 'Deep_5891STDY9030808-C0', 'Deep_5891STDY9030809-C0', 'Deep_5891STDY9030810-C0', 'Deep_n-C0', 'means-C0', 'dispersions-C0', 'dispersions_norm-C0', 'gene_ids-C1', 'n_cells-C1', 'highly_variable5891STDY8062349-C1', 'highly_variable5891STDY8062350-C1', 'highly_variable5891STDY8062351-C1', 'highly_variable5891STDY8062352-C1', 'highly_variable5891STDY8062353-C1', 'highly_variable5891STDY8062354-C1', 'highly_variable5891STDY8062355-C1', 'highly_variable5891STDY8062356-C1', 'highly_variableWSSS8012016-C1', 'highly_variableWSSS8011222-C1', 'highly_variableWSSS_F_LNG8713176-C1', 'highly_variableWSSS_F_LNG8713177-C1', 'highly_variableWSSS_F_LNG8713178-C1', 'highly_variableWSSS_F_LNG8713179-C1', 'highly_variableWSSS_F_LNG8713180-C1', 'highly_variableWSSS_F_LNG8713181-C1', 'highly_variableWSSS_F_LNG8713184-C1', 'highly_variableWSSS_F_LNG8713185-C1', 'highly_variableWSSS_F_LNG8713186-C1', 'highly_variableWSSS_F_LNG8713187-C1', 'highly_variableWSSS_F_LNG8713188-C1', 'highly_variableWSSS_F_LNG8713189-C1', 'highly_variableWSSS_F_LNG8713190-C1', 'highly_variableWSSS_F_LNG8713191-C1', 'highly_variable5891STDY9030806-C1', 'highly_variable5891STDY9030807-C1', 'highly_variable5891STDY9030808-C1', 'highly_variable5891STDY9030809-C1', 'highly_variable5891STDY9030810-C1', 'highly_variable_n-C1', 'highly_variable-C1', 'Deep_5891STDY8062349-C1', 'Deep_5891STDY8062350-C1', 'Deep_5891STDY8062351-C1', 'Deep_5891STDY8062352-C1', 'Deep_5891STDY8062353-C1', 'Deep_5891STDY8062354-C1', 'Deep_5891STDY8062355-C1', 'Deep_5891STDY8062356-C1', 'Deep_WSSS8012016-C1', 'Deep_WSSS8011222-C1', 'Deep_WSSS_F_LNG8713176-C1', 'Deep_WSSS_F_LNG8713177-C1', 'Deep_WSSS_F_LNG8713178-C1', 'Deep_WSSS_F_LNG8713179-C1', 'Deep_WSSS_F_LNG8713180-C1', 'Deep_WSSS_F_LNG8713181-C1', 'Deep_WSSS_F_LNG8713184-C1', 'Deep_WSSS_F_LNG8713185-C1', 'Deep_WSSS_F_LNG8713186-C1', 'Deep_WSSS_F_LNG8713187-C1', 'Deep_WSSS_F_LNG8713188-C1', 'Deep_WSSS_F_LNG8713189-C1', 'Deep_WSSS_F_LNG8713190-C1', 'Deep_WSSS_F_LNG8713191-C1', 'Deep_5891STDY9030806-C1', 'Deep_5891STDY9030807-C1', 'Deep_5891STDY9030808-C1', 'Deep_5891STDY9030809-C1', 'Deep_5891STDY9030810-C1', 'Deep_n-C1', 'means-C1', 'dispersions-C1', 'dispersions_norm-C1', 'gene_ids-C2', 'n_cells-C2', 'highly_variable5891STDY8062349-C2', 'highly_variable5891STDY8062350-C2', 'highly_variable5891STDY8062351-C2', 'highly_variable5891STDY8062352-C2', 'highly_variable5891STDY8062353-C2', 'highly_variable5891STDY8062354-C2', 'highly_variable5891STDY8062355-C2', 'highly_variable5891STDY8062356-C2', 'highly_variableWSSS8012016-C2', 'highly_variableWSSS8011222-C2', 'highly_variableWSSS_F_LNG8713176-C2', 'highly_variableWSSS_F_LNG8713177-C2', 'highly_variableWSSS_F_LNG8713178-C2', 'highly_variableWSSS_F_LNG8713179-C2', 'highly_variableWSSS_F_LNG8713180-C2', 'highly_variableWSSS_F_LNG8713181-C2', 'highly_variableWSSS_F_LNG8713184-C2', 'highly_variableWSSS_F_LNG8713185-C2', 'highly_variableWSSS_F_LNG8713186-C2', 'highly_variableWSSS_F_LNG8713187-C2', 'highly_variableWSSS_F_LNG8713188-C2', 'highly_variableWSSS_F_LNG8713189-C2', 'highly_variableWSSS_F_LNG8713190-C2', 'highly_variableWSSS_F_LNG8713191-C2', 'highly_variable5891STDY9030806-C2', 'highly_variable5891STDY9030807-C2', 'highly_variable5891STDY9030808-C2', 'highly_variable5891STDY9030809-C2', 'highly_variable5891STDY9030810-C2', 'highly_variable_n-C2', 'highly_variable-C2', 'Deep_5891STDY8062349-C2', 'Deep_5891STDY8062350-C2', 'Deep_5891STDY8062351-C2', 'Deep_5891STDY8062352-C2', 'Deep_5891STDY8062353-C2', 'Deep_5891STDY8062354-C2', 'Deep_5891STDY8062355-C2', 'Deep_5891STDY8062356-C2', 'Deep_WSSS8012016-C2', 'Deep_WSSS8011222-C2', 'Deep_WSSS_F_LNG8713176-C2', 'Deep_WSSS_F_LNG8713177-C2', 'Deep_WSSS_F_LNG8713178-C2', 'Deep_WSSS_F_LNG8713179-C2', 'Deep_WSSS_F_LNG8713180-C2', 'Deep_WSSS_F_LNG8713181-C2', 'Deep_WSSS_F_LNG8713184-C2', 'Deep_WSSS_F_LNG8713185-C2', 'Deep_WSSS_F_LNG8713186-C2', 'Deep_WSSS_F_LNG8713187-C2', 'Deep_WSSS_F_LNG8713188-C2', 'Deep_WSSS_F_LNG8713189-C2', 'Deep_WSSS_F_LNG8713190-C2', 'Deep_WSSS_F_LNG8713191-C2', 'Deep_5891STDY9030806-C2', 'Deep_5891STDY9030807-C2', 'Deep_5891STDY9030808-C2', 'Deep_5891STDY9030809-C2', 'Deep_5891STDY9030810-C2', 'Deep_n-C2', 'means-C2', 'dispersions-C2', 'dispersions_norm-C2', 'gene_ids-C3', 'n_cells-C3', 'highly_variable5891STDY8062349-C3', 'highly_variable5891STDY8062350-C3', 'highly_variable5891STDY8062351-C3', 'highly_variable5891STDY8062352-C3', 'highly_variable5891STDY8062353-C3', 'highly_variable5891STDY8062354-C3', 'highly_variable5891STDY8062355-C3', 'highly_variable5891STDY8062356-C3', 'highly_variableWSSS8012016-C3', 'highly_variableWSSS8011222-C3', 'highly_variableWSSS_F_LNG8713176-C3', 'highly_variableWSSS_F_LNG8713177-C3', 'highly_variableWSSS_F_LNG8713178-C3', 'highly_variableWSSS_F_LNG8713179-C3', 'highly_variableWSSS_F_LNG8713180-C3', 'highly_variableWSSS_F_LNG8713181-C3', 'highly_variableWSSS_F_LNG8713184-C3', 'highly_variableWSSS_F_LNG8713185-C3', 'highly_variableWSSS_F_LNG8713186-C3', 'highly_variableWSSS_F_LNG8713187-C3', 'highly_variableWSSS_F_LNG8713188-C3', 'highly_variableWSSS_F_LNG8713189-C3', 'highly_variableWSSS_F_LNG8713190-C3', 'highly_variableWSSS_F_LNG8713191-C3', 'highly_variable5891STDY9030806-C3', 'highly_variable5891STDY9030807-C3', 'highly_variable5891STDY9030808-C3', 'highly_variable5891STDY9030809-C3', 'highly_variable5891STDY9030810-C3', 'highly_variable_n-C3', 'highly_variable-C3', 'Deep_5891STDY8062349-C3', 'Deep_5891STDY8062350-C3', 'Deep_5891STDY8062351-C3', 'Deep_5891STDY8062352-C3', 'Deep_5891STDY8062353-C3', 'Deep_5891STDY8062354-C3', 'Deep_5891STDY8062355-C3', 'Deep_5891STDY8062356-C3', 'Deep_WSSS8012016-C3', 'Deep_WSSS8011222-C3', 'Deep_WSSS_F_LNG8713176-C3', 'Deep_WSSS_F_LNG8713177-C3', 'Deep_WSSS_F_LNG8713178-C3', 'Deep_WSSS_F_LNG8713179-C3', 'Deep_WSSS_F_LNG8713180-C3', 'Deep_WSSS_F_LNG8713181-C3', 'Deep_WSSS_F_LNG8713184-C3', 'Deep_WSSS_F_LNG8713185-C3', 'Deep_WSSS_F_LNG8713186-C3', 'Deep_WSSS_F_LNG8713187-C3', 'Deep_WSSS_F_LNG8713188-C3', 'Deep_WSSS_F_LNG8713189-C3', 'Deep_WSSS_F_LNG8713190-C3', 'Deep_WSSS_F_LNG8713191-C3', 'Deep_5891STDY9030806-C3', 'Deep_5891STDY9030807-C3', 'Deep_5891STDY9030808-C3', 'Deep_5891STDY9030809-C3', 'Deep_5891STDY9030810-C3', 'Deep_n-C3', 'means-C3', 'dispersions-C3', 'dispersions_norm-C3', 'gene_ids-C4', 'n_cells-C4', 'highly_variable5891STDY8062349-C4', 'highly_variable5891STDY8062350-C4', 'highly_variable5891STDY8062351-C4', 'highly_variable5891STDY8062352-C4', 'highly_variable5891STDY8062353-C4', 'highly_variable5891STDY8062354-C4', 'highly_variable5891STDY8062355-C4', 'highly_variable5891STDY8062356-C4', 'highly_variableWSSS8012016-C4', 'highly_variableWSSS8011222-C4', 'highly_variableWSSS_F_LNG8713176-C4', 'highly_variableWSSS_F_LNG8713177-C4', 'highly_variableWSSS_F_LNG8713178-C4', 'highly_variableWSSS_F_LNG8713179-C4', 'highly_variableWSSS_F_LNG8713180-C4', 'highly_variableWSSS_F_LNG8713181-C4', 'highly_variableWSSS_F_LNG8713184-C4', 'highly_variableWSSS_F_LNG8713185-C4', 'highly_variableWSSS_F_LNG8713186-C4', 'highly_variableWSSS_F_LNG8713187-C4', 'highly_variableWSSS_F_LNG8713188-C4', 'highly_variableWSSS_F_LNG8713189-C4', 'highly_variableWSSS_F_LNG8713190-C4', 'highly_variableWSSS_F_LNG8713191-C4', 'highly_variable5891STDY9030806-C4', 'highly_variable5891STDY9030807-C4', 'highly_variable5891STDY9030808-C4', 'highly_variable5891STDY9030809-C4', 'highly_variable5891STDY9030810-C4', 'highly_variable_n-C4', 'highly_variable-C4', 'Deep_5891STDY8062349-C4', 'Deep_5891STDY8062350-C4', 'Deep_5891STDY8062351-C4', 'Deep_5891STDY8062352-C4', 'Deep_5891STDY8062353-C4', 'Deep_5891STDY8062354-C4', 'Deep_5891STDY8062355-C4', 'Deep_5891STDY8062356-C4', 'Deep_WSSS8012016-C4', 'Deep_WSSS8011222-C4', 'Deep_WSSS_F_LNG8713176-C4', 'Deep_WSSS_F_LNG8713177-C4', 'Deep_WSSS_F_LNG8713178-C4', 'Deep_WSSS_F_LNG8713179-C4', 'Deep_WSSS_F_LNG8713180-C4', 'Deep_WSSS_F_LNG8713181-C4', 'Deep_WSSS_F_LNG8713184-C4', 'Deep_WSSS_F_LNG8713185-C4', 'Deep_WSSS_F_LNG8713186-C4', 'Deep_WSSS_F_LNG8713187-C4', 'Deep_WSSS_F_LNG8713188-C4', 'Deep_WSSS_F_LNG8713189-C4', 'Deep_WSSS_F_LNG8713190-C4', 'Deep_WSSS_F_LNG8713191-C4', 'Deep_5891STDY9030806-C4', 'Deep_5891STDY9030807-C4', 'Deep_5891STDY9030808-C4', 'Deep_5891STDY9030809-C4', 'Deep_5891STDY9030810-C4', 'Deep_n-C4', 'means-C4', 'dispersions-C4', 'dispersions_norm-C4', 'gene_ids-C5', 'n_cells-C5', 'highly_variable5891STDY8062349-C5', 'highly_variable5891STDY8062350-C5', 'highly_variable5891STDY8062351-C5', 'highly_variable5891STDY8062352-C5', 'highly_variable5891STDY8062353-C5', 'highly_variable5891STDY8062354-C5', 'highly_variable5891STDY8062355-C5', 'highly_variable5891STDY8062356-C5', 'highly_variableWSSS8012016-C5', 'highly_variableWSSS8011222-C5', 'highly_variableWSSS_F_LNG8713176-C5', 'highly_variableWSSS_F_LNG8713177-C5', 'highly_variableWSSS_F_LNG8713178-C5', 'highly_variableWSSS_F_LNG8713179-C5', 'highly_variableWSSS_F_LNG8713180-C5', 'highly_variableWSSS_F_LNG8713181-C5', 'highly_variableWSSS_F_LNG8713184-C5', 'highly_variableWSSS_F_LNG8713185-C5', 'highly_variableWSSS_F_LNG8713186-C5', 'highly_variableWSSS_F_LNG8713187-C5', 'highly_variableWSSS_F_LNG8713188-C5', 'highly_variableWSSS_F_LNG8713189-C5', 'highly_variableWSSS_F_LNG8713190-C5', 'highly_variableWSSS_F_LNG8713191-C5', 'highly_variable5891STDY9030806-C5', 'highly_variable5891STDY9030807-C5', 'highly_variable5891STDY9030808-C5', 'highly_variable5891STDY9030809-C5', 'highly_variable5891STDY9030810-C5', 'highly_variable_n-C5', 'highly_variable-C5', 'Deep_5891STDY8062349-C5', 'Deep_5891STDY8062350-C5', 'Deep_5891STDY8062351-C5', 'Deep_5891STDY8062352-C5', 'Deep_5891STDY8062353-C5', 'Deep_5891STDY8062354-C5', 'Deep_5891STDY8062355-C5', 'Deep_5891STDY8062356-C5', 'Deep_WSSS8012016-C5', 'Deep_WSSS8011222-C5', 'Deep_WSSS_F_LNG8713176-C5', 'Deep_WSSS_F_LNG8713177-C5', 'Deep_WSSS_F_LNG8713178-C5', 'Deep_WSSS_F_LNG8713179-C5', 'Deep_WSSS_F_LNG8713180-C5', 'Deep_WSSS_F_LNG8713181-C5', 'Deep_WSSS_F_LNG8713184-C5', 'Deep_WSSS_F_LNG8713185-C5', 'Deep_WSSS_F_LNG8713186-C5', 'Deep_WSSS_F_LNG8713187-C5', 'Deep_WSSS_F_LNG8713188-C5', 'Deep_WSSS_F_LNG8713189-C5', 'Deep_WSSS_F_LNG8713190-C5', 'Deep_WSSS_F_LNG8713191-C5', 'Deep_5891STDY9030806-C5', 'Deep_5891STDY9030807-C5', 'Deep_5891STDY9030808-C5', 'Deep_5891STDY9030809-C5', 'Deep_5891STDY9030810-C5', 'Deep_n-C5', 'means-C5', 'dispersions-C5', 'dispersions_norm-C5', 'gene_ids-C6', 'n_cells-C6', 'highly_variable5891STDY8062349-C6', 'highly_variable5891STDY8062350-C6', 'highly_variable5891STDY8062351-C6', 'highly_variable5891STDY8062352-C6', 'highly_variable5891STDY8062353-C6', 'highly_variable5891STDY8062354-C6', 'highly_variable5891STDY8062355-C6', 'highly_variable5891STDY8062356-C6', 'highly_variableWSSS8012016-C6', 'highly_variableWSSS8011222-C6', 'highly_variableWSSS_F_LNG8713176-C6', 'highly_variableWSSS_F_LNG8713177-C6', 'highly_variableWSSS_F_LNG8713178-C6', 'highly_variableWSSS_F_LNG8713179-C6', 'highly_variableWSSS_F_LNG8713180-C6', 'highly_variableWSSS_F_LNG8713181-C6', 'highly_variableWSSS_F_LNG8713184-C6', 'highly_variableWSSS_F_LNG8713185-C6', 'highly_variableWSSS_F_LNG8713186-C6', 'highly_variableWSSS_F_LNG8713187-C6', 'highly_variableWSSS_F_LNG8713188-C6', 'highly_variableWSSS_F_LNG8713189-C6', 'highly_variableWSSS_F_LNG8713190-C6', 'highly_variableWSSS_F_LNG8713191-C6', 'highly_variable5891STDY9030806-C6', 'highly_variable5891STDY9030807-C6', 'highly_variable5891STDY9030808-C6', 'highly_variable5891STDY9030809-C6', 'highly_variable5891STDY9030810-C6', 'highly_variable_n-C6', 'highly_variable-C6', 'Deep_5891STDY8062349-C6', 'Deep_5891STDY8062350-C6', 'Deep_5891STDY8062351-C6', 'Deep_5891STDY8062352-C6', 'Deep_5891STDY8062353-C6', 'Deep_5891STDY8062354-C6', 'Deep_5891STDY8062355-C6', 'Deep_5891STDY8062356-C6', 'Deep_WSSS8012016-C6', 'Deep_WSSS8011222-C6', 'Deep_WSSS_F_LNG8713176-C6', 'Deep_WSSS_F_LNG8713177-C6', 'Deep_WSSS_F_LNG8713178-C6', 'Deep_WSSS_F_LNG8713179-C6', 'Deep_WSSS_F_LNG8713180-C6', 'Deep_WSSS_F_LNG8713181-C6', 'Deep_WSSS_F_LNG8713184-C6', 'Deep_WSSS_F_LNG8713185-C6', 'Deep_WSSS_F_LNG8713186-C6', 'Deep_WSSS_F_LNG8713187-C6', 'Deep_WSSS_F_LNG8713188-C6', 'Deep_WSSS_F_LNG8713189-C6', 'Deep_WSSS_F_LNG8713190-C6', 'Deep_WSSS_F_LNG8713191-C6', 'Deep_5891STDY9030806-C6', 'Deep_5891STDY9030807-C6', 'Deep_5891STDY9030808-C6', 'Deep_5891STDY9030809-C6', 'Deep_5891STDY9030810-C6', 'Deep_n-C6', 'means-C6', 'dispersions-C6', 'dispersions_norm-C6', 'gene_ids-C7', 'n_cells-C7', 'highly_variable5891STDY8062349-C7', 'highly_variable5891STDY8062350-C7', 'highly_variable5891STDY8062351-C7', 'highly_variable5891STDY8062352-C7', 'highly_variable5891STDY8062353-C7', 'highly_variable5891STDY8062354-C7', 'highly_variable5891STDY8062355-C7', 'highly_variable5891STDY8062356-C7', 'highly_variableWSSS8012016-C7', 'highly_variableWSSS8011222-C7', 'highly_variableWSSS_F_LNG8713176-C7', 'highly_variableWSSS_F_LNG8713177-C7', 'highly_variableWSSS_F_LNG8713178-C7', 'highly_variableWSSS_F_LNG8713179-C7', 'highly_variableWSSS_F_LNG8713180-C7', 'highly_variableWSSS_F_LNG8713181-C7', 'highly_variableWSSS_F_LNG8713184-C7', 'highly_variableWSSS_F_LNG8713185-C7', 'highly_variableWSSS_F_LNG8713186-C7', 'highly_variableWSSS_F_LNG8713187-C7', 'highly_variableWSSS_F_LNG8713188-C7', 'highly_variableWSSS_F_LNG8713189-C7', 'highly_variableWSSS_F_LNG8713190-C7', 'highly_variableWSSS_F_LNG8713191-C7', 'highly_variable5891STDY9030806-C7', 'highly_variable5891STDY9030807-C7', 'highly_variable5891STDY9030808-C7', 'highly_variable5891STDY9030809-C7', 'highly_variable5891STDY9030810-C7', 'highly_variable_n-C7', 'highly_variable-C7', 'Deep_5891STDY8062349-C7', 'Deep_5891STDY8062350-C7', 'Deep_5891STDY8062351-C7', 'Deep_5891STDY8062352-C7', 'Deep_5891STDY8062353-C7', 'Deep_5891STDY8062354-C7', 'Deep_5891STDY8062355-C7', 'Deep_5891STDY8062356-C7', 'Deep_WSSS8012016-C7', 'Deep_WSSS8011222-C7', 'Deep_WSSS_F_LNG8713176-C7', 'Deep_WSSS_F_LNG8713177-C7', 'Deep_WSSS_F_LNG8713178-C7', 'Deep_WSSS_F_LNG8713179-C7', 'Deep_WSSS_F_LNG8713180-C7', 'Deep_WSSS_F_LNG8713181-C7', 'Deep_WSSS_F_LNG8713184-C7', 'Deep_WSSS_F_LNG8713185-C7', 'Deep_WSSS_F_LNG8713186-C7', 'Deep_WSSS_F_LNG8713187-C7', 'Deep_WSSS_F_LNG8713188-C7', 'Deep_WSSS_F_LNG8713189-C7', 'Deep_WSSS_F_LNG8713190-C7', 'Deep_WSSS_F_LNG8713191-C7', 'Deep_5891STDY9030806-C7', 'Deep_5891STDY9030807-C7', 'Deep_5891STDY9030808-C7', 'Deep_5891STDY9030809-C7', 'Deep_5891STDY9030810-C7', 'Deep_n-C7', 'means-C7', 'dispersions-C7', 'dispersions_norm-C7', 'gene_ids-C8', 'n_cells-C8', 'highly_variable5891STDY8062349-C8', 'highly_variable5891STDY8062350-C8', 'highly_variable5891STDY8062351-C8', 'highly_variable5891STDY8062352-C8', 'highly_variable5891STDY8062353-C8', 'highly_variable5891STDY8062354-C8', 'highly_variable5891STDY8062355-C8', 'highly_variable5891STDY8062356-C8', 'highly_variableWSSS8012016-C8', 'highly_variableWSSS8011222-C8', 'highly_variableWSSS_F_LNG8713176-C8', 'highly_variableWSSS_F_LNG8713177-C8', 'highly_variableWSSS_F_LNG8713178-C8', 'highly_variableWSSS_F_LNG8713179-C8', 'highly_variableWSSS_F_LNG8713180-C8', 'highly_variableWSSS_F_LNG8713181-C8', 'highly_variableWSSS_F_LNG8713184-C8', 'highly_variableWSSS_F_LNG8713185-C8', 'highly_variableWSSS_F_LNG8713186-C8', 'highly_variableWSSS_F_LNG8713187-C8', 'highly_variableWSSS_F_LNG8713188-C8', 'highly_variableWSSS_F_LNG8713189-C8', 'highly_variableWSSS_F_LNG8713190-C8', 'highly_variableWSSS_F_LNG8713191-C8', 'highly_variable5891STDY9030806-C8', 'highly_variable5891STDY9030807-C8', 'highly_variable5891STDY9030808-C8', 'highly_variable5891STDY9030809-C8', 'highly_variable5891STDY9030810-C8', 'highly_variable_n-C8', 'highly_variable-C8', 'Deep_5891STDY8062349-C8', 'Deep_5891STDY8062350-C8', 'Deep_5891STDY8062351-C8', 'Deep_5891STDY8062352-C8', 'Deep_5891STDY8062353-C8', 'Deep_5891STDY8062354-C8', 'Deep_5891STDY8062355-C8', 'Deep_5891STDY8062356-C8', 'Deep_WSSS8012016-C8', 'Deep_WSSS8011222-C8', 'Deep_WSSS_F_LNG8713176-C8', 'Deep_WSSS_F_LNG8713177-C8', 'Deep_WSSS_F_LNG8713178-C8', 'Deep_WSSS_F_LNG8713179-C8', 'Deep_WSSS_F_LNG8713180-C8', 'Deep_WSSS_F_LNG8713181-C8', 'Deep_WSSS_F_LNG8713184-C8', 'Deep_WSSS_F_LNG8713185-C8', 'Deep_WSSS_F_LNG8713186-C8', 'Deep_WSSS_F_LNG8713187-C8', 'Deep_WSSS_F_LNG8713188-C8', 'Deep_WSSS_F_LNG8713189-C8', 'Deep_WSSS_F_LNG8713190-C8', 'Deep_WSSS_F_LNG8713191-C8', 'Deep_5891STDY9030806-C8', 'Deep_5891STDY9030807-C8', 'Deep_5891STDY9030808-C8', 'Deep_5891STDY9030809-C8', 'Deep_5891STDY9030810-C8', 'Deep_n-C8', 'gene_ids-C9', 'n_cells-C9', 'highly_variable5891STDY8062349-C9', 'highly_variable5891STDY8062350-C9', 'highly_variable5891STDY8062351-C9', 'highly_variable5891STDY8062352-C9', 'highly_variable5891STDY8062353-C9', 'highly_variable5891STDY8062354-C9', 'highly_variable5891STDY8062355-C9', 'highly_variable5891STDY8062356-C9', 'highly_variableWSSS8012016-C9', 'highly_variableWSSS8011222-C9', 'highly_variableWSSS_F_LNG8713176-C9', 'highly_variableWSSS_F_LNG8713177-C9', 'highly_variableWSSS_F_LNG8713178-C9', 'highly_variableWSSS_F_LNG8713179-C9', 'highly_variableWSSS_F_LNG8713180-C9', 'highly_variableWSSS_F_LNG8713181-C9', 'highly_variableWSSS_F_LNG8713184-C9', 'highly_variableWSSS_F_LNG8713185-C9', 'highly_variableWSSS_F_LNG8713186-C9', 'highly_variableWSSS_F_LNG8713187-C9', 'highly_variableWSSS_F_LNG8713188-C9', 'highly_variableWSSS_F_LNG8713189-C9', 'highly_variableWSSS_F_LNG8713190-C9', 'highly_variableWSSS_F_LNG8713191-C9', 'highly_variable5891STDY9030806-C9', 'highly_variable5891STDY9030807-C9', 'highly_variable5891STDY9030808-C9', 'highly_variable5891STDY9030809-C9', 'highly_variable5891STDY9030810-C9', 'highly_variable_n-C9', 'highly_variable-C9', 'Deep_5891STDY8062349-C9', 'Deep_5891STDY8062350-C9', 'Deep_5891STDY8062351-C9', 'Deep_5891STDY8062352-C9', 'Deep_5891STDY8062353-C9', 'Deep_5891STDY8062354-C9', 'Deep_5891STDY8062355-C9', 'Deep_5891STDY8062356-C9', 'Deep_WSSS8012016-C9', 'Deep_WSSS8011222-C9', 'Deep_WSSS_F_LNG8713176-C9', 'Deep_WSSS_F_LNG8713177-C9', 'Deep_WSSS_F_LNG8713178-C9', 'Deep_WSSS_F_LNG8713179-C9', 'Deep_WSSS_F_LNG8713180-C9', 'Deep_WSSS_F_LNG8713181-C9', 'Deep_WSSS_F_LNG8713184-C9', 'Deep_WSSS_F_LNG8713185-C9', 'Deep_WSSS_F_LNG8713186-C9', 'Deep_WSSS_F_LNG8713187-C9', 'Deep_WSSS_F_LNG8713188-C9', 'Deep_WSSS_F_LNG8713189-C9', 'Deep_WSSS_F_LNG8713190-C9', 'Deep_WSSS_F_LNG8713191-C9', 'Deep_5891STDY9030806-C9', 'Deep_5891STDY9030807-C9', 'Deep_5891STDY9030808-C9', 'Deep_5891STDY9030809-C9', 'Deep_5891STDY9030810-C9', 'Deep_n-C9'\n",
       "    uns: 'batch_colors', 'big_cluster_colors', 'broad_celltype_colors', 'chemistry_colors', 'phase_colors', 'rank_genes_groups_global'\n",
       "    obsm: 'X_pca', 'X_umap', 'X_umap_original'\n",
       "    layers: 'counts'"
      ]
     },
     "execution_count": 3,
     "metadata": {},
     "output_type": "execute_result"
    }
   ],
   "source": [
    "adata"
   ]
  },
  {
   "cell_type": "code",
   "execution_count": 4,
   "id": "db6b41b2-e923-4495-8d8d-814a540b2baf",
   "metadata": {
    "tags": []
   },
   "outputs": [],
   "source": [
    "scvi.model.SCVI.setup_anndata(adata, layer=\"counts\", batch_key=\"donor_id\")"
   ]
  },
  {
   "cell_type": "code",
   "execution_count": 9,
   "id": "a9a30c93-6a3e-4d82-8725-f34a7375692a",
   "metadata": {
    "tags": []
   },
   "outputs": [],
   "source": [
    "model = scvi.model.SCVI(adata, n_layers=2, n_latent=25, gene_likelihood=\"nb\")"
   ]
  },
  {
   "cell_type": "code",
   "execution_count": 10,
   "id": "080b93e7-2fe4-47d2-97c0-23a16a91afdc",
   "metadata": {
    "tags": []
   },
   "outputs": [
    {
     "name": "stderr",
     "output_type": "stream",
     "text": [
      "GPU available: True (cuda), used: True\n",
      "TPU available: False, using: 0 TPU cores\n",
      "IPU available: False, using: 0 IPUs\n",
      "HPU available: False, using: 0 HPUs\n",
      "LOCAL_RANK: 0 - CUDA_VISIBLE_DEVICES: [0]\n"
     ]
    },
    {
     "name": "stdout",
     "output_type": "stream",
     "text": [
      "Epoch 28/28: 100%|██████████| 28/28 [04:41<00:00,  9.99s/it, v_num=1, train_loss_step=667, train_loss_epoch=662]"
     ]
    },
    {
     "name": "stderr",
     "output_type": "stream",
     "text": [
      "`Trainer.fit` stopped: `max_epochs=28` reached.\n"
     ]
    },
    {
     "name": "stdout",
     "output_type": "stream",
     "text": [
      "Epoch 28/28: 100%|██████████| 28/28 [04:41<00:00, 10.05s/it, v_num=1, train_loss_step=667, train_loss_epoch=662]\n"
     ]
    }
   ],
   "source": [
    "model.train()"
   ]
  },
  {
   "cell_type": "code",
   "execution_count": 11,
   "id": "18a1a478-3c08-451a-9e01-27725fb309bf",
   "metadata": {
    "tags": []
   },
   "outputs": [],
   "source": [
    "SCVI_LATENT_KEY = \"X_scVI\"\n",
    "adata.obsm[SCVI_LATENT_KEY] = model.get_latent_representation()"
   ]
  },
  {
   "cell_type": "code",
   "execution_count": 12,
   "id": "a4a060f5-ee37-49f7-b6df-7c160457a1c1",
   "metadata": {
    "tags": []
   },
   "outputs": [
    {
     "name": "stderr",
     "output_type": "stream",
     "text": [
      "/tmp/ipykernel_274428/2529970008.py:2: FutureWarning: In the future, the default backend for leiden will be igraph instead of leidenalg.\n",
      "\n",
      " To achieve the future defaults please pass: flavor=\"igraph\" and n_iterations=2.  directed must also be False to work with igraph's implementation.\n",
      "  sc.tl.leiden(adata)\n"
     ]
    }
   ],
   "source": [
    "sc.pp.neighbors(adata, use_rep=SCVI_LATENT_KEY)\n",
    "sc.tl.leiden(adata)"
   ]
  },
  {
   "cell_type": "code",
   "execution_count": 13,
   "id": "e2f87534-714b-4354-912c-436c5f712c70",
   "metadata": {
    "tags": []
   },
   "outputs": [],
   "source": [
    "sc.tl.umap(adata)"
   ]
  },
  {
   "cell_type": "code",
   "execution_count": 14,
   "id": "887ead3a-9f87-48f3-9afd-698d81efc1d8",
   "metadata": {
    "tags": []
   },
   "outputs": [
    {
     "name": "stdout",
     "output_type": "stream",
     "text": [
      "\u001b[34mINFO    \u001b[0m Using cu\u001b[1;92mda:0\u001b[0m for `pymde.preserve_neighbors`.                                                              \n"
     ]
    }
   ],
   "source": [
    "SCVI_MDE_KEY = \"X_scVI_MDE\"\n",
    "adata.obsm[SCVI_MDE_KEY] = scvi.model.utils.mde(adata.obsm[SCVI_LATENT_KEY])"
   ]
  },
  {
   "cell_type": "code",
   "execution_count": 16,
   "id": "b7e85bfd-2cda-4076-b64a-0a0fec82dc4e",
   "metadata": {
    "tags": []
   },
   "outputs": [],
   "source": [
    "adata.write('/lustre/scratch127/cellgen/cellgeni/tickets/tic-3135/adata_scvi.h5ad', compression='gzip')"
   ]
  },
  {
   "cell_type": "code",
   "execution_count": null,
   "id": "66a220d7-02b8-4e89-a077-36921071e0c5",
   "metadata": {},
   "outputs": [],
   "source": []
  }
 ],
 "metadata": {
  "kernelspec": {
   "display_name": "_scVI",
   "language": "python",
   "name": "scvi"
  },
  "language_info": {
   "codemirror_mode": {
    "name": "ipython",
    "version": 3
   },
   "file_extension": ".py",
   "mimetype": "text/x-python",
   "name": "python",
   "nbconvert_exporter": "python",
   "pygments_lexer": "ipython3",
   "version": "3.11.9"
  }
 },
 "nbformat": 4,
 "nbformat_minor": 5
}
