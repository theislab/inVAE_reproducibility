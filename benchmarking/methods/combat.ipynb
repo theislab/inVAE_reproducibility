{
 "cells": [
  {
   "cell_type": "code",
   "execution_count": 1,
   "id": "b6ec6433-f7da-45d4-bd26-66f215634a43",
   "metadata": {
    "tags": []
   },
   "outputs": [],
   "source": [
    "import scanpy as sc\n",
    "import scanpy.external as sce"
   ]
  },
  {
   "cell_type": "code",
   "execution_count": 2,
   "id": "cb801215-b4a8-4575-a07e-4b56a379f716",
   "metadata": {
    "tags": []
   },
   "outputs": [],
   "source": [
    "adata = sc.read('/lustre/scratch126/cellgen/team292/ha10/data/Heart_Atlas/adata_Heart_Reichart_HV_train.h5ad')"
   ]
  },
  {
   "cell_type": "code",
   "execution_count": 3,
   "id": "a6d69b61-b017-4d1c-9bd8-ab0336f51433",
   "metadata": {
    "tags": []
   },
   "outputs": [
    {
     "data": {
      "text/plain": [
       "AnnData object with n_obs × n_vars = 284727 × 5000\n",
       "    obs: 'Sample', 'donor_id', 'Region_x', 'Primary.Genetic.Diagnosis', 'n_genes', 'n_counts', 'percent_mito', 'percent_ribo', 'scrublet_score_z', 'scrublet_score_log', 'solo_score', 'cell_states', 'Assigned', 'self_reported_ethnicity_ontology_term_id', 'disease_ontology_term_id', 'cell_type_ontology_term_id', 'sex_ontology_term_id', 'assay_ontology_term_id', 'organism_ontology_term_id', 'is_primary_data', 'tissue_ontology_term_id', 'development_stage_ontology_term_id', 'suspension_type', 'cell_type', 'assay', 'disease', 'organism', 'sex', 'tissue', 'self_reported_ethnicity', 'development_stage', 'disease_renamed'\n",
       "    var: 'feature_is_filtered', 'feature_name', 'feature_reference', 'feature_biotype', 'highly_variable', 'highly_variable_rank', 'means', 'variances', 'variances_norm', 'ENS'\n",
       "    uns: 'Primary.Genetic.Diagnosis_colors', 'Region_x_colors', 'cell_states_colors', 'cell_type_colors', 'cell_type_ontology_term_id_colors', 'disease_colors', 'hvg', 'leiden', 'neighbors', 'pca', 'schema_version', 'title', 'umap'\n",
       "    obsm: 'X_pca', 'X_umap'\n",
       "    layers: 'counts'"
      ]
     },
     "execution_count": 3,
     "metadata": {},
     "output_type": "execute_result"
    }
   ],
   "source": [
    "adata"
   ]
  },
  {
   "cell_type": "code",
   "execution_count": 4,
   "id": "e0ba1f2e-478d-44da-9ccd-4b0f89044a3d",
   "metadata": {},
   "outputs": [
    {
     "name": "stdout",
     "output_type": "stream",
     "text": [
      "Found 137 genes with zero variance.\n"
     ]
    },
    {
     "name": "stderr",
     "output_type": "stream",
     "text": [
      "/software/cellgen/team278/bc8/envs/scvi/lib/python3.11/site-packages/scanpy/preprocessing/_combat.py:352: RuntimeWarning: invalid value encountered in divide\n",
      "  (abs(g_new - g_old) / g_old).max(), (abs(d_new - d_old) / d_old).max()\n",
      "/software/cellgen/team278/bc8/envs/scvi/lib/python3.11/site-packages/scanpy/preprocessing/_combat.py:352: RuntimeWarning: divide by zero encountered in divide\n",
      "  (abs(g_new - g_old) / g_old).max(), (abs(d_new - d_old) / d_old).max()\n"
     ]
    }
   ],
   "source": [
    "sc.pp.combat(adata, key='donor_id')"
   ]
  },
  {
   "cell_type": "code",
   "execution_count": 7,
   "id": "d92bea4b-e00c-4b1a-ba71-bc2efc38e123",
   "metadata": {
    "tags": []
   },
   "outputs": [],
   "source": [
    "adata.write('/lustre/scratch127/cellgen/cellgeni/tickets/tic-3135/adata_combat_notfinal.h5ad', compression='gzip')"
   ]
  },
  {
   "cell_type": "code",
   "execution_count": 8,
   "id": "ac1bf9e7-5e79-44a4-8f85-37538613e861",
   "metadata": {
    "tags": []
   },
   "outputs": [],
   "source": [
    "sc.pp.pca(adata, n_comps=30, svd_solver='arpack')"
   ]
  },
  {
   "cell_type": "code",
   "execution_count": 9,
   "id": "7139f920-8cba-4e12-9468-fc43bc4a44ff",
   "metadata": {
    "tags": []
   },
   "outputs": [
    {
     "name": "stderr",
     "output_type": "stream",
     "text": [
      "/software/cellgen/team278/bc8/envs/scvi/lib/python3.11/site-packages/tqdm/auto.py:21: TqdmWarning: IProgress not found. Please update jupyter and ipywidgets. See https://ipywidgets.readthedocs.io/en/stable/user_install.html\n",
      "  from .autonotebook import tqdm as notebook_tqdm\n"
     ]
    }
   ],
   "source": [
    "sc.pp.neighbors(adata, n_pcs =30)"
   ]
  },
  {
   "cell_type": "code",
   "execution_count": 11,
   "id": "6ca90281-c910-4c0f-8398-3458a218ef8b",
   "metadata": {
    "tags": []
   },
   "outputs": [],
   "source": [
    "adata.write('/lustre/scratch127/cellgen/cellgeni/tickets/tic-3135/adata_combat_noumap.h5ad', compression='gzip')"
   ]
  },
  {
   "cell_type": "code",
   "execution_count": 12,
   "id": "9fd9c596-5bed-4856-97c5-dd8db32b3003",
   "metadata": {
    "tags": []
   },
   "outputs": [
    {
     "data": {
      "text/plain": [
       "AnnData object with n_obs × n_vars = 284727 × 5000\n",
       "    obs: 'Sample', 'donor_id', 'Region_x', 'Primary.Genetic.Diagnosis', 'n_genes', 'n_counts', 'percent_mito', 'percent_ribo', 'scrublet_score_z', 'scrublet_score_log', 'solo_score', 'cell_states', 'Assigned', 'self_reported_ethnicity_ontology_term_id', 'disease_ontology_term_id', 'cell_type_ontology_term_id', 'sex_ontology_term_id', 'assay_ontology_term_id', 'organism_ontology_term_id', 'is_primary_data', 'tissue_ontology_term_id', 'development_stage_ontology_term_id', 'suspension_type', 'cell_type', 'assay', 'disease', 'organism', 'sex', 'tissue', 'self_reported_ethnicity', 'development_stage', 'disease_renamed'\n",
       "    var: 'feature_is_filtered', 'feature_name', 'feature_reference', 'feature_biotype', 'highly_variable', 'highly_variable_rank', 'means', 'variances', 'variances_norm', 'ENS'\n",
       "    uns: 'Primary.Genetic.Diagnosis_colors', 'Region_x_colors', 'cell_states_colors', 'cell_type_colors', 'cell_type_ontology_term_id_colors', 'disease_colors', 'hvg', 'leiden', 'neighbors', 'pca', 'schema_version', 'title', 'umap'\n",
       "    obsm: 'X_pca', 'X_umap'\n",
       "    varm: 'PCs'\n",
       "    layers: 'counts'\n",
       "    obsp: 'distances', 'connectivities'"
      ]
     },
     "execution_count": 12,
     "metadata": {},
     "output_type": "execute_result"
    }
   ],
   "source": [
    "adata"
   ]
  },
  {
   "cell_type": "code",
   "execution_count": 13,
   "id": "341dfd84-e0e4-4d52-a9fa-1290ab256543",
   "metadata": {
    "tags": []
   },
   "outputs": [],
   "source": [
    "sc.tl.umap(adata)"
   ]
  },
  {
   "cell_type": "code",
   "execution_count": 14,
   "id": "e1692f03-1a9a-4eda-aa7c-39ef57506dd4",
   "metadata": {},
   "outputs": [
    {
     "data": {
      "text/plain": [
       "AnnData object with n_obs × n_vars = 284727 × 5000\n",
       "    obs: 'Sample', 'donor_id', 'Region_x', 'Primary.Genetic.Diagnosis', 'n_genes', 'n_counts', 'percent_mito', 'percent_ribo', 'scrublet_score_z', 'scrublet_score_log', 'solo_score', 'cell_states', 'Assigned', 'self_reported_ethnicity_ontology_term_id', 'disease_ontology_term_id', 'cell_type_ontology_term_id', 'sex_ontology_term_id', 'assay_ontology_term_id', 'organism_ontology_term_id', 'is_primary_data', 'tissue_ontology_term_id', 'development_stage_ontology_term_id', 'suspension_type', 'cell_type', 'assay', 'disease', 'organism', 'sex', 'tissue', 'self_reported_ethnicity', 'development_stage', 'disease_renamed'\n",
       "    var: 'feature_is_filtered', 'feature_name', 'feature_reference', 'feature_biotype', 'highly_variable', 'highly_variable_rank', 'means', 'variances', 'variances_norm', 'ENS'\n",
       "    uns: 'Primary.Genetic.Diagnosis_colors', 'Region_x_colors', 'cell_states_colors', 'cell_type_colors', 'cell_type_ontology_term_id_colors', 'disease_colors', 'hvg', 'leiden', 'neighbors', 'pca', 'schema_version', 'title', 'umap'\n",
       "    obsm: 'X_pca', 'X_umap'\n",
       "    varm: 'PCs'\n",
       "    layers: 'counts'\n",
       "    obsp: 'distances', 'connectivities'"
      ]
     },
     "execution_count": 14,
     "metadata": {},
     "output_type": "execute_result"
    }
   ],
   "source": [
    "adata"
   ]
  },
  {
   "cell_type": "code",
   "execution_count": 15,
   "id": "402a2c6e-e8d7-4fc0-868b-20c237331204",
   "metadata": {
    "tags": []
   },
   "outputs": [],
   "source": [
    "adata.write('/lustre/scratch127/cellgen/cellgeni/tickets/tic-3135/adata_combat.h5ad', compression='gzip')"
   ]
  },
  {
   "cell_type": "code",
   "execution_count": null,
   "id": "293ce47b-a4f0-4ca7-ad3d-3a90f28a98e5",
   "metadata": {},
   "outputs": [],
   "source": []
  }
 ],
 "metadata": {
  "kernelspec": {
   "display_name": "_scVI",
   "language": "python",
   "name": "scvi"
  },
  "language_info": {
   "codemirror_mode": {
    "name": "ipython",
    "version": 3
   },
   "file_extension": ".py",
   "mimetype": "text/x-python",
   "name": "python",
   "nbconvert_exporter": "python",
   "pygments_lexer": "ipython3",
   "version": "3.11.9"
  }
 },
 "nbformat": 4,
 "nbformat_minor": 5
}
