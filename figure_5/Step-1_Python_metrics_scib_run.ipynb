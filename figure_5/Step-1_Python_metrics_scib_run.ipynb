{
 "cells": [
  {
   "cell_type": "code",
   "execution_count": 2,
   "id": "protected-latitude",
   "metadata": {},
   "outputs": [],
   "source": [
    "import scib"
   ]
  },
  {
   "cell_type": "code",
   "execution_count": 3,
   "id": "focal-breeding",
   "metadata": {},
   "outputs": [
    {
     "data": {
      "text/plain": [
       "'1.1.5'"
      ]
     },
     "execution_count": 3,
     "metadata": {},
     "output_type": "execute_result"
    }
   ],
   "source": [
    "scib.__version__"
   ]
  },
  {
   "cell_type": "code",
   "execution_count": 4,
   "id": "flying-queen",
   "metadata": {},
   "outputs": [],
   "source": [
    "import scanpy as sc"
   ]
  },
  {
   "cell_type": "code",
   "execution_count": 5,
   "id": "eligible-municipality",
   "metadata": {},
   "outputs": [],
   "source": [
    "adata_invae = sc.read_h5ad('/lustre/scratch126/cellgen/team205/dp26/Lung_5loc/invae/result/adata_train_Combat_processed.h5ad')\n",
    "adata_scanvi = sc.read_h5ad(\"/lustre/scratch126/cellgen/team292/ha10/data/Spatial_Lung/adata_train_scANVI_processed.h5ad\")\n",
    "adata_scanvi = adata_scanvi[adata_invae.obs_names]\n",
    "adata_invae.obsm['X_scANVI'] = adata_scanvi.obsm['X_scANVI']\n",
    "adata_invae.obsm['X_scVI'] = adata_scanvi.obsm['X_scVI']\n",
    "adata_scpoli = sc.read_h5ad('/lustre/scratch126/cellgen/team205/dp26/Lung_5loc/invae/result/adata_train_inVAE_scPoli_processed.h5ad')\n",
    "adata_invae.obsm['X_scPoli'] = adata_scpoli.obsm['X_scPoli']"
   ]
  },
  {
   "cell_type": "code",
   "execution_count": 6,
   "id": "unknown-bedroom",
   "metadata": {},
   "outputs": [],
   "source": [
    "adata_invae.obs['Loc_celltype'] = adata_invae.obs['Loc_true'].astype(str) + '_' + adata_invae.obs['Celltypes_master_higher_immune'].astype(str)"
   ]
  },
  {
   "cell_type": "code",
   "execution_count": 7,
   "id": "verified-marketplace",
   "metadata": {},
   "outputs": [],
   "source": [
    "adata_invae.obs['Loc_celltype'] = adata_invae.obs['Loc_celltype'].astype('category')"
   ]
  },
  {
   "cell_type": "code",
   "execution_count": 8,
   "id": "continued-italic",
   "metadata": {},
   "outputs": [
    {
     "data": {
      "text/plain": [
       "AnnData object with n_obs × n_vars = 46325 × 4000\n",
       "    obs: 'Celltypes', 'Celltypes_master_high', 'Celltypes_master_higher', 'Celltypes_master_higher_immune', 'Loc_true', 'Material', 'Donor', 'Donor_ID_2', 'Gender', 'Sample', 'ID', 'Protocol_plot', 'Version', 'Study', 'PoolDon', 'DonorPool', 'scDonor_snBatch', 'n_counts', 'Loc_celltype'\n",
       "    var: 'gene_ids', 'feature_types', 'n_cells', 'highly_variable', 'means', 'dispersions', 'dispersions_norm', 'highly_variable_nbatches', 'highly_variable_intersection'\n",
       "    uns: 'Celltypes_colors', 'Donor_colors', 'Loc_true_colors', 'PoolDon_colors', 'hvg', 'log1p', 'neighbors', 'pca', 'umap'\n",
       "    obsm: 'X_FinVAE', 'X_pca', 'X_pca_combat', 'X_umap'\n",
       "    varm: 'PCs'\n",
       "    layers: 'counts'\n",
       "    obsp: 'connectivities', 'distances'"
      ]
     },
     "execution_count": 8,
     "metadata": {},
     "output_type": "execute_result"
    }
   ],
   "source": [
    "adata_invae"
   ]
  },
  {
   "cell_type": "code",
   "execution_count": 9,
   "id": "registered-receipt",
   "metadata": {},
   "outputs": [],
   "source": [
    "sc.tl.pca(adata_invae)\n",
    "sc.pp.neighbors(adata_invae, use_rep=\"X_pca\")"
   ]
  },
  {
   "cell_type": "code",
   "execution_count": 10,
   "id": "catholic-enclosure",
   "metadata": {},
   "outputs": [],
   "source": [
    "adata_invae.write_h5ad(\"/lustre/scratch126/cellgen/team205/dp26/Lung_5loc/invae/result/adata_train_Combat_PCA_processed.h5ad\")"
   ]
  },
  {
   "cell_type": "code",
   "execution_count": 9,
   "id": "analyzed-collar",
   "metadata": {},
   "outputs": [
    {
     "name": "stderr",
     "output_type": "stream",
     "text": [
      "/home/jovyan/my-conda-envs/general/lib/python3.8/site-packages/umap/distances.py:1063: NumbaDeprecationWarning: The 'nopython' keyword argument was not supplied to the 'numba.jit' decorator. The implicit default value for this argument is currently False, but it will be changed to True in Numba 0.59.0. See https://numba.readthedocs.io/en/stable/reference/deprecation.html#deprecation-of-object-mode-fall-back-behaviour-when-using-jit for details.\n",
      "  @numba.jit()\n",
      "/home/jovyan/my-conda-envs/general/lib/python3.8/site-packages/umap/distances.py:1071: NumbaDeprecationWarning: The 'nopython' keyword argument was not supplied to the 'numba.jit' decorator. The implicit default value for this argument is currently False, but it will be changed to True in Numba 0.59.0. See https://numba.readthedocs.io/en/stable/reference/deprecation.html#deprecation-of-object-mode-fall-back-behaviour-when-using-jit for details.\n",
      "  @numba.jit()\n",
      "/home/jovyan/my-conda-envs/general/lib/python3.8/site-packages/umap/distances.py:1086: NumbaDeprecationWarning: The 'nopython' keyword argument was not supplied to the 'numba.jit' decorator. The implicit default value for this argument is currently False, but it will be changed to True in Numba 0.59.0. See https://numba.readthedocs.io/en/stable/reference/deprecation.html#deprecation-of-object-mode-fall-back-behaviour-when-using-jit for details.\n",
      "  @numba.jit()\n",
      "/home/jovyan/my-conda-envs/general/lib/python3.8/site-packages/umap/umap_.py:660: NumbaDeprecationWarning: The 'nopython' keyword argument was not supplied to the 'numba.jit' decorator. The implicit default value for this argument is currently False, but it will be changed to True in Numba 0.59.0. See https://numba.readthedocs.io/en/stable/reference/deprecation.html#deprecation-of-object-mode-fall-back-behaviour-when-using-jit for details.\n",
      "  @numba.jit()\n",
      "2024-10-07 18:55:49.208897: I tensorflow/core/platform/cpu_feature_guard.cc:193] This TensorFlow binary is optimized with oneAPI Deep Neural Network Library (oneDNN) to use the following CPU instructions in performance-critical operations:  AVX2 FMA\n",
      "To enable them in other operations, rebuild TensorFlow with the appropriate compiler flags.\n",
      "2024-10-07 18:55:55.571113: W tensorflow/compiler/xla/stream_executor/platform/default/dso_loader.cc:64] Could not load dynamic library 'libnvinfer.so.7'; dlerror: libnvinfer.so.7: cannot open shared object file: No such file or directory; LD_LIBRARY_PATH: /usr/lib/R/lib:/lib:/usr/lib/x86_64-linux-gnu:/usr/lib/jvm/java-8-openjdk-amd64/jre/lib/amd64/server\n",
      "2024-10-07 18:55:55.571301: W tensorflow/compiler/xla/stream_executor/platform/default/dso_loader.cc:64] Could not load dynamic library 'libnvinfer_plugin.so.7'; dlerror: libnvinfer_plugin.so.7: cannot open shared object file: No such file or directory; LD_LIBRARY_PATH: /usr/lib/R/lib:/lib:/usr/lib/x86_64-linux-gnu:/usr/lib/jvm/java-8-openjdk-amd64/jre/lib/amd64/server\n",
      "2024-10-07 18:55:55.571318: W tensorflow/compiler/tf2tensorrt/utils/py_utils.cc:38] TF-TRT Warning: Cannot dlopen some TensorRT libraries. If you would like to use Nvidia GPU with TensorRT, please make sure the missing libraries mentioned above are installed properly.\n"
     ]
    }
   ],
   "source": [
    "sc.pp.neighbors(adata_invae, use_rep=\"X_FinVAE\")\n",
    "sc.tl.leiden(adata_invae,resolution=0.6)"
   ]
  },
  {
   "cell_type": "code",
   "execution_count": 14,
   "id": "focused-diving",
   "metadata": {},
   "outputs": [],
   "source": [
    "results = {}"
   ]
  },
  {
   "cell_type": "code",
   "execution_count": 15,
   "id": "prerequisite-roman",
   "metadata": {},
   "outputs": [],
   "source": [
    "embed = 'X_FinVAE'"
   ]
  },
  {
   "cell_type": "code",
   "execution_count": 16,
   "id": "focal-robin",
   "metadata": {},
   "outputs": [],
   "source": [
    "results[embed] = {}"
   ]
  },
  {
   "cell_type": "code",
   "execution_count": 20,
   "id": "pointed-horizontal",
   "metadata": {},
   "outputs": [
    {
     "name": "stderr",
     "output_type": "stream",
     "text": [
      "/home/jovyan/my-conda-envs/general/lib/python3.8/site-packages/scib-1.1.5-py3.8.egg/scib/metrics/lisi.py:172: UserWarning: 'batch_key' is deprecated and will be ignore\n",
      "  warnings.warn(\"'batch_key' is deprecated and will be ignore\", stacklevel=1)\n"
     ]
    }
   ],
   "source": [
    "results[embed]['KMeans NMI'] = scib.me.nmi(adata_invae, cluster_key=\"leiden\", label_key=\"Loc_celltype\")\n",
    "results[embed]['KMeans ARI'] = scib.me.ari(adata_invae, cluster_key=\"leiden\", label_key=\"Loc_celltype\") \n",
    "results[embed]['Silhouette label'] = scib.me.silhouette(adata_invae, label_key=\"Loc_celltype\", embed=embed, metric='euclidean', scale=True)\n",
    "results[embed]['cLISI'] = scib.me.clisi_graph(adata_invae,batch_key=\"PoolDon\", type_='knn', use_rep=embed,label_key=\"Loc_celltype\")\n",
    "results[embed]['Silhouette batch'] = scib.me.silhouette_batch(adata_invae, batch_key=\"PoolDon\", label_key=\"Loc_celltype\", embed=embed, metric='euclidean', return_all=False, scale=True, verbose=False)\n",
    "results[embed]['Graph connectivity'] = scib.me.graph_connectivity(adata_invae, label_key=\"Loc_celltype\")\n",
    "results[embed]['Isolated labels'] = scib.me.isolated_labels(adata_invae, batch_key=\"PoolDon\", embed=embed,label_key='Loc_true',iso_threshold=6,cluster_key='leiden',resolutions=[0.6])"
   ]
  },
  {
   "cell_type": "code",
   "execution_count": 24,
   "id": "potential-partner",
   "metadata": {},
   "outputs": [],
   "source": [
    "sc.pp.neighbors(adata_invae, use_rep=\"X_scANVI\")\n",
    "sc.tl.leiden(adata_invae,resolution=0.6)"
   ]
  },
  {
   "cell_type": "code",
   "execution_count": 25,
   "id": "vulnerable-ontario",
   "metadata": {},
   "outputs": [],
   "source": [
    "embed = 'X_scANVI'"
   ]
  },
  {
   "cell_type": "code",
   "execution_count": 26,
   "id": "material-signal",
   "metadata": {},
   "outputs": [],
   "source": [
    "results[embed] = {}"
   ]
  },
  {
   "cell_type": "code",
   "execution_count": 27,
   "id": "organic-finder",
   "metadata": {},
   "outputs": [
    {
     "name": "stderr",
     "output_type": "stream",
     "text": [
      "/home/jovyan/my-conda-envs/general/lib/python3.8/site-packages/scib-1.1.5-py3.8.egg/scib/metrics/lisi.py:172: UserWarning: 'batch_key' is deprecated and will be ignore\n",
      "  warnings.warn(\"'batch_key' is deprecated and will be ignore\", stacklevel=1)\n"
     ]
    }
   ],
   "source": [
    "results[embed]['KMeans NMI'] = scib.me.nmi(adata_invae, cluster_key=\"leiden\", label_key=\"Loc_celltype\")\n",
    "results[embed]['KMeans ARI'] = scib.me.ari(adata_invae, cluster_key=\"leiden\", label_key=\"Loc_celltype\") \n",
    "results[embed]['Silhouette label'] = scib.me.silhouette(adata_invae, label_key=\"Loc_celltype\", embed=embed, metric='euclidean', scale=True)\n",
    "results[embed]['cLISI'] = scib.me.clisi_graph(adata_invae,batch_key=\"PoolDon\", type_='knn', use_rep=embed,label_key=\"Loc_celltype\")\n",
    "results[embed]['Silhouette batch'] = scib.me.silhouette_batch(adata_invae, batch_key=\"PoolDon\", label_key=\"Loc_celltype\", embed=embed, metric='euclidean', return_all=False, scale=True, verbose=False)\n",
    "results[embed]['Graph connectivity'] = scib.me.graph_connectivity(adata_invae, label_key=\"Loc_celltype\")\n",
    "results[embed]['Isolated labels'] = scib.me.isolated_labels(adata_invae, batch_key=\"PoolDon\", embed=embed,label_key='Loc_true',iso_threshold=6,cluster_key='leiden',resolutions=[0.6])"
   ]
  },
  {
   "cell_type": "code",
   "execution_count": 31,
   "id": "conditional-recipient",
   "metadata": {},
   "outputs": [],
   "source": [
    "sc.pp.neighbors(adata_invae, use_rep=\"X_pca_combat\")\n",
    "sc.tl.leiden(adata_invae,resolution=0.6)"
   ]
  },
  {
   "cell_type": "code",
   "execution_count": 32,
   "id": "democratic-bennett",
   "metadata": {},
   "outputs": [],
   "source": [
    "embed = 'X_pca_combat'"
   ]
  },
  {
   "cell_type": "code",
   "execution_count": 33,
   "id": "white-billion",
   "metadata": {},
   "outputs": [],
   "source": [
    "results[embed] = {}"
   ]
  },
  {
   "cell_type": "code",
   "execution_count": 34,
   "id": "thrown-distributor",
   "metadata": {},
   "outputs": [
    {
     "name": "stderr",
     "output_type": "stream",
     "text": [
      "/home/jovyan/my-conda-envs/general/lib/python3.8/site-packages/scib-1.1.5-py3.8.egg/scib/metrics/lisi.py:172: UserWarning: 'batch_key' is deprecated and will be ignore\n",
      "  warnings.warn(\"'batch_key' is deprecated and will be ignore\", stacklevel=1)\n"
     ]
    }
   ],
   "source": [
    "results[embed]['KMeans NMI'] = scib.me.nmi(adata_invae, cluster_key=\"leiden\", label_key=\"Loc_celltype\")\n",
    "results[embed]['KMeans ARI'] = scib.me.ari(adata_invae, cluster_key=\"leiden\", label_key=\"Loc_celltype\") \n",
    "results[embed]['Silhouette label'] = scib.me.silhouette(adata_invae, label_key=\"Loc_celltype\", embed=embed, metric='euclidean', scale=True)\n",
    "results[embed]['cLISI'] = scib.me.clisi_graph(adata_invae,batch_key=\"PoolDon\", type_='knn', use_rep=embed,label_key=\"Loc_celltype\")\n",
    "results[embed]['Silhouette batch'] = scib.me.silhouette_batch(adata_invae, batch_key=\"PoolDon\", label_key=\"Loc_celltype\", embed=embed, metric='euclidean', return_all=False, scale=True, verbose=False)\n",
    "results[embed]['Graph connectivity'] = scib.me.graph_connectivity(adata_invae, label_key=\"Loc_celltype\")\n",
    "results[embed]['Isolated labels'] = scib.me.isolated_labels(adata_invae, batch_key=\"PoolDon\", embed=embed,label_key='Loc_true',iso_threshold=6,cluster_key='leiden',resolutions=[0.6])"
   ]
  },
  {
   "cell_type": "code",
   "execution_count": null,
   "id": "disciplinary-folks",
   "metadata": {},
   "outputs": [],
   "source": []
  },
  {
   "cell_type": "code",
   "execution_count": 39,
   "id": "basic-criterion",
   "metadata": {},
   "outputs": [],
   "source": [
    "sc.pp.neighbors(adata_invae, use_rep=\"X_scPoli\")\n",
    "sc.tl.leiden(adata_invae,resolution=0.6)"
   ]
  },
  {
   "cell_type": "code",
   "execution_count": 40,
   "id": "contemporary-airplane",
   "metadata": {},
   "outputs": [],
   "source": [
    "embed = 'X_scPoli'"
   ]
  },
  {
   "cell_type": "code",
   "execution_count": 41,
   "id": "fleet-decision",
   "metadata": {},
   "outputs": [],
   "source": [
    "results[embed] = {}"
   ]
  },
  {
   "cell_type": "code",
   "execution_count": 42,
   "id": "sudden-infrared",
   "metadata": {},
   "outputs": [
    {
     "name": "stderr",
     "output_type": "stream",
     "text": [
      "/home/jovyan/my-conda-envs/general/lib/python3.8/site-packages/scib-1.1.5-py3.8.egg/scib/metrics/lisi.py:172: UserWarning: 'batch_key' is deprecated and will be ignore\n",
      "  warnings.warn(\"'batch_key' is deprecated and will be ignore\", stacklevel=1)\n"
     ]
    }
   ],
   "source": [
    "results[embed]['KMeans NMI'] = scib.me.nmi(adata_invae, cluster_key=\"leiden\", label_key=\"Loc_celltype\")\n",
    "results[embed]['KMeans ARI'] = scib.me.ari(adata_invae, cluster_key=\"leiden\", label_key=\"Loc_celltype\") \n",
    "results[embed]['Silhouette label'] = scib.me.silhouette(adata_invae, label_key=\"Loc_celltype\", embed=embed, metric='euclidean', scale=True)\n",
    "results[embed]['cLISI'] = scib.me.clisi_graph(adata_invae,batch_key=\"PoolDon\", type_='knn', use_rep=embed,label_key=\"Loc_celltype\")\n",
    "results[embed]['Silhouette batch'] = scib.me.silhouette_batch(adata_invae, batch_key=\"PoolDon\", label_key=\"Loc_celltype\", embed=embed, metric='euclidean', return_all=False, scale=True, verbose=False)\n",
    "results[embed]['Graph connectivity'] = scib.me.graph_connectivity(adata_invae, label_key=\"Loc_celltype\")\n",
    "results[embed]['Isolated labels'] = scib.me.isolated_labels(adata_invae, batch_key=\"PoolDon\", embed=embed,label_key='Loc_true',iso_threshold=6,cluster_key='leiden',resolutions=[0.6])"
   ]
  },
  {
   "cell_type": "code",
   "execution_count": 45,
   "id": "accessory-ecuador",
   "metadata": {},
   "outputs": [],
   "source": [
    "sc.pp.neighbors(adata_invae, use_rep=\"X_scVI\")\n",
    "sc.tl.leiden(adata_invae,resolution=0.6)"
   ]
  },
  {
   "cell_type": "code",
   "execution_count": 46,
   "id": "organizational-juvenile",
   "metadata": {},
   "outputs": [],
   "source": [
    "embed = 'X_scVI'"
   ]
  },
  {
   "cell_type": "code",
   "execution_count": 47,
   "id": "limited-china",
   "metadata": {},
   "outputs": [],
   "source": [
    "results[embed] = {}"
   ]
  },
  {
   "cell_type": "code",
   "execution_count": 48,
   "id": "partial-jacket",
   "metadata": {},
   "outputs": [
    {
     "name": "stderr",
     "output_type": "stream",
     "text": [
      "/home/jovyan/my-conda-envs/general/lib/python3.8/site-packages/scib-1.1.5-py3.8.egg/scib/metrics/lisi.py:172: UserWarning: 'batch_key' is deprecated and will be ignore\n",
      "  warnings.warn(\"'batch_key' is deprecated and will be ignore\", stacklevel=1)\n"
     ]
    }
   ],
   "source": [
    "results[embed]['KMeans NMI'] = scib.me.nmi(adata_invae, cluster_key=\"leiden\", label_key=\"Loc_celltype\")\n",
    "results[embed]['KMeans ARI'] = scib.me.ari(adata_invae, cluster_key=\"leiden\", label_key=\"Loc_celltype\") \n",
    "results[embed]['Silhouette label'] = scib.me.silhouette(adata_invae, label_key=\"Loc_celltype\", embed=embed, metric='euclidean', scale=True)\n",
    "results[embed]['cLISI'] = scib.me.clisi_graph(adata_invae,batch_key=\"PoolDon\", type_='knn', use_rep=embed,label_key=\"Loc_celltype\")\n",
    "results[embed]['Silhouette batch'] = scib.me.silhouette_batch(adata_invae, batch_key=\"PoolDon\", label_key=\"Loc_celltype\", embed=embed, metric='euclidean', return_all=False, scale=True, verbose=False)\n",
    "results[embed]['Graph connectivity'] = scib.me.graph_connectivity(adata_invae, label_key=\"Loc_celltype\")\n",
    "results[embed]['Isolated labels'] = scib.me.isolated_labels(adata_invae, batch_key=\"PoolDon\", embed=embed,label_key='Loc_true',iso_threshold=6,cluster_key='leiden',resolutions=[0.6])"
   ]
  },
  {
   "cell_type": "code",
   "execution_count": 11,
   "id": "willing-activation",
   "metadata": {},
   "outputs": [
    {
     "name": "stderr",
     "output_type": "stream",
     "text": [
      "/home/jovyan/my-conda-envs/general/lib/python3.8/site-packages/umap/distances.py:1063: NumbaDeprecationWarning: The 'nopython' keyword argument was not supplied to the 'numba.jit' decorator. The implicit default value for this argument is currently False, but it will be changed to True in Numba 0.59.0. See https://numba.readthedocs.io/en/stable/reference/deprecation.html#deprecation-of-object-mode-fall-back-behaviour-when-using-jit for details.\n",
      "  @numba.jit()\n",
      "/home/jovyan/my-conda-envs/general/lib/python3.8/site-packages/umap/distances.py:1071: NumbaDeprecationWarning: The 'nopython' keyword argument was not supplied to the 'numba.jit' decorator. The implicit default value for this argument is currently False, but it will be changed to True in Numba 0.59.0. See https://numba.readthedocs.io/en/stable/reference/deprecation.html#deprecation-of-object-mode-fall-back-behaviour-when-using-jit for details.\n",
      "  @numba.jit()\n",
      "/home/jovyan/my-conda-envs/general/lib/python3.8/site-packages/umap/distances.py:1086: NumbaDeprecationWarning: The 'nopython' keyword argument was not supplied to the 'numba.jit' decorator. The implicit default value for this argument is currently False, but it will be changed to True in Numba 0.59.0. See https://numba.readthedocs.io/en/stable/reference/deprecation.html#deprecation-of-object-mode-fall-back-behaviour-when-using-jit for details.\n",
      "  @numba.jit()\n",
      "/home/jovyan/my-conda-envs/general/lib/python3.8/site-packages/umap/umap_.py:660: NumbaDeprecationWarning: The 'nopython' keyword argument was not supplied to the 'numba.jit' decorator. The implicit default value for this argument is currently False, but it will be changed to True in Numba 0.59.0. See https://numba.readthedocs.io/en/stable/reference/deprecation.html#deprecation-of-object-mode-fall-back-behaviour-when-using-jit for details.\n",
      "  @numba.jit()\n",
      "2024-10-10 12:11:20.103962: I tensorflow/core/platform/cpu_feature_guard.cc:193] This TensorFlow binary is optimized with oneAPI Deep Neural Network Library (oneDNN) to use the following CPU instructions in performance-critical operations:  AVX2 FMA\n",
      "To enable them in other operations, rebuild TensorFlow with the appropriate compiler flags.\n",
      "2024-10-10 12:11:29.476180: W tensorflow/compiler/xla/stream_executor/platform/default/dso_loader.cc:64] Could not load dynamic library 'libnvinfer.so.7'; dlerror: libnvinfer.so.7: cannot open shared object file: No such file or directory; LD_LIBRARY_PATH: /usr/lib/R/lib:/lib:/usr/lib/x86_64-linux-gnu:/usr/lib/jvm/java-8-openjdk-amd64/jre/lib/amd64/server\n",
      "2024-10-10 12:11:29.486326: W tensorflow/compiler/xla/stream_executor/platform/default/dso_loader.cc:64] Could not load dynamic library 'libnvinfer_plugin.so.7'; dlerror: libnvinfer_plugin.so.7: cannot open shared object file: No such file or directory; LD_LIBRARY_PATH: /usr/lib/R/lib:/lib:/usr/lib/x86_64-linux-gnu:/usr/lib/jvm/java-8-openjdk-amd64/jre/lib/amd64/server\n",
      "2024-10-10 12:11:29.486345: W tensorflow/compiler/tf2tensorrt/utils/py_utils.cc:38] TF-TRT Warning: Cannot dlopen some TensorRT libraries. If you would like to use Nvidia GPU with TensorRT, please make sure the missing libraries mentioned above are installed properly.\n"
     ]
    }
   ],
   "source": [
    "sc.pp.neighbors(adata_invae, use_rep=\"X_pca\")\n",
    "sc.tl.leiden(adata_invae,resolution=0.6)"
   ]
  },
  {
   "cell_type": "code",
   "execution_count": 13,
   "id": "emotional-alexander",
   "metadata": {},
   "outputs": [],
   "source": [
    "embed = 'X_pca'"
   ]
  },
  {
   "cell_type": "code",
   "execution_count": 14,
   "id": "perceived-flower",
   "metadata": {},
   "outputs": [],
   "source": [
    "results[embed] = {}"
   ]
  },
  {
   "cell_type": "code",
   "execution_count": 15,
   "id": "controversial-bennett",
   "metadata": {
    "tags": []
   },
   "outputs": [
    {
     "name": "stderr",
     "output_type": "stream",
     "text": [
      "/home/jovyan/my-conda-envs/general/lib/python3.8/site-packages/scib-1.1.5-py3.8.egg/scib/metrics/lisi.py:172: UserWarning: 'batch_key' is deprecated and will be ignore\n",
      "  warnings.warn(\"'batch_key' is deprecated and will be ignore\", stacklevel=1)\n"
     ]
    }
   ],
   "source": [
    "results[embed]['KMeans NMI'] = scib.me.nmi(adata_invae, cluster_key=\"leiden\", label_key=\"Loc_celltype\")\n",
    "results[embed]['KMeans ARI'] = scib.me.ari(adata_invae, cluster_key=\"leiden\", label_key=\"Loc_celltype\") \n",
    "results[embed]['Silhouette label'] = scib.me.silhouette(adata_invae, label_key=\"Loc_celltype\", embed=embed, metric='euclidean', scale=True)\n",
    "results[embed]['cLISI'] = scib.me.clisi_graph(adata_invae,batch_key=\"PoolDon\", type_='knn', use_rep=embed,label_key=\"Loc_celltype\")\n",
    "results[embed]['Silhouette batch'] = scib.me.silhouette_batch(adata_invae, batch_key=\"PoolDon\", label_key=\"Loc_celltype\", embed=embed, metric='euclidean', return_all=False, scale=True, verbose=False)\n",
    "results[embed]['Graph connectivity'] = scib.me.graph_connectivity(adata_invae, label_key=\"Loc_celltype\")\n",
    "results[embed]['Isolated labels'] = scib.me.isolated_labels(adata_invae, batch_key=\"PoolDon\", embed=embed,label_key='Loc_true',iso_threshold=6,cluster_key='leiden',resolutions=[0.6])"
   ]
  },
  {
   "cell_type": "code",
   "execution_count": 52,
   "id": "manufactured-transsexual",
   "metadata": {},
   "outputs": [],
   "source": [
    "import json\n",
    "# Specify the file path where you want to save the JSON file\n",
    "file_path = \"scib_comparison_results.json\"\n",
    "\n",
    "# Save the dictionary to a JSON file\n",
    "with open(file_path, 'w') as json_file:\n",
    "    json.dump(results, json_file, indent=4) "
   ]
  },
  {
   "cell_type": "code",
   "execution_count": null,
   "id": "moving-foundation",
   "metadata": {},
   "outputs": [],
   "source": []
  }
 ],
 "metadata": {
  "kernelspec": {
   "display_name": "Python (MyEnv)",
   "language": "python",
   "name": "general"
  },
  "language_info": {
   "codemirror_mode": {
    "name": "ipython",
    "version": 3
   },
   "file_extension": ".py",
   "mimetype": "text/x-python",
   "name": "python",
   "nbconvert_exporter": "python",
   "pygments_lexer": "ipython3",
   "version": "3.8.17"
  }
 },
 "nbformat": 4,
 "nbformat_minor": 5
}
